{
 "cells": [
  {
   "cell_type": "markdown",
   "id": "17be0229-cb4c-4760-b21b-af5b792a2a04",
   "metadata": {},
   "source": [
    "# **Introduction to K-Means Clustering**\n",
    "[1. Analyticsvidhya](https://www.analyticsvidhya.com/blog/2019/08/comprehensive-guide-k-means-clustering/)\n",
    "\n",
    "First property of clusters – it states that the points within a cluster should be similar to each other. **So, our aim here is to minimize the distance between the points within a cluster.**\n",
    "\n",
    "There is an algorithm that tries to minimize the distance of the points in a cluster with their centroid – the k-means clustering technique.\n",
    "\n",
    "K-means is a centroid-based algorithm, or a distance-based algorithm, where we calculate the distances to assign a point to a cluster. In K-Means, each cluster is associated with a centroid.\n",
    "\n",
    "**The main objective of the K-Means algorithm is to minimize the sum of distances between the points and their respective cluster centroid.**\n",
    "\n",
    "Let’s now take an example to understand how K-Means actually works:\n",
    "\n",
    "<img src = \"https://cdn.analyticsvidhya.com/wp-content/uploads/2019/08/Screenshot-from-2019-08-09-12-21-43.png\">\n",
    "\n",
    "We have these 8 points and we want to apply k-means to create clusters for these points. Here’s how we can do it.\n",
    "\n",
    "**Step 1: Choose the number of clusters k**: \n",
    "The first step in k-means is to pick the number of clusters, k.\n",
    "\n",
    "**Step 2: Select k random points from the data as centroids**: \n",
    "Next, we randomly select the centroid for each cluster. Let’s say we want to have 2 clusters, so k is equal to 2 here. We then randomly select the centroid:\n",
    "\n",
    "<img src = \"https://cdn.analyticsvidhya.com/wp-content/uploads/2019/08/Screenshot-from-2019-08-09-12-23-55.png\">\n",
    "\n",
    "Here, the red and green circles represent the centroid for these clusters.\n",
    "\n",
    "**Step 3: Assign all the points to the closest cluster centroid**: \n",
    "Once we have initialized the centroids, we assign each point to the closest cluster centroid:\n",
    "\n",
    "<img src =\"https://cdn.analyticsvidhya.com/wp-content/uploads/2019/08/Screenshot-from-2019-08-09-12-24-35.png\">\n",
    "\n",
    "Here you can see that the points which are closer to the red point are assigned to the red cluster whereas the points which are closer to the green point are assigned to the green cluster.\n",
    "\n",
    "**Step 4: Recompute the centroids of newly formed clusters**\n",
    "Now, once we have assigned all of the points to either cluster, the next step is to compute the centroids of newly formed clusters:\n",
    "\n",
    "<img src =\"https://cdn.analyticsvidhya.com/wp-content/uploads/2019/08/Screenshot-from-2019-08-09-12-26-59.png\">\n",
    "\n",
    "**Step 5: Repeat steps 3 and 4**\n",
    "We then repeat steps 3 and 4:\n",
    "\n",
    "<img src =\"https://cdn.analyticsvidhya.com/wp-content/uploads/2019/08/Screenshot-from-2019-08-09-12-28-14.png\">\n",
    "\n",
    "The step of computing the centroid and assigning all the points to the cluster based on their distance from the centroid is a single iteration. But wait – when should we stop this process? It can’t run till eternity, right?\n",
    "\n",
    "## Stopping Criteria for K-Means Clustering\n",
    "There are essentially three stopping criteria that can be adopted to stop the K-means algorithm:\n",
    "\n",
    "Centroids of newly formed clusters do not change\n",
    "Points remain in the same cluster\n",
    "Maximum number of iterations are reached\n",
    "We can stop the algorithm if the centroids of newly formed clusters are not changing. Even after multiple iterations, if we are getting the same centroids for all the clusters, we can say that the algorithm is not learning any new pattern and it is a sign to stop the training.\n",
    "\n",
    "Another clear sign that we should stop the training process if the points remain in the same cluster even after training the algorithm for multiple iterations.\n",
    "\n",
    "Finally, we can stop the training if the maximum number of iterations is reached. Suppose if we have set the number of iterations as 100. The process will repeat for 100 iterations before stopping\n"
   ]
  },
  {
   "cell_type": "markdown",
   "id": "9e7a245f-3341-43c1-91c0-cd3c4a62caf7",
   "metadata": {},
   "source": [
    "# Challenges with the K-Means Clustering Algorithm\n",
    "\n",
    "**One of the common challenges we face while working with K-Means is that the size of clusters is different**. Let’s say we have the below points:\n",
    "\n",
    "<img src = \"https://cdn.analyticsvidhya.com/wp-content/uploads/2019/08/Screenshot-from-2019-08-09-13-14-37.png\">\n",
    "\n",
    "The left and the rightmost clusters are of smaller size compared to the central cluster. Now, if we apply k-means clustering on these points, the results will be something like this:\n",
    "\n",
    "<img src = \"https://cdn.analyticsvidhya.com/wp-content/uploads/2019/08/Screenshot-from-2019-08-09-13-15-26.png\">\n",
    "\n",
    "Another challenge with k-means is when the densities of the original points are different. Let’s say these are the original points:\n",
    "\n",
    "<img src = \"https://cdn.analyticsvidhya.com/wp-content/uploads/2019/08/Screenshot-from-2019-08-09-13-16-01.png\">\n",
    "\n",
    "Here, the points in the red cluster are spread out whereas the points in the remaining clusters are closely packed together. Now, if we apply k-means on these points, we will get clusters like this:\n",
    "\n",
    "<img src = \"https://cdn.analyticsvidhya.com/wp-content/uploads/2019/08/Screenshot-from-2019-08-09-13-19-05.png\">\n",
    "\n",
    "We can see that the compact points have been assigned to a single cluster. Whereas the points that are spread loosely but were in the same cluster, have been assigned to different clusters. Not ideal so what can we do about this?\n",
    "\n",
    "**One of the solutions is to use a higher number of clusters**. So, in all the above scenarios, instead of using 3 clusters, we can have a bigger number. Perhaps setting k=10 might lead to more meaningful clusters.\n",
    "\n",
    "Remember how we randomly initialize the centroids in k-means clustering? Well, this is also potentially problematic because we might get different clusters every time. So, to solve this problem of random initialization, there is an algorithm called **K-Means++** that can be used to choose the initial values, or the initial cluster centroids, for K-Means.\n",
    "\n"
   ]
  },
  {
   "cell_type": "markdown",
   "id": "f5edc64b-c51b-4a96-8e26-671ff31c91d2",
   "metadata": {},
   "source": [
    "# How to Choose the Right Number of Clusters in K-Means Clustering?\n",
    "\n",
    "One of the most common doubts everyone has while working with K-Means is selecting the right number of clusters.\n",
    "\n",
    "So, let’s look at a technique that will help us choose the right value of clusters for the K-Means algorithm. Let’s take the customer segmentation example which we saw earlier. To recap, the bank wants to segment its customers based on their income and amount of debt:\n",
    "\n",
    "<img src=\"https://cdn.analyticsvidhya.com/wp-content/uploads/2019/08/Screenshot-from-2019-08-09-15-51-38.png\">\n",
    "\n",
    "Here, we can have two clusters which will separate the customers as shown below:\n",
    "\n",
    "<img src=\"https://cdn.analyticsvidhya.com/wp-content/uploads/2019/08/Screenshot-from-2019-08-09-15-53-27.png\">\n",
    "\n",
    "All the customers with low income are in one cluster whereas the customers with high income are in the second cluster. We can also have 4 clusters\n",
    "\n",
    "<img src=\"https://cdn.analyticsvidhya.com/wp-content/uploads/2019/08/Screenshot-from-2019-08-09-15-54-09.png\">\n",
    "\n",
    "Here, one cluster might represent customers who have low income and low debt, other cluster is where customers have high income and high debt, and so on. There can be 8 clusters as well:\n",
    "\n",
    "<img src=\"https://cdn.analyticsvidhya.com/wp-content/uploads/2019/08/Screenshot-from-2019-08-09-15-54-58.png\">\n",
    "\n",
    "Honestly, we can have any number of clusters. Can you guess what would be the maximum number of possible clusters? One thing which we can do is to assign each point to a separate cluster. Hence, in this case, the number of clusters will be equal to the number of points or observations. So,\n",
    "**The maximum possible number of clusters will be equal to the number of observations in the dataset**.\n",
    "\n",
    "But then how can we decide the optimum number of clusters? **One thing we can do is plot a graph, also known as an elbow curve, where the x-axis will represent the number of clusters and the y-axis will be an evaluation metric**. Let’s say inertia for now.\n",
    "\n",
    "Now, we will Select a range of clusters, will train the model, and plot the inertia value. This is the plot we get:\n",
    "\n",
    "<img src=\"https://cdn.analyticsvidhya.com/wp-content/uploads/2019/08/Screenshot-from-2019-08-09-15-59-05.png\">\n",
    "\n",
    "When we changed the cluster value from 2 to 4, the inertia value reduced very sharply. This decrease in the inertia value reduces and eventually becomes constant as we increase the number of clusters further.\n",
    "\n",
    "So,\n",
    "\n",
    "**The cluster value where this decrease in inertia value becomes constant can be chosen as the right cluster value for our data**.\n",
    "\n",
    "<img src=\"https://cdn.analyticsvidhya.com/wp-content/uploads/2019/08/Screenshot-from-2019-08-09-16-01-34.png\">\n",
    "\n",
    "Here, we can choose any number of clusters between 6 and 10. We can have 7, 8, or even 9 clusters. **You must also look at the computation cost while deciding the number of clusters**. If we increase the number of clusters, the computation cost will also increase. So, if you do not have high computational resources, my advice is to choose a lesser number of clusters.\n",
    "\n",
    "Let’s now implement the K-Means Clustering algorithm in Python. We will also see how to use K-Means++ to initialize the centroids and will also plot this elbow curve to decide what should be the right number of clusters for our dataset."
   ]
  },
  {
   "cell_type": "markdown",
   "id": "197ffd83-e728-4877-bce4-946bf6ea4f7e",
   "metadata": {},
   "source": [
    "# Implementing K-Means Clustering in Python\n",
    "The aim of this problem is to segment the clients of a wholesale distributor based on their annual spending on diverse product categories, like milk, grocery, region, etc. So, let’s start coding!\n",
    "\n",
    "**We will first import the required libraries:**"
   ]
  },
  {
   "cell_type": "code",
   "execution_count": 171,
   "id": "73ef5d54-a4c5-4761-994a-516727c9cee2",
   "metadata": {},
   "outputs": [],
   "source": [
    "# importing required libraries\n",
    "import pandas as pd\n",
    "import numpy as np\n",
    "import seaborn as sns\n",
    "import matplotlib.pyplot as plt\n",
    "%matplotlib inline\n",
    "from sklearn.cluster import KMeans"
   ]
  },
  {
   "cell_type": "markdown",
   "id": "7f77cb4d-406b-4838-85a0-4de33e4af2c5",
   "metadata": {},
   "source": [
    "**Next, let’s read the data and look at the first five rows:**"
   ]
  },
  {
   "cell_type": "code",
   "execution_count": 172,
   "id": "c5ba712d-b3a2-4172-ad30-f6c572bad19b",
   "metadata": {},
   "outputs": [
    {
     "data": {
      "text/html": [
       "<div>\n",
       "<style scoped>\n",
       "    .dataframe tbody tr th:only-of-type {\n",
       "        vertical-align: middle;\n",
       "    }\n",
       "\n",
       "    .dataframe tbody tr th {\n",
       "        vertical-align: top;\n",
       "    }\n",
       "\n",
       "    .dataframe thead th {\n",
       "        text-align: right;\n",
       "    }\n",
       "</style>\n",
       "<table border=\"1\" class=\"dataframe\">\n",
       "  <thead>\n",
       "    <tr style=\"text-align: right;\">\n",
       "      <th></th>\n",
       "      <th>Channel</th>\n",
       "      <th>Region</th>\n",
       "      <th>Fresh</th>\n",
       "      <th>Milk</th>\n",
       "      <th>Grocery</th>\n",
       "      <th>Frozen</th>\n",
       "      <th>Detergents_Paper</th>\n",
       "      <th>Delicassen</th>\n",
       "    </tr>\n",
       "  </thead>\n",
       "  <tbody>\n",
       "    <tr>\n",
       "      <th>0</th>\n",
       "      <td>2</td>\n",
       "      <td>3</td>\n",
       "      <td>12669</td>\n",
       "      <td>9656</td>\n",
       "      <td>7561</td>\n",
       "      <td>214</td>\n",
       "      <td>2674</td>\n",
       "      <td>1338</td>\n",
       "    </tr>\n",
       "    <tr>\n",
       "      <th>1</th>\n",
       "      <td>2</td>\n",
       "      <td>3</td>\n",
       "      <td>7057</td>\n",
       "      <td>9810</td>\n",
       "      <td>9568</td>\n",
       "      <td>1762</td>\n",
       "      <td>3293</td>\n",
       "      <td>1776</td>\n",
       "    </tr>\n",
       "    <tr>\n",
       "      <th>2</th>\n",
       "      <td>2</td>\n",
       "      <td>3</td>\n",
       "      <td>6353</td>\n",
       "      <td>8808</td>\n",
       "      <td>7684</td>\n",
       "      <td>2405</td>\n",
       "      <td>3516</td>\n",
       "      <td>7844</td>\n",
       "    </tr>\n",
       "    <tr>\n",
       "      <th>3</th>\n",
       "      <td>1</td>\n",
       "      <td>3</td>\n",
       "      <td>13265</td>\n",
       "      <td>1196</td>\n",
       "      <td>4221</td>\n",
       "      <td>6404</td>\n",
       "      <td>507</td>\n",
       "      <td>1788</td>\n",
       "    </tr>\n",
       "    <tr>\n",
       "      <th>4</th>\n",
       "      <td>2</td>\n",
       "      <td>3</td>\n",
       "      <td>22615</td>\n",
       "      <td>5410</td>\n",
       "      <td>7198</td>\n",
       "      <td>3915</td>\n",
       "      <td>1777</td>\n",
       "      <td>5185</td>\n",
       "    </tr>\n",
       "  </tbody>\n",
       "</table>\n",
       "</div>"
      ],
      "text/plain": [
       "   Channel  Region  Fresh  Milk  Grocery  Frozen  Detergents_Paper  Delicassen\n",
       "0        2       3  12669  9656     7561     214              2674        1338\n",
       "1        2       3   7057  9810     9568    1762              3293        1776\n",
       "2        2       3   6353  8808     7684    2405              3516        7844\n",
       "3        1       3  13265  1196     4221    6404               507        1788\n",
       "4        2       3  22615  5410     7198    3915              1777        5185"
      ]
     },
     "execution_count": 172,
     "metadata": {},
     "output_type": "execute_result"
    }
   ],
   "source": [
    "# reading the data and looking at the first five rows of the data\n",
    "data=pd.read_csv(\"Wholesale customers data.csv\")\n",
    "data.head()"
   ]
  },
  {
   "cell_type": "markdown",
   "id": "afdbbef9-0464-4140-991e-6fa93de2734b",
   "metadata": {},
   "source": [
    "We have the spending details of customers on different products like Milk, Grocery, Frozen, Detergents, etc. Now, we have to segment the customers based on the provided details. Before doing that, let’s pull out some statistics related to the data:"
   ]
  },
  {
   "cell_type": "code",
   "execution_count": 173,
   "id": "2953c499-a2fd-436b-86df-2f28409baf1d",
   "metadata": {},
   "outputs": [
    {
     "data": {
      "text/html": [
       "<div>\n",
       "<style scoped>\n",
       "    .dataframe tbody tr th:only-of-type {\n",
       "        vertical-align: middle;\n",
       "    }\n",
       "\n",
       "    .dataframe tbody tr th {\n",
       "        vertical-align: top;\n",
       "    }\n",
       "\n",
       "    .dataframe thead th {\n",
       "        text-align: right;\n",
       "    }\n",
       "</style>\n",
       "<table border=\"1\" class=\"dataframe\">\n",
       "  <thead>\n",
       "    <tr style=\"text-align: right;\">\n",
       "      <th></th>\n",
       "      <th>Channel</th>\n",
       "      <th>Region</th>\n",
       "      <th>Fresh</th>\n",
       "      <th>Milk</th>\n",
       "      <th>Grocery</th>\n",
       "      <th>Frozen</th>\n",
       "      <th>Detergents_Paper</th>\n",
       "      <th>Delicassen</th>\n",
       "    </tr>\n",
       "  </thead>\n",
       "  <tbody>\n",
       "    <tr>\n",
       "      <th>count</th>\n",
       "      <td>440.000000</td>\n",
       "      <td>440.000000</td>\n",
       "      <td>440.000000</td>\n",
       "      <td>440.000000</td>\n",
       "      <td>440.000000</td>\n",
       "      <td>440.000000</td>\n",
       "      <td>440.000000</td>\n",
       "      <td>440.000000</td>\n",
       "    </tr>\n",
       "    <tr>\n",
       "      <th>mean</th>\n",
       "      <td>1.322727</td>\n",
       "      <td>2.543182</td>\n",
       "      <td>12000.297727</td>\n",
       "      <td>5796.265909</td>\n",
       "      <td>7951.277273</td>\n",
       "      <td>3071.931818</td>\n",
       "      <td>2881.493182</td>\n",
       "      <td>1524.870455</td>\n",
       "    </tr>\n",
       "    <tr>\n",
       "      <th>std</th>\n",
       "      <td>0.468052</td>\n",
       "      <td>0.774272</td>\n",
       "      <td>12647.328865</td>\n",
       "      <td>7380.377175</td>\n",
       "      <td>9503.162829</td>\n",
       "      <td>4854.673333</td>\n",
       "      <td>4767.854448</td>\n",
       "      <td>2820.105937</td>\n",
       "    </tr>\n",
       "    <tr>\n",
       "      <th>min</th>\n",
       "      <td>1.000000</td>\n",
       "      <td>1.000000</td>\n",
       "      <td>3.000000</td>\n",
       "      <td>55.000000</td>\n",
       "      <td>3.000000</td>\n",
       "      <td>25.000000</td>\n",
       "      <td>3.000000</td>\n",
       "      <td>3.000000</td>\n",
       "    </tr>\n",
       "    <tr>\n",
       "      <th>25%</th>\n",
       "      <td>1.000000</td>\n",
       "      <td>2.000000</td>\n",
       "      <td>3127.750000</td>\n",
       "      <td>1533.000000</td>\n",
       "      <td>2153.000000</td>\n",
       "      <td>742.250000</td>\n",
       "      <td>256.750000</td>\n",
       "      <td>408.250000</td>\n",
       "    </tr>\n",
       "    <tr>\n",
       "      <th>50%</th>\n",
       "      <td>1.000000</td>\n",
       "      <td>3.000000</td>\n",
       "      <td>8504.000000</td>\n",
       "      <td>3627.000000</td>\n",
       "      <td>4755.500000</td>\n",
       "      <td>1526.000000</td>\n",
       "      <td>816.500000</td>\n",
       "      <td>965.500000</td>\n",
       "    </tr>\n",
       "    <tr>\n",
       "      <th>75%</th>\n",
       "      <td>2.000000</td>\n",
       "      <td>3.000000</td>\n",
       "      <td>16933.750000</td>\n",
       "      <td>7190.250000</td>\n",
       "      <td>10655.750000</td>\n",
       "      <td>3554.250000</td>\n",
       "      <td>3922.000000</td>\n",
       "      <td>1820.250000</td>\n",
       "    </tr>\n",
       "    <tr>\n",
       "      <th>max</th>\n",
       "      <td>2.000000</td>\n",
       "      <td>3.000000</td>\n",
       "      <td>112151.000000</td>\n",
       "      <td>73498.000000</td>\n",
       "      <td>92780.000000</td>\n",
       "      <td>60869.000000</td>\n",
       "      <td>40827.000000</td>\n",
       "      <td>47943.000000</td>\n",
       "    </tr>\n",
       "  </tbody>\n",
       "</table>\n",
       "</div>"
      ],
      "text/plain": [
       "          Channel      Region          Fresh          Milk       Grocery  \\\n",
       "count  440.000000  440.000000     440.000000    440.000000    440.000000   \n",
       "mean     1.322727    2.543182   12000.297727   5796.265909   7951.277273   \n",
       "std      0.468052    0.774272   12647.328865   7380.377175   9503.162829   \n",
       "min      1.000000    1.000000       3.000000     55.000000      3.000000   \n",
       "25%      1.000000    2.000000    3127.750000   1533.000000   2153.000000   \n",
       "50%      1.000000    3.000000    8504.000000   3627.000000   4755.500000   \n",
       "75%      2.000000    3.000000   16933.750000   7190.250000  10655.750000   \n",
       "max      2.000000    3.000000  112151.000000  73498.000000  92780.000000   \n",
       "\n",
       "             Frozen  Detergents_Paper    Delicassen  \n",
       "count    440.000000        440.000000    440.000000  \n",
       "mean    3071.931818       2881.493182   1524.870455  \n",
       "std     4854.673333       4767.854448   2820.105937  \n",
       "min       25.000000          3.000000      3.000000  \n",
       "25%      742.250000        256.750000    408.250000  \n",
       "50%     1526.000000        816.500000    965.500000  \n",
       "75%     3554.250000       3922.000000   1820.250000  \n",
       "max    60869.000000      40827.000000  47943.000000  "
      ]
     },
     "execution_count": 173,
     "metadata": {},
     "output_type": "execute_result"
    }
   ],
   "source": [
    "# statistics of the data\n",
    "data.describe()"
   ]
  },
  {
   "cell_type": "markdown",
   "id": "b524795f-9bae-4d74-9702-d2083b352af0",
   "metadata": {},
   "source": [
    "Here, we see that there is a lot of variation in the magnitude of the data. Variables like Channel and Region have low magnitude whereas variables like Fresh, Milk, Grocery, etc. have a higher magnitude.\n",
    "\n",
    "Since K-Means is a distance-based algorithm, this difference of magnitude can create a problem. So let’s first bring all the variables to the same magnitude:"
   ]
  },
  {
   "cell_type": "code",
   "execution_count": 174,
   "id": "338754ee-fd0b-484c-8c81-34f6980f6b43",
   "metadata": {},
   "outputs": [
    {
     "data": {
      "text/html": [
       "<div>\n",
       "<style scoped>\n",
       "    .dataframe tbody tr th:only-of-type {\n",
       "        vertical-align: middle;\n",
       "    }\n",
       "\n",
       "    .dataframe tbody tr th {\n",
       "        vertical-align: top;\n",
       "    }\n",
       "\n",
       "    .dataframe thead th {\n",
       "        text-align: right;\n",
       "    }\n",
       "</style>\n",
       "<table border=\"1\" class=\"dataframe\">\n",
       "  <thead>\n",
       "    <tr style=\"text-align: right;\">\n",
       "      <th></th>\n",
       "      <th>Channel</th>\n",
       "      <th>Region</th>\n",
       "      <th>Fresh</th>\n",
       "      <th>Milk</th>\n",
       "      <th>Grocery</th>\n",
       "      <th>Frozen</th>\n",
       "      <th>Detergents_Paper</th>\n",
       "      <th>Delicassen</th>\n",
       "    </tr>\n",
       "  </thead>\n",
       "  <tbody>\n",
       "    <tr>\n",
       "      <th>count</th>\n",
       "      <td>440.000000</td>\n",
       "      <td>440.000000</td>\n",
       "      <td>440.000000</td>\n",
       "      <td>440.000000</td>\n",
       "      <td>440.000000</td>\n",
       "      <td>440.000000</td>\n",
       "      <td>440.000000</td>\n",
       "      <td>440.000000</td>\n",
       "    </tr>\n",
       "    <tr>\n",
       "      <th>mean</th>\n",
       "      <td>0.000636</td>\n",
       "      <td>-0.001045</td>\n",
       "      <td>0.000136</td>\n",
       "      <td>-0.000068</td>\n",
       "      <td>-0.000023</td>\n",
       "      <td>0.000045</td>\n",
       "      <td>0.000136</td>\n",
       "      <td>-0.000318</td>\n",
       "    </tr>\n",
       "    <tr>\n",
       "      <th>std</th>\n",
       "      <td>1.001630</td>\n",
       "      <td>1.002308</td>\n",
       "      <td>1.001003</td>\n",
       "      <td>1.001158</td>\n",
       "      <td>1.001265</td>\n",
       "      <td>1.001227</td>\n",
       "      <td>1.001085</td>\n",
       "      <td>1.001202</td>\n",
       "    </tr>\n",
       "    <tr>\n",
       "      <th>min</th>\n",
       "      <td>-0.690000</td>\n",
       "      <td>-2.000000</td>\n",
       "      <td>-0.950000</td>\n",
       "      <td>-0.780000</td>\n",
       "      <td>-0.840000</td>\n",
       "      <td>-0.630000</td>\n",
       "      <td>-0.600000</td>\n",
       "      <td>-0.540000</td>\n",
       "    </tr>\n",
       "    <tr>\n",
       "      <th>25%</th>\n",
       "      <td>-0.690000</td>\n",
       "      <td>-0.700000</td>\n",
       "      <td>-0.700000</td>\n",
       "      <td>-0.580000</td>\n",
       "      <td>-0.610000</td>\n",
       "      <td>-0.480000</td>\n",
       "      <td>-0.550000</td>\n",
       "      <td>-0.400000</td>\n",
       "    </tr>\n",
       "    <tr>\n",
       "      <th>50%</th>\n",
       "      <td>-0.690000</td>\n",
       "      <td>0.590000</td>\n",
       "      <td>-0.275000</td>\n",
       "      <td>-0.295000</td>\n",
       "      <td>-0.340000</td>\n",
       "      <td>-0.320000</td>\n",
       "      <td>-0.430000</td>\n",
       "      <td>-0.200000</td>\n",
       "    </tr>\n",
       "    <tr>\n",
       "      <th>75%</th>\n",
       "      <td>1.450000</td>\n",
       "      <td>0.590000</td>\n",
       "      <td>0.390000</td>\n",
       "      <td>0.190000</td>\n",
       "      <td>0.282500</td>\n",
       "      <td>0.100000</td>\n",
       "      <td>0.222500</td>\n",
       "      <td>0.102500</td>\n",
       "    </tr>\n",
       "    <tr>\n",
       "      <th>max</th>\n",
       "      <td>1.450000</td>\n",
       "      <td>0.590000</td>\n",
       "      <td>7.930000</td>\n",
       "      <td>9.180000</td>\n",
       "      <td>8.940000</td>\n",
       "      <td>11.920000</td>\n",
       "      <td>7.970000</td>\n",
       "      <td>16.480000</td>\n",
       "    </tr>\n",
       "  </tbody>\n",
       "</table>\n",
       "</div>"
      ],
      "text/plain": [
       "          Channel      Region       Fresh        Milk     Grocery      Frozen  \\\n",
       "count  440.000000  440.000000  440.000000  440.000000  440.000000  440.000000   \n",
       "mean     0.000636   -0.001045    0.000136   -0.000068   -0.000023    0.000045   \n",
       "std      1.001630    1.002308    1.001003    1.001158    1.001265    1.001227   \n",
       "min     -0.690000   -2.000000   -0.950000   -0.780000   -0.840000   -0.630000   \n",
       "25%     -0.690000   -0.700000   -0.700000   -0.580000   -0.610000   -0.480000   \n",
       "50%     -0.690000    0.590000   -0.275000   -0.295000   -0.340000   -0.320000   \n",
       "75%      1.450000    0.590000    0.390000    0.190000    0.282500    0.100000   \n",
       "max      1.450000    0.590000    7.930000    9.180000    8.940000   11.920000   \n",
       "\n",
       "       Detergents_Paper  Delicassen  \n",
       "count        440.000000  440.000000  \n",
       "mean           0.000136   -0.000318  \n",
       "std            1.001085    1.001202  \n",
       "min           -0.600000   -0.540000  \n",
       "25%           -0.550000   -0.400000  \n",
       "50%           -0.430000   -0.200000  \n",
       "75%            0.222500    0.102500  \n",
       "max            7.970000   16.480000  "
      ]
     },
     "execution_count": 174,
     "metadata": {},
     "output_type": "execute_result"
    }
   ],
   "source": [
    "# standardizing the data\n",
    "from sklearn.preprocessing import StandardScaler\n",
    "scaler = StandardScaler()\n",
    "data_scaled = scaler.fit_transform(data)\n",
    "\n",
    "# statistics of scaled data\n",
    "pd.DataFrame(data_scaled.round(2), columns=data.columns).describe()"
   ]
  },
  {
   "cell_type": "markdown",
   "id": "6bc69d4e-4d98-4277-8c27-5dc2cb791aa7",
   "metadata": {},
   "source": [
    "The magnitude looks similar now. Next, let’s create a kmeans function and fit it on the data:"
   ]
  },
  {
   "cell_type": "code",
   "execution_count": 175,
   "id": "a2239c64-4104-4ff4-8659-2743ce6f4b79",
   "metadata": {},
   "outputs": [
    {
     "data": {
      "text/plain": [
       "KMeans(n_clusters=2)"
      ]
     },
     "execution_count": 175,
     "metadata": {},
     "output_type": "execute_result"
    }
   ],
   "source": [
    "# defining the kmeans function with initialization as k-means++\n",
    "kmeans = KMeans(n_clusters=2, init='k-means++')\n",
    "\n",
    "# fitting the k means algorithm on scaled data\n",
    "kmeans.fit(data_scaled)"
   ]
  },
  {
   "cell_type": "markdown",
   "id": "d7982d5a-c3b2-499c-91bd-94414451927d",
   "metadata": {},
   "source": [
    "We have initialized two clusters and pay attention – the initialization is not random here. We have used the k-means++ initialization which generally produces better results as we have discussed in the previous section as well.\n",
    "\n",
    "Let’s evaluate how well the formed clusters are. To do that, we will calculate the inertia of the clusters:"
   ]
  },
  {
   "cell_type": "code",
   "execution_count": 176,
   "id": "e43a4218-8fcc-4e71-9c19-02ef994299c2",
   "metadata": {},
   "outputs": [
    {
     "data": {
      "text/plain": [
       "2599.3855593561393"
      ]
     },
     "execution_count": 176,
     "metadata": {},
     "output_type": "execute_result"
    }
   ],
   "source": [
    "# inertia on the fitted data\n",
    "kmeans.inertia_"
   ]
  },
  {
   "cell_type": "markdown",
   "id": "c73e1b69-c845-4fbf-9f9f-9ba398b852a9",
   "metadata": {},
   "source": [
    "We got an inertia value of almost 2600. Now, let’s see how we can use the elbow curve to determine the optimum number of clusters in Python.\n",
    "\n",
    "We will first fit multiple k-means models and in each successive model, we will increase the number of clusters. We will store the inertia value of each model and then plot it to visualize the result:"
   ]
  },
  {
   "cell_type": "code",
   "execution_count": 177,
   "id": "94ec3ea4-032f-4be9-9d07-4544679ba5e4",
   "metadata": {},
   "outputs": [
    {
     "name": "stderr",
     "output_type": "stream",
     "text": [
      "C:\\Users\\Hp\\anaconda3\\envs\\NCAI\\lib\\site-packages\\sklearn\\cluster\\_kmeans.py:881: UserWarning: KMeans is known to have a memory leak on Windows with MKL, when there are less chunks than available threads. You can avoid it by setting the environment variable OMP_NUM_THREADS=2.\n",
      "  warnings.warn(\n"
     ]
    },
    {
     "data": {
      "text/plain": [
       "Text(0, 0.5, 'Inertia')"
      ]
     },
     "execution_count": 177,
     "metadata": {},
     "output_type": "execute_result"
    },
    {
     "data": {
      "image/png": "[encoded data removed]",
      "text/plain": [
       "<Figure size 864x432 with 1 Axes>"
      ]
     },
     "metadata": {
      "needs_background": "light"
     },
     "output_type": "display_data"
    }
   ],
   "source": [
    "# fitting multiple k-means algorithms and storing the values in an empty list\n",
    "no_of_clusters = np.arange(1, 20)\n",
    "inertias = []\n",
    "\n",
    "for cluster in no_of_clusters:\n",
    "    kmeans = KMeans(n_clusters = cluster, init='k-means++')\n",
    "    kmeans.fit(data_scaled)\n",
    "    inertias.append(kmeans.inertia_)\n",
    "\n",
    "plt.figure(figsize=(12,6))\n",
    "plt.plot(no_of_clusters, inertias, marker='o')\n",
    "plt.xlabel('Number of clusters')\n",
    "plt.xticks(no_of_clusters)\n",
    "plt.ylabel('Inertia')"
   ]
  },
  {
   "cell_type": "markdown",
   "id": "61a62720-7863-4dd5-9c0e-e386ec1cbdcc",
   "metadata": {},
   "source": [
    "Can you tell the optimum cluster value from this plot? Looking at the above elbow curve, we can choose any number of clusters between 5 to 8. Let’s set the number of clusters as 6 and fit the model:"
   ]
  },
  {
   "cell_type": "code",
   "execution_count": 178,
   "id": "f3aa53bd-0956-45c9-ae54-6d124f7474cf",
   "metadata": {},
   "outputs": [
    {
     "name": "stderr",
     "output_type": "stream",
     "text": [
      "C:\\Users\\Hp\\anaconda3\\envs\\NCAI\\lib\\site-packages\\sklearn\\cluster\\_kmeans.py:792: FutureWarning: 'n_jobs' was deprecated in version 0.23 and will be removed in 1.0 (renaming of 0.25).\n",
      "  warnings.warn(\"'n_jobs' was deprecated in version 0.23 and will be\"\n"
     ]
    }
   ],
   "source": [
    "# k means using 5 clusters and k-means++ initialization\n",
    "kmeans = KMeans(n_jobs = -1, n_clusters = 5, init='k-means++')\n",
    "kmeans.fit(data_scaled)\n",
    "pred = kmeans.predict(data_scaled)"
   ]
  },
  {
   "cell_type": "markdown",
   "id": "a68f7cb7-e98b-40a0-a12c-cf5e29b1eb7f",
   "metadata": {},
   "source": [
    "Finally, let’s look at the value count of points in each of the above-formed clusters:"
   ]
  },
  {
   "cell_type": "code",
   "execution_count": 179,
   "id": "7b961bad-b92f-43f7-88d5-b7db783203f2",
   "metadata": {},
   "outputs": [
    {
     "data": {
      "text/plain": [
       "1    209\n",
       "0    126\n",
       "2     92\n",
       "3     12\n",
       "4      1\n",
       "Name: cluster, dtype: int64"
      ]
     },
     "execution_count": 179,
     "metadata": {},
     "output_type": "execute_result"
    }
   ],
   "source": [
    "frame = pd.DataFrame(data_scaled)\n",
    "frame['cluster'] = pred\n",
    "frame['cluster'].value_counts()"
   ]
  },
  {
   "cell_type": "code",
   "execution_count": 180,
   "id": "281d80e3-dedd-4c15-8e2f-473d8d30e714",
   "metadata": {},
   "outputs": [],
   "source": [
    "#import libraries\n",
    "import pandas as pd\n",
    "import numpy as np\n",
    "import random as rd\n",
    "import matplotlib.pyplot as plt"
   ]
  },
  {
   "cell_type": "code",
   "execution_count": 181,
   "id": "e08ec365-460d-4e02-be53-51a4b7926045",
   "metadata": {},
   "outputs": [
    {
     "data": {
      "text/html": [
       "<div>\n",
       "<style scoped>\n",
       "    .dataframe tbody tr th:only-of-type {\n",
       "        vertical-align: middle;\n",
       "    }\n",
       "\n",
       "    .dataframe tbody tr th {\n",
       "        vertical-align: top;\n",
       "    }\n",
       "\n",
       "    .dataframe thead th {\n",
       "        text-align: right;\n",
       "    }\n",
       "</style>\n",
       "<table border=\"1\" class=\"dataframe\">\n",
       "  <thead>\n",
       "    <tr style=\"text-align: right;\">\n",
       "      <th></th>\n",
       "      <th>Loan_ID</th>\n",
       "      <th>Gender</th>\n",
       "      <th>Married</th>\n",
       "      <th>Dependents</th>\n",
       "      <th>Education</th>\n",
       "      <th>Self_Employed</th>\n",
       "      <th>ApplicantIncome</th>\n",
       "      <th>CoapplicantIncome</th>\n",
       "      <th>LoanAmount</th>\n",
       "      <th>Loan_Amount_Term</th>\n",
       "      <th>Credit_History</th>\n",
       "      <th>Property_Area</th>\n",
       "      <th>Loan_Status</th>\n",
       "    </tr>\n",
       "  </thead>\n",
       "  <tbody>\n",
       "    <tr>\n",
       "      <th>0</th>\n",
       "      <td>LP001003</td>\n",
       "      <td>Male</td>\n",
       "      <td>Yes</td>\n",
       "      <td>1</td>\n",
       "      <td>Graduate</td>\n",
       "      <td>No</td>\n",
       "      <td>4583</td>\n",
       "      <td>1508.0</td>\n",
       "      <td>128.0</td>\n",
       "      <td>360.0</td>\n",
       "      <td>1.0</td>\n",
       "      <td>Rural</td>\n",
       "      <td>N</td>\n",
       "    </tr>\n",
       "    <tr>\n",
       "      <th>1</th>\n",
       "      <td>LP001005</td>\n",
       "      <td>Male</td>\n",
       "      <td>Yes</td>\n",
       "      <td>0</td>\n",
       "      <td>Graduate</td>\n",
       "      <td>Yes</td>\n",
       "      <td>3000</td>\n",
       "      <td>0.0</td>\n",
       "      <td>66.0</td>\n",
       "      <td>360.0</td>\n",
       "      <td>1.0</td>\n",
       "      <td>Urban</td>\n",
       "      <td>Y</td>\n",
       "    </tr>\n",
       "    <tr>\n",
       "      <th>2</th>\n",
       "      <td>LP001006</td>\n",
       "      <td>Male</td>\n",
       "      <td>Yes</td>\n",
       "      <td>0</td>\n",
       "      <td>Not Graduate</td>\n",
       "      <td>No</td>\n",
       "      <td>2583</td>\n",
       "      <td>2358.0</td>\n",
       "      <td>120.0</td>\n",
       "      <td>360.0</td>\n",
       "      <td>1.0</td>\n",
       "      <td>Urban</td>\n",
       "      <td>Y</td>\n",
       "    </tr>\n",
       "    <tr>\n",
       "      <th>3</th>\n",
       "      <td>LP001008</td>\n",
       "      <td>Male</td>\n",
       "      <td>No</td>\n",
       "      <td>0</td>\n",
       "      <td>Graduate</td>\n",
       "      <td>No</td>\n",
       "      <td>6000</td>\n",
       "      <td>0.0</td>\n",
       "      <td>141.0</td>\n",
       "      <td>360.0</td>\n",
       "      <td>1.0</td>\n",
       "      <td>Urban</td>\n",
       "      <td>Y</td>\n",
       "    </tr>\n",
       "    <tr>\n",
       "      <th>4</th>\n",
       "      <td>LP001013</td>\n",
       "      <td>Male</td>\n",
       "      <td>Yes</td>\n",
       "      <td>0</td>\n",
       "      <td>Not Graduate</td>\n",
       "      <td>No</td>\n",
       "      <td>2333</td>\n",
       "      <td>1516.0</td>\n",
       "      <td>95.0</td>\n",
       "      <td>360.0</td>\n",
       "      <td>1.0</td>\n",
       "      <td>Urban</td>\n",
       "      <td>Y</td>\n",
       "    </tr>\n",
       "  </tbody>\n",
       "</table>\n",
       "</div>"
      ],
      "text/plain": [
       "    Loan_ID Gender Married Dependents     Education Self_Employed  \\\n",
       "0  LP001003   Male     Yes          1      Graduate            No   \n",
       "1  LP001005   Male     Yes          0      Graduate           Yes   \n",
       "2  LP001006   Male     Yes          0  Not Graduate            No   \n",
       "3  LP001008   Male      No          0      Graduate            No   \n",
       "4  LP001013   Male     Yes          0  Not Graduate            No   \n",
       "\n",
       "   ApplicantIncome  CoapplicantIncome  LoanAmount  Loan_Amount_Term  \\\n",
       "0             4583             1508.0       128.0             360.0   \n",
       "1             3000                0.0        66.0             360.0   \n",
       "2             2583             2358.0       120.0             360.0   \n",
       "3             6000                0.0       141.0             360.0   \n",
       "4             2333             1516.0        95.0             360.0   \n",
       "\n",
       "   Credit_History Property_Area Loan_Status  \n",
       "0             1.0         Rural           N  \n",
       "1             1.0         Urban           Y  \n",
       "2             1.0         Urban           Y  \n",
       "3             1.0         Urban           Y  \n",
       "4             1.0         Urban           Y  "
      ]
     },
     "execution_count": 181,
     "metadata": {},
     "output_type": "execute_result"
    }
   ],
   "source": [
    "data_ = pd.read_csv('clustering.csv')\n",
    "data_.head()"
   ]
  },
  {
   "cell_type": "markdown",
   "id": "581ee682-ee68-437f-adb9-70d107bd8bb8",
   "metadata": {},
   "source": [
    "For this article, we will be taking only two variables from the data – “LoanAmount” and “ApplicantIncome”. This will make it easy to visualize the steps as well. Let’s pick these two variables and visualize the data points:"
   ]
  },
  {
   "cell_type": "code",
   "execution_count": 183,
   "id": "6f72ebd1-4a3e-443b-95da-090c52d9517d",
   "metadata": {},
   "outputs": [
    {
     "data": {
      "image/png": "[encoded data removed]",
      "text/plain": [
       "<Figure size 432x288 with 1 Axes>"
      ]
     },
     "metadata": {
      "needs_background": "light"
     },
     "output_type": "display_data"
    }
   ],
   "source": [
    "X_ = data_[[\"LoanAmount\",\"ApplicantIncome\"]]\n",
    "\n",
    "#Visualise data points\n",
    "plt.scatter(X_[\"ApplicantIncome\"],X_[\"LoanAmount\"],c='black')\n",
    "plt.xlabel('AnnualIncome')\n",
    "plt.ylabel('Loan Amount (In Thousands)')\n",
    "plt.show()"
   ]
  },
  {
   "cell_type": "code",
   "execution_count": 184,
   "id": "f0aa686e-06ca-40ea-a641-31d88fa61297",
   "metadata": {},
   "outputs": [
    {
     "name": "stderr",
     "output_type": "stream",
     "text": [
      "C:\\Users\\Hp\\anaconda3\\envs\\NCAI\\lib\\site-packages\\sklearn\\cluster\\_kmeans.py:881: UserWarning: KMeans is known to have a memory leak on Windows with MKL, when there are less chunks than available threads. You can avoid it by setting the environment variable OMP_NUM_THREADS=2.\n",
      "  warnings.warn(\n"
     ]
    },
    {
     "data": {
      "image/png": "[encoded data removed]",
      "text/plain": [
       "<Figure size 432x288 with 1 Axes>"
      ]
     },
     "metadata": {
      "needs_background": "light"
     },
     "output_type": "display_data"
    }
   ],
   "source": [
    "from sklearn.cluster import KMeans\n",
    "\n",
    "inertia = []\n",
    "for i in range(1, 11):\n",
    "    km = KMeans(n_clusters = i, init = 'k-means++', n_init = 10, random_state = 0)\n",
    "    km.fit(X_)\n",
    "    inertia.append(km.inertia_)\n",
    "    \n",
    "plt.plot(range(1, 11), inertia, marker = \"o\")\n",
    "plt.title('The Elbow Method')\n",
    "plt.xlabel('No. of Clusters')\n",
    "plt.ylabel('Inertia')\n",
    "plt.show()"
   ]
  },
  {
   "cell_type": "code",
   "execution_count": 197,
   "id": "e037b1eb-dbcf-40e1-86a3-1023ef7a8d0e",
   "metadata": {},
   "outputs": [],
   "source": [
    "k_model = KMeans(n_clusters=3)\n",
    "\n",
    "k_model.fit(X_)\n",
    "\n",
    "new_labels = k_model.predict(X_)"
   ]
  },
  {
   "cell_type": "code",
   "execution_count": 198,
   "id": "24ee7c5b-b47b-48fa-81bd-77bf19fcb57b",
   "metadata": {},
   "outputs": [
    {
     "data": {
      "text/plain": [
       "array([[ 119.48837209, 6512.76744186],\n",
       "       [ 109.77922078, 4043.45454545],\n",
       "       [  97.58695652, 2506.41304348]])"
      ]
     },
     "execution_count": 198,
     "metadata": {},
     "output_type": "execute_result"
    }
   ],
   "source": [
    "Centroids = k_model.cluster_centers_\n",
    "Centroids"
   ]
  },
  {
   "cell_type": "code",
   "execution_count": 199,
   "id": "2c5f0ae3-d9ff-4484-bb40-12db5f39d588",
   "metadata": {},
   "outputs": [],
   "source": [
    "X_Centroids = Centroids[:,1]\n",
    "y_Centroids = Centroids[:,0]"
   ]
  },
  {
   "cell_type": "code",
   "execution_count": 200,
   "id": "d5bdbeff-5557-47ae-892a-388e7ab8d48d",
   "metadata": {},
   "outputs": [
    {
     "data": {
      "image/png": "[encoded data removed]",
      "text/plain": [
       "<Figure size 432x288 with 1 Axes>"
      ]
     },
     "metadata": {
      "needs_background": "light"
     },
     "output_type": "display_data"
    }
   ],
   "source": [
    "X_ = data_[[\"LoanAmount\",\"ApplicantIncome\"]]\n",
    "\n",
    "#Visualise data points\n",
    "plt.scatter(X_.iloc[:,1],X_.iloc[:, 0],c=new_labels)\n",
    "plt.scatter(X_Centroids, y_Centroids, c = \"yellow\", linewidth = 4)\n",
    "plt.xlabel('ApplicantIncome')\n",
    "plt.ylabel('Loan Amount (In Thousands)')\n",
    "plt.show()"
   ]
  },
  {
   "cell_type": "code",
   "execution_count": null,
   "id": "13eed946-f730-4d8d-910e-9124e346fec9",
   "metadata": {},
   "outputs": [],
   "source": []
  },
  {
   "cell_type": "code",
   "execution_count": null,
   "id": "67bacab1-1d96-42e8-a30d-a90577a03222",
   "metadata": {},
   "outputs": [],
   "source": []
  }
 ],
 "metadata": {
  "kernelspec": {
   "display_name": "Python 3",
   "language": "python",
   "name": "python3"
  },
  "language_info": {
   "codemirror_mode": {
    "name": "ipython",
    "version": 3
   },
   "file_extension": ".py",
   "mimetype": "text/x-python",
   "name": "python",
   "nbconvert_exporter": "python",
   "pygments_lexer": "ipython3",
   "version": "3.8.10"
  }
 },
 "nbformat": 4,
 "nbformat_minor": 5
}
