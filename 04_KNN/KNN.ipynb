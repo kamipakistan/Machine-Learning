{
 "cells": [
  {
   "cell_type": "markdown",
   "id": "6918ec66-1797-4a38-a8a1-934ee4ef4392",
   "metadata": {},
   "source": [
    "Best Sources:\n",
    "* [1-Analyticsvidhya](https://www.analyticsvidhya.com/blog/2021/05/knn-the-distance-based-machine-learning-algorithm/#:~:text=The%20abbreviation%20KNN%20stands%20for,by%20the%20symbol%20'K'.)\n",
    "* [2-Analyticsvidhya](https://www.analyticsvidhya.com/blog/2018/03/introduction-k-neighbours-algorithm-clustering/)"
   ]
  },
  {
   "cell_type": "markdown",
   "id": "bbe7b5f8-d04a-4e7d-b81f-a7d5407d1694",
   "metadata": {},
   "source": [
    "# **K-Nearest Neighbors**\n",
    "\n",
    "The abbreviation KNN stands for “K-Nearest Neighbour”. It is a supervised machine learning algorithm. The algorithm can be used to solve both classification and regression problem statements.\n",
    "\n",
    "Basic idea of K-Nearest Neighbors is to Predict the label of a data point by Looking at the ‘k’ closest labeled data points \n",
    "\n",
    "By Taking a majority vote Classes are decided\n",
    "\n",
    "<img src=\"https://www.analyticsvidhya.com/wp-content/uploads/2014/10/scenario2.png\" width=\"500\">"
   ]
  },
  {
   "cell_type": "markdown",
   "id": "d73176cd-168e-4e58-94a4-db2095cb6f2c",
   "metadata": {},
   "source": [
    "## How do we choose the factor K?"
   ]
  },
  {
   "cell_type": "markdown",
   "id": "a9d57f56-2eb2-4284-8bd4-b900a06bf236",
   "metadata": {},
   "source": [
    "The impact of selecting a smaller or larger K value on the model\n",
    "* **Larger K value: = smoother decision boundary = less complex model**.\n",
    "\n",
    "The case of underfitting occurs when the value of k is increased. In this case, the model would be unable to correctly learn on the training data.\n",
    "\n",
    "\n",
    "* **Smaller k value: = more complex model = can lead to over**.\n",
    "\n",
    "The condition of overfitting occurs when the value of k is smaller. The model will capture all of the training data, including noise. The model will perform poorly for the test data in this scenario. \n",
    "\n",
    "* Note!! It is recommended to always select an odd value of K ~ \n",
    "\n",
    "<img src = \"https://www.analyticsvidhya.com/wp-content/uploads/2014/10/K-judgement.png\" width=\"500\"/>\n",
    "<img src = \"https://www.analyticsvidhya.com/wp-content/uploads/2014/10/K-judgement2.png\" width=\"500\"/>"
   ]
  },
  {
   "cell_type": "markdown",
   "id": "cfc03035-886a-471a-8dad-ef289e2e7553",
   "metadata": {},
   "source": [
    "## How does KNN work for **Classification** and **Regression** problem statements?"
   ]
  },
  {
   "cell_type": "markdown",
   "id": "833914f3-1d80-4c22-901a-b93d4cabeccd",
   "metadata": {},
   "source": [
    "## Classification\n",
    "When the problem statement is of ‘classification’ type, KNN tends to use the concept of “Majority Voting”. Within the given range of K values, the class with the most votes is chosen.\n",
    "\n",
    "Consider the following diagram, in which a circle is drawn within the radius of the five closest neighbours. Four of the five neighbours in this neighbourhood voted for ‘RED,’ while one voted for ‘WHITE.’ It will be classified as a ‘RED’ wine based on the majority votes.\n",
    "\n",
    "<img src = \"https://editor.analyticsvidhya.com/uploads/525011_prEBTwv8V8BZiV-UbvXibQ.png\">"
   ]
  },
  {
   "cell_type": "markdown",
   "id": "7d4e7d17-d5d3-44d2-b99d-90a59c94df8c",
   "metadata": {},
   "source": [
    "* Real-world example:\n",
    "\n",
    "Several parties compete in an election in a democratic country like India. Parties compete for voter support during election campaigns. The public votes for the candidate with whom they feel more connected.\n",
    "\n",
    "When the votes for all of the candidates have been recorded, the candidate with the most votes is declared as the election’s winner."
   ]
  },
  {
   "cell_type": "markdown",
   "id": "784fde08-8726-4887-bc9e-7639789dbcd9",
   "metadata": {},
   "source": [
    "## Regression\n",
    "KNN employs a mean/average method for predicting the value of new data. Based on the value of K, it would consider all of the nearest neighbours.\n",
    "\n",
    "The algorithm attempts to calculate the mean for all the nearest neighbours’ values until it has identified all the nearest neighbours within a certain range of the K value.\n",
    "\n",
    "Consider the diagram below, where the value of k is set to 3. It will now calculate the mean (52) based on the values of these neighbours (50, 55, and 51) and allocate this value to the unknown data.\n",
    "\n",
    "<img src = \"https://editor.analyticsvidhya.com/uploads/89953Screenshot%202021-05-13%20at%206.53.40%20AM.png\">"
   ]
  },
  {
   "cell_type": "markdown",
   "id": "7cc4b241-8891-4e31-b47a-14946e82da48",
   "metadata": {},
   "source": [
    "## Distance Metrics\n",
    "[scikit-learn]()\n",
    "\n",
    "Metrics intended for real-valued vector spaces:\n",
    "\n",
    "| identifier\t| class name\t| args\t| distance function |\n",
    "|:- |:- |:- |:- |\n",
    "|\"euclidean\" | \tEuclideanDistance  |   | $\\sqrt{\\sum(x - y)^2)}$  |  \n",
    "|\"manhattan\" | ManhattanDistance |  | $\\sum\\big|x - y\\big|$|  \n",
    "|\"chebyshev\" | ChebyshevDistance |  | max${\\big|x - y\\big|}$ |  \n",
    "|\"minkowski\" | MinkowskiDistance\t | p\t | $\\sum(\\big|x - y\\big|^p)^{\\frac{1}{p}}$     | \n",
    "|\"wminkowski\" | WMinkowskiDistance\t | p, w\t | $\\sum(w\\big|x - y\\big|^p)^{\\frac{1}{p}}$     |\n",
    "|\"seuclidean\" | SEuclideanDistance\t | V\t | $\\sqrt{\\sum\\frac{(x - y)^2}{V})}$     | \n"
   ]
  },
  {
   "cell_type": "markdown",
   "id": "6b4b5ddd-030b-4419-b6fe-729f654e781e",
   "metadata": {},
   "source": [
    "# Implementation"
   ]
  },
  {
   "cell_type": "code",
   "execution_count": 7,
   "id": "19ca1e93-d8ff-46b2-bc1a-89ca497d9222",
   "metadata": {},
   "outputs": [],
   "source": [
    "import pandas as pd\n",
    "import numpy as np\n",
    "import seaborn as sns\n",
    "import matplotlib.pyplot as plt\n",
    "plt.style.use(\"ggplot\")\n",
    "from sklearn import datasets"
   ]
  },
  {
   "cell_type": "code",
   "execution_count": 8,
   "id": "175e638c-ee5c-4caf-bf6e-768bc0469c0d",
   "metadata": {},
   "outputs": [],
   "source": [
    "iris = datasets.load_iris()"
   ]
  },
  {
   "cell_type": "code",
   "execution_count": 9,
   "id": "7c58d04b-1762-4d32-a512-785f045df480",
   "metadata": {},
   "outputs": [],
   "source": [
    "data = pd.DataFrame(iris.data, columns = iris.feature_names)"
   ]
  },
  {
   "cell_type": "code",
   "execution_count": 10,
   "id": "2d566d42-1a2a-442a-b3e3-4f18b4fffc9e",
   "metadata": {},
   "outputs": [
    {
     "data": {
      "text/html": [
       "<div>\n",
       "<style scoped>\n",
       "    .dataframe tbody tr th:only-of-type {\n",
       "        vertical-align: middle;\n",
       "    }\n",
       "\n",
       "    .dataframe tbody tr th {\n",
       "        vertical-align: top;\n",
       "    }\n",
       "\n",
       "    .dataframe thead th {\n",
       "        text-align: right;\n",
       "    }\n",
       "</style>\n",
       "<table border=\"1\" class=\"dataframe\">\n",
       "  <thead>\n",
       "    <tr style=\"text-align: right;\">\n",
       "      <th></th>\n",
       "      <th>sepal length (cm)</th>\n",
       "      <th>sepal width (cm)</th>\n",
       "      <th>petal length (cm)</th>\n",
       "      <th>petal width (cm)</th>\n",
       "    </tr>\n",
       "  </thead>\n",
       "  <tbody>\n",
       "    <tr>\n",
       "      <th>0</th>\n",
       "      <td>5.1</td>\n",
       "      <td>3.5</td>\n",
       "      <td>1.4</td>\n",
       "      <td>0.2</td>\n",
       "    </tr>\n",
       "    <tr>\n",
       "      <th>1</th>\n",
       "      <td>4.9</td>\n",
       "      <td>3.0</td>\n",
       "      <td>1.4</td>\n",
       "      <td>0.2</td>\n",
       "    </tr>\n",
       "    <tr>\n",
       "      <th>2</th>\n",
       "      <td>4.7</td>\n",
       "      <td>3.2</td>\n",
       "      <td>1.3</td>\n",
       "      <td>0.2</td>\n",
       "    </tr>\n",
       "    <tr>\n",
       "      <th>3</th>\n",
       "      <td>4.6</td>\n",
       "      <td>3.1</td>\n",
       "      <td>1.5</td>\n",
       "      <td>0.2</td>\n",
       "    </tr>\n",
       "    <tr>\n",
       "      <th>4</th>\n",
       "      <td>5.0</td>\n",
       "      <td>3.6</td>\n",
       "      <td>1.4</td>\n",
       "      <td>0.2</td>\n",
       "    </tr>\n",
       "  </tbody>\n",
       "</table>\n",
       "</div>"
      ],
      "text/plain": [
       "   sepal length (cm)  sepal width (cm)  petal length (cm)  petal width (cm)\n",
       "0                5.1               3.5                1.4               0.2\n",
       "1                4.9               3.0                1.4               0.2\n",
       "2                4.7               3.2                1.3               0.2\n",
       "3                4.6               3.1                1.5               0.2\n",
       "4                5.0               3.6                1.4               0.2"
      ]
     },
     "execution_count": 10,
     "metadata": {},
     "output_type": "execute_result"
    }
   ],
   "source": [
    "data.head()"
   ]
  },
  {
   "cell_type": "code",
   "execution_count": 11,
   "id": "042fd72b-7b71-4451-b09e-15b6fa7ae3ed",
   "metadata": {},
   "outputs": [
    {
     "data": {
      "text/html": [
       "<div>\n",
       "<style scoped>\n",
       "    .dataframe tbody tr th:only-of-type {\n",
       "        vertical-align: middle;\n",
       "    }\n",
       "\n",
       "    .dataframe tbody tr th {\n",
       "        vertical-align: top;\n",
       "    }\n",
       "\n",
       "    .dataframe thead th {\n",
       "        text-align: right;\n",
       "    }\n",
       "</style>\n",
       "<table border=\"1\" class=\"dataframe\">\n",
       "  <thead>\n",
       "    <tr style=\"text-align: right;\">\n",
       "      <th></th>\n",
       "      <th>sepal length (cm)</th>\n",
       "      <th>sepal width (cm)</th>\n",
       "      <th>petal length (cm)</th>\n",
       "      <th>petal width (cm)</th>\n",
       "    </tr>\n",
       "  </thead>\n",
       "  <tbody>\n",
       "    <tr>\n",
       "      <th>count</th>\n",
       "      <td>150.000000</td>\n",
       "      <td>150.000000</td>\n",
       "      <td>150.000000</td>\n",
       "      <td>150.000000</td>\n",
       "    </tr>\n",
       "    <tr>\n",
       "      <th>mean</th>\n",
       "      <td>5.843333</td>\n",
       "      <td>3.057333</td>\n",
       "      <td>3.758000</td>\n",
       "      <td>1.199333</td>\n",
       "    </tr>\n",
       "    <tr>\n",
       "      <th>std</th>\n",
       "      <td>0.828066</td>\n",
       "      <td>0.435866</td>\n",
       "      <td>1.765298</td>\n",
       "      <td>0.762238</td>\n",
       "    </tr>\n",
       "    <tr>\n",
       "      <th>min</th>\n",
       "      <td>4.300000</td>\n",
       "      <td>2.000000</td>\n",
       "      <td>1.000000</td>\n",
       "      <td>0.100000</td>\n",
       "    </tr>\n",
       "    <tr>\n",
       "      <th>25%</th>\n",
       "      <td>5.100000</td>\n",
       "      <td>2.800000</td>\n",
       "      <td>1.600000</td>\n",
       "      <td>0.300000</td>\n",
       "    </tr>\n",
       "    <tr>\n",
       "      <th>50%</th>\n",
       "      <td>5.800000</td>\n",
       "      <td>3.000000</td>\n",
       "      <td>4.350000</td>\n",
       "      <td>1.300000</td>\n",
       "    </tr>\n",
       "    <tr>\n",
       "      <th>75%</th>\n",
       "      <td>6.400000</td>\n",
       "      <td>3.300000</td>\n",
       "      <td>5.100000</td>\n",
       "      <td>1.800000</td>\n",
       "    </tr>\n",
       "    <tr>\n",
       "      <th>max</th>\n",
       "      <td>7.900000</td>\n",
       "      <td>4.400000</td>\n",
       "      <td>6.900000</td>\n",
       "      <td>2.500000</td>\n",
       "    </tr>\n",
       "  </tbody>\n",
       "</table>\n",
       "</div>"
      ],
      "text/plain": [
       "       sepal length (cm)  sepal width (cm)  petal length (cm)  \\\n",
       "count         150.000000        150.000000         150.000000   \n",
       "mean            5.843333          3.057333           3.758000   \n",
       "std             0.828066          0.435866           1.765298   \n",
       "min             4.300000          2.000000           1.000000   \n",
       "25%             5.100000          2.800000           1.600000   \n",
       "50%             5.800000          3.000000           4.350000   \n",
       "75%             6.400000          3.300000           5.100000   \n",
       "max             7.900000          4.400000           6.900000   \n",
       "\n",
       "       petal width (cm)  \n",
       "count        150.000000  \n",
       "mean           1.199333  \n",
       "std            0.762238  \n",
       "min            0.100000  \n",
       "25%            0.300000  \n",
       "50%            1.300000  \n",
       "75%            1.800000  \n",
       "max            2.500000  "
      ]
     },
     "execution_count": 11,
     "metadata": {},
     "output_type": "execute_result"
    }
   ],
   "source": [
    "#statistical information\n",
    "data.describe()"
   ]
  },
  {
   "cell_type": "code",
   "execution_count": 15,
   "id": "8cf2bb9b-dd3b-4eee-98f2-0854adc791f5",
   "metadata": {},
   "outputs": [],
   "source": [
    "X = data.copy().values\n",
    "y = iris.target"
   ]
  },
  {
   "cell_type": "code",
   "execution_count": 28,
   "id": "214fb1d4-f15b-4d9b-9abf-6612269a4030",
   "metadata": {},
   "outputs": [],
   "source": [
    "from sklearn.model_selection import train_test_split\n",
    "X_train,X_test,y_train,y_test = train_test_split(X,y,test_size=0.3,random_state=21,)\n",
    "\n",
    "knn = KNeighborsClassifier(n_neighbors=6)\n",
    "\n",
    "knn.fit(X_train, y_train)\n",
    "\n",
    "y_pred = knn.predict(X_test)"
   ]
  },
  {
   "cell_type": "code",
   "execution_count": 29,
   "id": "302758eb-97e1-4b5d-a452-a8e3b748ac63",
   "metadata": {},
   "outputs": [
    {
     "data": {
      "text/plain": [
       "<AxesSubplot:>"
      ]
     },
     "execution_count": 29,
     "metadata": {},
     "output_type": "execute_result"
    },
    {
     "data": {
      "image/png": "[encoded data removed]",
      "text/plain": [
       "<Figure size 432x288 with 2 Axes>"
      ]
     },
     "metadata": {},
     "output_type": "display_data"
    }
   ],
   "source": [
    "from sklearn.metrics import classification_report, confusion_matrix\n",
    "\n",
    "cm = confusion_matrix(y_pred, y_test)\n",
    "\n",
    "sns.heatmap(cm, annot  =True)"
   ]
  },
  {
   "cell_type": "code",
   "execution_count": 30,
   "id": "8e4d5aea-458b-428c-bb94-e7cecbcb84d4",
   "metadata": {},
   "outputs": [
    {
     "name": "stdout",
     "output_type": "stream",
     "text": [
      "              precision    recall  f1-score   support\n",
      "\n",
      "           0       1.00      1.00      1.00        14\n",
      "           1       0.94      0.83      0.88        18\n",
      "           2       0.80      0.92      0.86        13\n",
      "\n",
      "    accuracy                           0.91        45\n",
      "   macro avg       0.91      0.92      0.91        45\n",
      "weighted avg       0.92      0.91      0.91        45\n",
      "\n"
     ]
    }
   ],
   "source": [
    "from sklearn.metrics import classification_report\n",
    "\n",
    "print(classification_report(y_pred, y_test))"
   ]
  },
  {
   "cell_type": "markdown",
   "id": "3dd7bc8d-ec14-4c76-a91e-cff549c92ad8",
   "metadata": {},
   "source": [
    "# Choosing the value of k"
   ]
  },
  {
   "cell_type": "code",
   "execution_count": 31,
   "id": "63f76891-9eec-4541-8ba1-092073feb285",
   "metadata": {},
   "outputs": [
    {
     "data": {
      "text/plain": [
       "{'n_neighbors': 6}"
      ]
     },
     "execution_count": 31,
     "metadata": {},
     "output_type": "execute_result"
    }
   ],
   "source": [
    "from sklearn.model_selection import GridSearchCV\n",
    "param_grid = {'n_neighbors': np.arange(1, 50)}\n",
    "\n",
    "knn = KNeighborsClassifier()\n",
    "knn_cv = GridSearchCV(knn, param_grid, cv=5)\n",
    "knn_cv.fit(X, y)\n",
    "\n",
    "knn_cv.best_params_"
   ]
  },
  {
   "cell_type": "code",
   "execution_count": 32,
   "id": "240b55cb-9d83-47f6-98e9-34425c717a78",
   "metadata": {},
   "outputs": [
    {
     "data": {
      "text/plain": [
       "0.9800000000000001"
      ]
     },
     "execution_count": 32,
     "metadata": {},
     "output_type": "execute_result"
    }
   ],
   "source": [
    "knn_cv.best_score_"
   ]
  }
 ],
 "metadata": {
  "kernelspec": {
   "display_name": "Python 3",
   "language": "python",
   "name": "python3"
  },
  "language_info": {
   "codemirror_mode": {
    "name": "ipython",
    "version": 3
   },
   "file_extension": ".py",
   "mimetype": "text/x-python",
   "name": "python",
   "nbconvert_exporter": "python",
   "pygments_lexer": "ipython3",
   "version": "3.8.10"
  }
 },
 "nbformat": 4,
 "nbformat_minor": 5
}
