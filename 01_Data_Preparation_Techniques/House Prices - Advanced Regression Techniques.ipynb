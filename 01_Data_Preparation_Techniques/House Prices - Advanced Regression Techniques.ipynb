{
 "cells": [
  {
   "cell_type": "markdown",
   "id": "2fe32d41-f97f-456e-9ad5-caecba002b9d",
   "metadata": {},
   "source": [
    "# **House Prices - Advanced Regression Techniques**"
   ]
  },
  {
   "cell_type": "markdown",
   "id": "d6b101a6-8c07-4a9f-a826-7cb31f15613e",
   "metadata": {},
   "source": [
    "**Importing Necessary Libraries**"
   ]
  },
  {
   "cell_type": "code",
   "execution_count": 1,
   "id": "d477ab60-c574-4464-8224-93fc9be4c674",
   "metadata": {},
   "outputs": [],
   "source": [
    "import pandas as pd\n",
    "import numpy as np\n",
    "import seaborn as sns\n",
    "import matplotlib.pyplot as plt\n",
    "plt.style.use(\"seaborn-whitegrid\")"
   ]
  },
  {
   "cell_type": "markdown",
   "id": "cfa21409-aad4-4784-9935-8e92bd0a1731",
   "metadata": {},
   "source": [
    "**Reading the Dataset**"
   ]
  },
  {
   "cell_type": "code",
   "execution_count": 2,
   "id": "2cd68478-c39e-45ef-9da3-45a3d05c46d6",
   "metadata": {},
   "outputs": [],
   "source": [
    "data = pd.read_csv(\"train.csv\", index_col = \"Id\" )\n",
    "test_data = pd.read_csv(\"test.csv\", index_col = \"Id\")"
   ]
  },
  {
   "cell_type": "code",
   "execution_count": 3,
   "id": "2363a696-6cfb-4f9f-b11a-8cb58a47209b",
   "metadata": {},
   "outputs": [
    {
     "data": {
      "text/plain": [
       "(1460, 80)"
      ]
     },
     "execution_count": 3,
     "metadata": {},
     "output_type": "execute_result"
    }
   ],
   "source": [
    "data.shape"
   ]
  },
  {
   "cell_type": "code",
   "execution_count": 4,
   "id": "979355cf-ab89-43c9-8590-bd13cd69bbb4",
   "metadata": {},
   "outputs": [
    {
     "data": {
      "text/html": [
       "<div>\n",
       "<style scoped>\n",
       "    .dataframe tbody tr th:only-of-type {\n",
       "        vertical-align: middle;\n",
       "    }\n",
       "\n",
       "    .dataframe tbody tr th {\n",
       "        vertical-align: top;\n",
       "    }\n",
       "\n",
       "    .dataframe thead th {\n",
       "        text-align: right;\n",
       "    }\n",
       "</style>\n",
       "<table border=\"1\" class=\"dataframe\">\n",
       "  <thead>\n",
       "    <tr style=\"text-align: right;\">\n",
       "      <th></th>\n",
       "      <th>MSSubClass</th>\n",
       "      <th>MSZoning</th>\n",
       "      <th>LotFrontage</th>\n",
       "      <th>LotArea</th>\n",
       "      <th>Street</th>\n",
       "      <th>Alley</th>\n",
       "      <th>LotShape</th>\n",
       "      <th>LandContour</th>\n",
       "      <th>Utilities</th>\n",
       "      <th>LotConfig</th>\n",
       "      <th>LandSlope</th>\n",
       "      <th>Neighborhood</th>\n",
       "      <th>Condition1</th>\n",
       "      <th>Condition2</th>\n",
       "      <th>BldgType</th>\n",
       "      <th>HouseStyle</th>\n",
       "      <th>OverallQual</th>\n",
       "      <th>OverallCond</th>\n",
       "      <th>YearBuilt</th>\n",
       "      <th>YearRemodAdd</th>\n",
       "      <th>RoofStyle</th>\n",
       "      <th>RoofMatl</th>\n",
       "      <th>Exterior1st</th>\n",
       "      <th>Exterior2nd</th>\n",
       "      <th>MasVnrType</th>\n",
       "      <th>MasVnrArea</th>\n",
       "      <th>ExterQual</th>\n",
       "      <th>ExterCond</th>\n",
       "      <th>Foundation</th>\n",
       "      <th>BsmtQual</th>\n",
       "      <th>BsmtCond</th>\n",
       "      <th>BsmtExposure</th>\n",
       "      <th>BsmtFinType1</th>\n",
       "      <th>BsmtFinSF1</th>\n",
       "      <th>BsmtFinType2</th>\n",
       "      <th>BsmtFinSF2</th>\n",
       "      <th>BsmtUnfSF</th>\n",
       "      <th>TotalBsmtSF</th>\n",
       "      <th>Heating</th>\n",
       "      <th>HeatingQC</th>\n",
       "      <th>CentralAir</th>\n",
       "      <th>Electrical</th>\n",
       "      <th>1stFlrSF</th>\n",
       "      <th>2ndFlrSF</th>\n",
       "      <th>LowQualFinSF</th>\n",
       "      <th>GrLivArea</th>\n",
       "      <th>BsmtFullBath</th>\n",
       "      <th>BsmtHalfBath</th>\n",
       "      <th>FullBath</th>\n",
       "      <th>HalfBath</th>\n",
       "      <th>BedroomAbvGr</th>\n",
       "      <th>KitchenAbvGr</th>\n",
       "      <th>KitchenQual</th>\n",
       "      <th>TotRmsAbvGrd</th>\n",
       "      <th>Functional</th>\n",
       "      <th>Fireplaces</th>\n",
       "      <th>FireplaceQu</th>\n",
       "      <th>GarageType</th>\n",
       "      <th>GarageYrBlt</th>\n",
       "      <th>GarageFinish</th>\n",
       "      <th>GarageCars</th>\n",
       "      <th>GarageArea</th>\n",
       "      <th>GarageQual</th>\n",
       "      <th>GarageCond</th>\n",
       "      <th>PavedDrive</th>\n",
       "      <th>WoodDeckSF</th>\n",
       "      <th>OpenPorchSF</th>\n",
       "      <th>EnclosedPorch</th>\n",
       "      <th>3SsnPorch</th>\n",
       "      <th>ScreenPorch</th>\n",
       "      <th>PoolArea</th>\n",
       "      <th>PoolQC</th>\n",
       "      <th>Fence</th>\n",
       "      <th>MiscFeature</th>\n",
       "      <th>MiscVal</th>\n",
       "      <th>MoSold</th>\n",
       "      <th>YrSold</th>\n",
       "      <th>SaleType</th>\n",
       "      <th>SaleCondition</th>\n",
       "      <th>SalePrice</th>\n",
       "    </tr>\n",
       "    <tr>\n",
       "      <th>Id</th>\n",
       "      <th></th>\n",
       "      <th></th>\n",
       "      <th></th>\n",
       "      <th></th>\n",
       "      <th></th>\n",
       "      <th></th>\n",
       "      <th></th>\n",
       "      <th></th>\n",
       "      <th></th>\n",
       "      <th></th>\n",
       "      <th></th>\n",
       "      <th></th>\n",
       "      <th></th>\n",
       "      <th></th>\n",
       "      <th></th>\n",
       "      <th></th>\n",
       "      <th></th>\n",
       "      <th></th>\n",
       "      <th></th>\n",
       "      <th></th>\n",
       "      <th></th>\n",
       "      <th></th>\n",
       "      <th></th>\n",
       "      <th></th>\n",
       "      <th></th>\n",
       "      <th></th>\n",
       "      <th></th>\n",
       "      <th></th>\n",
       "      <th></th>\n",
       "      <th></th>\n",
       "      <th></th>\n",
       "      <th></th>\n",
       "      <th></th>\n",
       "      <th></th>\n",
       "      <th></th>\n",
       "      <th></th>\n",
       "      <th></th>\n",
       "      <th></th>\n",
       "      <th></th>\n",
       "      <th></th>\n",
       "      <th></th>\n",
       "      <th></th>\n",
       "      <th></th>\n",
       "      <th></th>\n",
       "      <th></th>\n",
       "      <th></th>\n",
       "      <th></th>\n",
       "      <th></th>\n",
       "      <th></th>\n",
       "      <th></th>\n",
       "      <th></th>\n",
       "      <th></th>\n",
       "      <th></th>\n",
       "      <th></th>\n",
       "      <th></th>\n",
       "      <th></th>\n",
       "      <th></th>\n",
       "      <th></th>\n",
       "      <th></th>\n",
       "      <th></th>\n",
       "      <th></th>\n",
       "      <th></th>\n",
       "      <th></th>\n",
       "      <th></th>\n",
       "      <th></th>\n",
       "      <th></th>\n",
       "      <th></th>\n",
       "      <th></th>\n",
       "      <th></th>\n",
       "      <th></th>\n",
       "      <th></th>\n",
       "      <th></th>\n",
       "      <th></th>\n",
       "      <th></th>\n",
       "      <th></th>\n",
       "      <th></th>\n",
       "      <th></th>\n",
       "      <th></th>\n",
       "      <th></th>\n",
       "      <th></th>\n",
       "    </tr>\n",
       "  </thead>\n",
       "  <tbody>\n",
       "    <tr>\n",
       "      <th>1</th>\n",
       "      <td>60</td>\n",
       "      <td>RL</td>\n",
       "      <td>65.0</td>\n",
       "      <td>8450</td>\n",
       "      <td>Pave</td>\n",
       "      <td>NaN</td>\n",
       "      <td>Reg</td>\n",
       "      <td>Lvl</td>\n",
       "      <td>AllPub</td>\n",
       "      <td>Inside</td>\n",
       "      <td>Gtl</td>\n",
       "      <td>CollgCr</td>\n",
       "      <td>Norm</td>\n",
       "      <td>Norm</td>\n",
       "      <td>1Fam</td>\n",
       "      <td>2Story</td>\n",
       "      <td>7</td>\n",
       "      <td>5</td>\n",
       "      <td>2003</td>\n",
       "      <td>2003</td>\n",
       "      <td>Gable</td>\n",
       "      <td>CompShg</td>\n",
       "      <td>VinylSd</td>\n",
       "      <td>VinylSd</td>\n",
       "      <td>BrkFace</td>\n",
       "      <td>196.0</td>\n",
       "      <td>Gd</td>\n",
       "      <td>TA</td>\n",
       "      <td>PConc</td>\n",
       "      <td>Gd</td>\n",
       "      <td>TA</td>\n",
       "      <td>No</td>\n",
       "      <td>GLQ</td>\n",
       "      <td>706</td>\n",
       "      <td>Unf</td>\n",
       "      <td>0</td>\n",
       "      <td>150</td>\n",
       "      <td>856</td>\n",
       "      <td>GasA</td>\n",
       "      <td>Ex</td>\n",
       "      <td>Y</td>\n",
       "      <td>SBrkr</td>\n",
       "      <td>856</td>\n",
       "      <td>854</td>\n",
       "      <td>0</td>\n",
       "      <td>1710</td>\n",
       "      <td>1</td>\n",
       "      <td>0</td>\n",
       "      <td>2</td>\n",
       "      <td>1</td>\n",
       "      <td>3</td>\n",
       "      <td>1</td>\n",
       "      <td>Gd</td>\n",
       "      <td>8</td>\n",
       "      <td>Typ</td>\n",
       "      <td>0</td>\n",
       "      <td>NaN</td>\n",
       "      <td>Attchd</td>\n",
       "      <td>2003.0</td>\n",
       "      <td>RFn</td>\n",
       "      <td>2</td>\n",
       "      <td>548</td>\n",
       "      <td>TA</td>\n",
       "      <td>TA</td>\n",
       "      <td>Y</td>\n",
       "      <td>0</td>\n",
       "      <td>61</td>\n",
       "      <td>0</td>\n",
       "      <td>0</td>\n",
       "      <td>0</td>\n",
       "      <td>0</td>\n",
       "      <td>NaN</td>\n",
       "      <td>NaN</td>\n",
       "      <td>NaN</td>\n",
       "      <td>0</td>\n",
       "      <td>2</td>\n",
       "      <td>2008</td>\n",
       "      <td>WD</td>\n",
       "      <td>Normal</td>\n",
       "      <td>208500</td>\n",
       "    </tr>\n",
       "    <tr>\n",
       "      <th>2</th>\n",
       "      <td>20</td>\n",
       "      <td>RL</td>\n",
       "      <td>80.0</td>\n",
       "      <td>9600</td>\n",
       "      <td>Pave</td>\n",
       "      <td>NaN</td>\n",
       "      <td>Reg</td>\n",
       "      <td>Lvl</td>\n",
       "      <td>AllPub</td>\n",
       "      <td>FR2</td>\n",
       "      <td>Gtl</td>\n",
       "      <td>Veenker</td>\n",
       "      <td>Feedr</td>\n",
       "      <td>Norm</td>\n",
       "      <td>1Fam</td>\n",
       "      <td>1Story</td>\n",
       "      <td>6</td>\n",
       "      <td>8</td>\n",
       "      <td>1976</td>\n",
       "      <td>1976</td>\n",
       "      <td>Gable</td>\n",
       "      <td>CompShg</td>\n",
       "      <td>MetalSd</td>\n",
       "      <td>MetalSd</td>\n",
       "      <td>None</td>\n",
       "      <td>0.0</td>\n",
       "      <td>TA</td>\n",
       "      <td>TA</td>\n",
       "      <td>CBlock</td>\n",
       "      <td>Gd</td>\n",
       "      <td>TA</td>\n",
       "      <td>Gd</td>\n",
       "      <td>ALQ</td>\n",
       "      <td>978</td>\n",
       "      <td>Unf</td>\n",
       "      <td>0</td>\n",
       "      <td>284</td>\n",
       "      <td>1262</td>\n",
       "      <td>GasA</td>\n",
       "      <td>Ex</td>\n",
       "      <td>Y</td>\n",
       "      <td>SBrkr</td>\n",
       "      <td>1262</td>\n",
       "      <td>0</td>\n",
       "      <td>0</td>\n",
       "      <td>1262</td>\n",
       "      <td>0</td>\n",
       "      <td>1</td>\n",
       "      <td>2</td>\n",
       "      <td>0</td>\n",
       "      <td>3</td>\n",
       "      <td>1</td>\n",
       "      <td>TA</td>\n",
       "      <td>6</td>\n",
       "      <td>Typ</td>\n",
       "      <td>1</td>\n",
       "      <td>TA</td>\n",
       "      <td>Attchd</td>\n",
       "      <td>1976.0</td>\n",
       "      <td>RFn</td>\n",
       "      <td>2</td>\n",
       "      <td>460</td>\n",
       "      <td>TA</td>\n",
       "      <td>TA</td>\n",
       "      <td>Y</td>\n",
       "      <td>298</td>\n",
       "      <td>0</td>\n",
       "      <td>0</td>\n",
       "      <td>0</td>\n",
       "      <td>0</td>\n",
       "      <td>0</td>\n",
       "      <td>NaN</td>\n",
       "      <td>NaN</td>\n",
       "      <td>NaN</td>\n",
       "      <td>0</td>\n",
       "      <td>5</td>\n",
       "      <td>2007</td>\n",
       "      <td>WD</td>\n",
       "      <td>Normal</td>\n",
       "      <td>181500</td>\n",
       "    </tr>\n",
       "    <tr>\n",
       "      <th>3</th>\n",
       "      <td>60</td>\n",
       "      <td>RL</td>\n",
       "      <td>68.0</td>\n",
       "      <td>11250</td>\n",
       "      <td>Pave</td>\n",
       "      <td>NaN</td>\n",
       "      <td>IR1</td>\n",
       "      <td>Lvl</td>\n",
       "      <td>AllPub</td>\n",
       "      <td>Inside</td>\n",
       "      <td>Gtl</td>\n",
       "      <td>CollgCr</td>\n",
       "      <td>Norm</td>\n",
       "      <td>Norm</td>\n",
       "      <td>1Fam</td>\n",
       "      <td>2Story</td>\n",
       "      <td>7</td>\n",
       "      <td>5</td>\n",
       "      <td>2001</td>\n",
       "      <td>2002</td>\n",
       "      <td>Gable</td>\n",
       "      <td>CompShg</td>\n",
       "      <td>VinylSd</td>\n",
       "      <td>VinylSd</td>\n",
       "      <td>BrkFace</td>\n",
       "      <td>162.0</td>\n",
       "      <td>Gd</td>\n",
       "      <td>TA</td>\n",
       "      <td>PConc</td>\n",
       "      <td>Gd</td>\n",
       "      <td>TA</td>\n",
       "      <td>Mn</td>\n",
       "      <td>GLQ</td>\n",
       "      <td>486</td>\n",
       "      <td>Unf</td>\n",
       "      <td>0</td>\n",
       "      <td>434</td>\n",
       "      <td>920</td>\n",
       "      <td>GasA</td>\n",
       "      <td>Ex</td>\n",
       "      <td>Y</td>\n",
       "      <td>SBrkr</td>\n",
       "      <td>920</td>\n",
       "      <td>866</td>\n",
       "      <td>0</td>\n",
       "      <td>1786</td>\n",
       "      <td>1</td>\n",
       "      <td>0</td>\n",
       "      <td>2</td>\n",
       "      <td>1</td>\n",
       "      <td>3</td>\n",
       "      <td>1</td>\n",
       "      <td>Gd</td>\n",
       "      <td>6</td>\n",
       "      <td>Typ</td>\n",
       "      <td>1</td>\n",
       "      <td>TA</td>\n",
       "      <td>Attchd</td>\n",
       "      <td>2001.0</td>\n",
       "      <td>RFn</td>\n",
       "      <td>2</td>\n",
       "      <td>608</td>\n",
       "      <td>TA</td>\n",
       "      <td>TA</td>\n",
       "      <td>Y</td>\n",
       "      <td>0</td>\n",
       "      <td>42</td>\n",
       "      <td>0</td>\n",
       "      <td>0</td>\n",
       "      <td>0</td>\n",
       "      <td>0</td>\n",
       "      <td>NaN</td>\n",
       "      <td>NaN</td>\n",
       "      <td>NaN</td>\n",
       "      <td>0</td>\n",
       "      <td>9</td>\n",
       "      <td>2008</td>\n",
       "      <td>WD</td>\n",
       "      <td>Normal</td>\n",
       "      <td>223500</td>\n",
       "    </tr>\n",
       "    <tr>\n",
       "      <th>4</th>\n",
       "      <td>70</td>\n",
       "      <td>RL</td>\n",
       "      <td>60.0</td>\n",
       "      <td>9550</td>\n",
       "      <td>Pave</td>\n",
       "      <td>NaN</td>\n",
       "      <td>IR1</td>\n",
       "      <td>Lvl</td>\n",
       "      <td>AllPub</td>\n",
       "      <td>Corner</td>\n",
       "      <td>Gtl</td>\n",
       "      <td>Crawfor</td>\n",
       "      <td>Norm</td>\n",
       "      <td>Norm</td>\n",
       "      <td>1Fam</td>\n",
       "      <td>2Story</td>\n",
       "      <td>7</td>\n",
       "      <td>5</td>\n",
       "      <td>1915</td>\n",
       "      <td>1970</td>\n",
       "      <td>Gable</td>\n",
       "      <td>CompShg</td>\n",
       "      <td>Wd Sdng</td>\n",
       "      <td>Wd Shng</td>\n",
       "      <td>None</td>\n",
       "      <td>0.0</td>\n",
       "      <td>TA</td>\n",
       "      <td>TA</td>\n",
       "      <td>BrkTil</td>\n",
       "      <td>TA</td>\n",
       "      <td>Gd</td>\n",
       "      <td>No</td>\n",
       "      <td>ALQ</td>\n",
       "      <td>216</td>\n",
       "      <td>Unf</td>\n",
       "      <td>0</td>\n",
       "      <td>540</td>\n",
       "      <td>756</td>\n",
       "      <td>GasA</td>\n",
       "      <td>Gd</td>\n",
       "      <td>Y</td>\n",
       "      <td>SBrkr</td>\n",
       "      <td>961</td>\n",
       "      <td>756</td>\n",
       "      <td>0</td>\n",
       "      <td>1717</td>\n",
       "      <td>1</td>\n",
       "      <td>0</td>\n",
       "      <td>1</td>\n",
       "      <td>0</td>\n",
       "      <td>3</td>\n",
       "      <td>1</td>\n",
       "      <td>Gd</td>\n",
       "      <td>7</td>\n",
       "      <td>Typ</td>\n",
       "      <td>1</td>\n",
       "      <td>Gd</td>\n",
       "      <td>Detchd</td>\n",
       "      <td>1998.0</td>\n",
       "      <td>Unf</td>\n",
       "      <td>3</td>\n",
       "      <td>642</td>\n",
       "      <td>TA</td>\n",
       "      <td>TA</td>\n",
       "      <td>Y</td>\n",
       "      <td>0</td>\n",
       "      <td>35</td>\n",
       "      <td>272</td>\n",
       "      <td>0</td>\n",
       "      <td>0</td>\n",
       "      <td>0</td>\n",
       "      <td>NaN</td>\n",
       "      <td>NaN</td>\n",
       "      <td>NaN</td>\n",
       "      <td>0</td>\n",
       "      <td>2</td>\n",
       "      <td>2006</td>\n",
       "      <td>WD</td>\n",
       "      <td>Abnorml</td>\n",
       "      <td>140000</td>\n",
       "    </tr>\n",
       "    <tr>\n",
       "      <th>5</th>\n",
       "      <td>60</td>\n",
       "      <td>RL</td>\n",
       "      <td>84.0</td>\n",
       "      <td>14260</td>\n",
       "      <td>Pave</td>\n",
       "      <td>NaN</td>\n",
       "      <td>IR1</td>\n",
       "      <td>Lvl</td>\n",
       "      <td>AllPub</td>\n",
       "      <td>FR2</td>\n",
       "      <td>Gtl</td>\n",
       "      <td>NoRidge</td>\n",
       "      <td>Norm</td>\n",
       "      <td>Norm</td>\n",
       "      <td>1Fam</td>\n",
       "      <td>2Story</td>\n",
       "      <td>8</td>\n",
       "      <td>5</td>\n",
       "      <td>2000</td>\n",
       "      <td>2000</td>\n",
       "      <td>Gable</td>\n",
       "      <td>CompShg</td>\n",
       "      <td>VinylSd</td>\n",
       "      <td>VinylSd</td>\n",
       "      <td>BrkFace</td>\n",
       "      <td>350.0</td>\n",
       "      <td>Gd</td>\n",
       "      <td>TA</td>\n",
       "      <td>PConc</td>\n",
       "      <td>Gd</td>\n",
       "      <td>TA</td>\n",
       "      <td>Av</td>\n",
       "      <td>GLQ</td>\n",
       "      <td>655</td>\n",
       "      <td>Unf</td>\n",
       "      <td>0</td>\n",
       "      <td>490</td>\n",
       "      <td>1145</td>\n",
       "      <td>GasA</td>\n",
       "      <td>Ex</td>\n",
       "      <td>Y</td>\n",
       "      <td>SBrkr</td>\n",
       "      <td>1145</td>\n",
       "      <td>1053</td>\n",
       "      <td>0</td>\n",
       "      <td>2198</td>\n",
       "      <td>1</td>\n",
       "      <td>0</td>\n",
       "      <td>2</td>\n",
       "      <td>1</td>\n",
       "      <td>4</td>\n",
       "      <td>1</td>\n",
       "      <td>Gd</td>\n",
       "      <td>9</td>\n",
       "      <td>Typ</td>\n",
       "      <td>1</td>\n",
       "      <td>TA</td>\n",
       "      <td>Attchd</td>\n",
       "      <td>2000.0</td>\n",
       "      <td>RFn</td>\n",
       "      <td>3</td>\n",
       "      <td>836</td>\n",
       "      <td>TA</td>\n",
       "      <td>TA</td>\n",
       "      <td>Y</td>\n",
       "      <td>192</td>\n",
       "      <td>84</td>\n",
       "      <td>0</td>\n",
       "      <td>0</td>\n",
       "      <td>0</td>\n",
       "      <td>0</td>\n",
       "      <td>NaN</td>\n",
       "      <td>NaN</td>\n",
       "      <td>NaN</td>\n",
       "      <td>0</td>\n",
       "      <td>12</td>\n",
       "      <td>2008</td>\n",
       "      <td>WD</td>\n",
       "      <td>Normal</td>\n",
       "      <td>250000</td>\n",
       "    </tr>\n",
       "  </tbody>\n",
       "</table>\n",
       "</div>"
      ],
      "text/plain": [
       "    MSSubClass MSZoning  LotFrontage  LotArea Street Alley LotShape  \\\n",
       "Id                                                                    \n",
       "1           60       RL         65.0     8450   Pave   NaN      Reg   \n",
       "2           20       RL         80.0     9600   Pave   NaN      Reg   \n",
       "3           60       RL         68.0    11250   Pave   NaN      IR1   \n",
       "4           70       RL         60.0     9550   Pave   NaN      IR1   \n",
       "5           60       RL         84.0    14260   Pave   NaN      IR1   \n",
       "\n",
       "   LandContour Utilities LotConfig LandSlope Neighborhood Condition1  \\\n",
       "Id                                                                     \n",
       "1          Lvl    AllPub    Inside       Gtl      CollgCr       Norm   \n",
       "2          Lvl    AllPub       FR2       Gtl      Veenker      Feedr   \n",
       "3          Lvl    AllPub    Inside       Gtl      CollgCr       Norm   \n",
       "4          Lvl    AllPub    Corner       Gtl      Crawfor       Norm   \n",
       "5          Lvl    AllPub       FR2       Gtl      NoRidge       Norm   \n",
       "\n",
       "   Condition2 BldgType HouseStyle  OverallQual  OverallCond  YearBuilt  \\\n",
       "Id                                                                       \n",
       "1        Norm     1Fam     2Story            7            5       2003   \n",
       "2        Norm     1Fam     1Story            6            8       1976   \n",
       "3        Norm     1Fam     2Story            7            5       2001   \n",
       "4        Norm     1Fam     2Story            7            5       1915   \n",
       "5        Norm     1Fam     2Story            8            5       2000   \n",
       "\n",
       "    YearRemodAdd RoofStyle RoofMatl Exterior1st Exterior2nd MasVnrType  \\\n",
       "Id                                                                       \n",
       "1           2003     Gable  CompShg     VinylSd     VinylSd    BrkFace   \n",
       "2           1976     Gable  CompShg     MetalSd     MetalSd       None   \n",
       "3           2002     Gable  CompShg     VinylSd     VinylSd    BrkFace   \n",
       "4           1970     Gable  CompShg     Wd Sdng     Wd Shng       None   \n",
       "5           2000     Gable  CompShg     VinylSd     VinylSd    BrkFace   \n",
       "\n",
       "    MasVnrArea ExterQual ExterCond Foundation BsmtQual BsmtCond BsmtExposure  \\\n",
       "Id                                                                             \n",
       "1        196.0        Gd        TA      PConc       Gd       TA           No   \n",
       "2          0.0        TA        TA     CBlock       Gd       TA           Gd   \n",
       "3        162.0        Gd        TA      PConc       Gd       TA           Mn   \n",
       "4          0.0        TA        TA     BrkTil       TA       Gd           No   \n",
       "5        350.0        Gd        TA      PConc       Gd       TA           Av   \n",
       "\n",
       "   BsmtFinType1  BsmtFinSF1 BsmtFinType2  BsmtFinSF2  BsmtUnfSF  TotalBsmtSF  \\\n",
       "Id                                                                             \n",
       "1           GLQ         706          Unf           0        150          856   \n",
       "2           ALQ         978          Unf           0        284         1262   \n",
       "3           GLQ         486          Unf           0        434          920   \n",
       "4           ALQ         216          Unf           0        540          756   \n",
       "5           GLQ         655          Unf           0        490         1145   \n",
       "\n",
       "   Heating HeatingQC CentralAir Electrical  1stFlrSF  2ndFlrSF  LowQualFinSF  \\\n",
       "Id                                                                             \n",
       "1     GasA        Ex          Y      SBrkr       856       854             0   \n",
       "2     GasA        Ex          Y      SBrkr      1262         0             0   \n",
       "3     GasA        Ex          Y      SBrkr       920       866             0   \n",
       "4     GasA        Gd          Y      SBrkr       961       756             0   \n",
       "5     GasA        Ex          Y      SBrkr      1145      1053             0   \n",
       "\n",
       "    GrLivArea  BsmtFullBath  BsmtHalfBath  FullBath  HalfBath  BedroomAbvGr  \\\n",
       "Id                                                                            \n",
       "1        1710             1             0         2         1             3   \n",
       "2        1262             0             1         2         0             3   \n",
       "3        1786             1             0         2         1             3   \n",
       "4        1717             1             0         1         0             3   \n",
       "5        2198             1             0         2         1             4   \n",
       "\n",
       "    KitchenAbvGr KitchenQual  TotRmsAbvGrd Functional  Fireplaces FireplaceQu  \\\n",
       "Id                                                                              \n",
       "1              1          Gd             8        Typ           0         NaN   \n",
       "2              1          TA             6        Typ           1          TA   \n",
       "3              1          Gd             6        Typ           1          TA   \n",
       "4              1          Gd             7        Typ           1          Gd   \n",
       "5              1          Gd             9        Typ           1          TA   \n",
       "\n",
       "   GarageType  GarageYrBlt GarageFinish  GarageCars  GarageArea GarageQual  \\\n",
       "Id                                                                           \n",
       "1      Attchd       2003.0          RFn           2         548         TA   \n",
       "2      Attchd       1976.0          RFn           2         460         TA   \n",
       "3      Attchd       2001.0          RFn           2         608         TA   \n",
       "4      Detchd       1998.0          Unf           3         642         TA   \n",
       "5      Attchd       2000.0          RFn           3         836         TA   \n",
       "\n",
       "   GarageCond PavedDrive  WoodDeckSF  OpenPorchSF  EnclosedPorch  3SsnPorch  \\\n",
       "Id                                                                            \n",
       "1          TA          Y           0           61              0          0   \n",
       "2          TA          Y         298            0              0          0   \n",
       "3          TA          Y           0           42              0          0   \n",
       "4          TA          Y           0           35            272          0   \n",
       "5          TA          Y         192           84              0          0   \n",
       "\n",
       "    ScreenPorch  PoolArea PoolQC Fence MiscFeature  MiscVal  MoSold  YrSold  \\\n",
       "Id                                                                            \n",
       "1             0         0    NaN   NaN         NaN        0       2    2008   \n",
       "2             0         0    NaN   NaN         NaN        0       5    2007   \n",
       "3             0         0    NaN   NaN         NaN        0       9    2008   \n",
       "4             0         0    NaN   NaN         NaN        0       2    2006   \n",
       "5             0         0    NaN   NaN         NaN        0      12    2008   \n",
       "\n",
       "   SaleType SaleCondition  SalePrice  \n",
       "Id                                    \n",
       "1        WD        Normal     208500  \n",
       "2        WD        Normal     181500  \n",
       "3        WD        Normal     223500  \n",
       "4        WD       Abnorml     140000  \n",
       "5        WD        Normal     250000  "
      ]
     },
     "execution_count": 4,
     "metadata": {},
     "output_type": "execute_result"
    }
   ],
   "source": [
    "pd.set_option('max_columns',80)\n",
    "data.head()"
   ]
  },
  {
   "cell_type": "code",
   "execution_count": 5,
   "id": "9682a90f-1b86-47d4-b5e2-2b5170363d5f",
   "metadata": {},
   "outputs": [
    {
     "data": {
      "text/plain": [
       "Index(['MSSubClass', 'MSZoning', 'LotFrontage', 'LotArea', 'Street', 'Alley',\n",
       "       'LotShape', 'LandContour', 'Utilities', 'LotConfig', 'LandSlope',\n",
       "       'Neighborhood', 'Condition1', 'Condition2', 'BldgType', 'HouseStyle',\n",
       "       'OverallQual', 'OverallCond', 'YearBuilt', 'YearRemodAdd', 'RoofStyle',\n",
       "       'RoofMatl', 'Exterior1st', 'Exterior2nd', 'MasVnrType', 'MasVnrArea',\n",
       "       'ExterQual', 'ExterCond', 'Foundation', 'BsmtQual', 'BsmtCond',\n",
       "       'BsmtExposure', 'BsmtFinType1', 'BsmtFinSF1', 'BsmtFinType2',\n",
       "       'BsmtFinSF2', 'BsmtUnfSF', 'TotalBsmtSF', 'Heating', 'HeatingQC',\n",
       "       'CentralAir', 'Electrical', '1stFlrSF', '2ndFlrSF', 'LowQualFinSF',\n",
       "       'GrLivArea', 'BsmtFullBath', 'BsmtHalfBath', 'FullBath', 'HalfBath',\n",
       "       'BedroomAbvGr', 'KitchenAbvGr', 'KitchenQual', 'TotRmsAbvGrd',\n",
       "       'Functional', 'Fireplaces', 'FireplaceQu', 'GarageType', 'GarageYrBlt',\n",
       "       'GarageFinish', 'GarageCars', 'GarageArea', 'GarageQual', 'GarageCond',\n",
       "       'PavedDrive', 'WoodDeckSF', 'OpenPorchSF', 'EnclosedPorch', '3SsnPorch',\n",
       "       'ScreenPorch', 'PoolArea', 'PoolQC', 'Fence', 'MiscFeature', 'MiscVal',\n",
       "       'MoSold', 'YrSold', 'SaleType', 'SaleCondition', 'SalePrice'],\n",
       "      dtype='object')"
      ]
     },
     "execution_count": 5,
     "metadata": {},
     "output_type": "execute_result"
    }
   ],
   "source": [
    "data.columns"
   ]
  },
  {
   "cell_type": "markdown",
   "id": "1bf22999-4c05-4d5d-9e86-e6bd469ac682",
   "metadata": {},
   "source": [
    "## MAE Calculator"
   ]
  },
  {
   "cell_type": "code",
   "execution_count": 78,
   "id": "8a602756-ba75-4233-8166-e0680b032e11",
   "metadata": {},
   "outputs": [],
   "source": [
    "from sklearn.model_selection import train_test_split\n",
    "from sklearn.ensemble import RandomForestRegressor\n",
    "from sklearn.metrics import mean_absolute_error\n",
    "from xgboost import XGBRegressor\n",
    "from sklearn import metrics\n",
    "from sklearn.preprocessing import StandardScaler\n",
    "\n",
    "def cal_mae(X, y):\n",
    "    X_train, X_valid, y_train, y_valid = train_test_split(X, y, \n",
    "                                                      test_size = 0.25, \n",
    "                                                      random_state = 0)\n",
    "    \n",
    "#     scaler = StandardScaler()\n",
    "#     scaler.fit_transform(X_train)\n",
    "#     scaler.transform(X_valid)\n",
    "\n",
    "    model = XGBRegressor(n_estimators = 1000, learning_rate = 0.05)\n",
    "    model.fit(X_train, y_train)\n",
    "\n",
    "    prediction = model.predict(X_valid)\n",
    "    print(f\"Mean Squared Error :{metrics.mean_squared_error(y_valid, prediction)}\")\n",
    "    print(f\"Mean Absolute Error :{metrics.mean_absolute_error(y_valid, prediction)}\")"
   ]
  },
  {
   "cell_type": "markdown",
   "id": "3320f0e0-db11-44cd-b7c2-be4e27b4e478",
   "metadata": {},
   "source": [
    "# **1. Data Cleaning**"
   ]
  },
  {
   "cell_type": "markdown",
   "id": "5adecb82-5011-4393-bf4a-0fd4476de460",
   "metadata": {},
   "source": [
    "## Data Cleaning Step 1: **Handling Missing Values**"
   ]
  },
  {
   "cell_type": "markdown",
   "id": "85175f9e-c158-409d-8565-46f434539af8",
   "metadata": {},
   "source": [
    "### Handling Missing Values in Rows"
   ]
  },
  {
   "cell_type": "code",
   "execution_count": 7,
   "id": "ad479ad3-e5b0-4d41-9449-ba419d966867",
   "metadata": {},
   "outputs": [
    {
     "name": "stdout",
     "output_type": "stream",
     "text": [
      "Percentage of Missing Values in Rows\n"
     ]
    },
    {
     "data": {
      "text/plain": [
       "Id\n",
       "40      18.75\n",
       "1012    18.75\n",
       "1219    18.75\n",
       "534     18.75\n",
       "1180    17.50\n",
       "        ...  \n",
       "891      2.50\n",
       "1388     2.50\n",
       "1077     2.50\n",
       "1387     1.25\n",
       "1329     1.25\n",
       "Length: 1460, dtype: float64"
      ]
     },
     "execution_count": 7,
     "metadata": {},
     "output_type": "execute_result"
    }
   ],
   "source": [
    "# **Checking the Missing Values in the rows**\n",
    "\n",
    "# If we have above 20% or 30% Values missing in the Rows we will delete them\n",
    "\n",
    "full = data.shape[1]\n",
    "print(\"Percentage of Missing Values in Rows\")\n",
    "(data.isnull().sum(axis = 1).sort_values(ascending = False)/full)*100"
   ]
  },
  {
   "cell_type": "markdown",
   "id": "daee9174-3205-4d8d-bb8a-b9a30a917c3f",
   "metadata": {},
   "source": [
    "**Checking if there is any missing Value Present in row**"
   ]
  },
  {
   "cell_type": "code",
   "execution_count": 8,
   "id": "5be87e37-cbb8-4081-8294-05a8801386ce",
   "metadata": {},
   "outputs": [
    {
     "data": {
      "text/plain": [
       "Id\n",
       "1       True\n",
       "2       True\n",
       "3       True\n",
       "4       True\n",
       "5       True\n",
       "        ... \n",
       "1456    True\n",
       "1457    True\n",
       "1458    True\n",
       "1459    True\n",
       "1460    True\n",
       "Length: 1460, dtype: bool"
      ]
     },
     "execution_count": 8,
     "metadata": {},
     "output_type": "execute_result"
    }
   ],
   "source": [
    "# We see that we have missing values present in all the rows minimum of 1\n",
    "data.isnull().any(axis = 1)"
   ]
  },
  {
   "cell_type": "markdown",
   "id": "4fd0af42-e8ae-43f1-817d-f7cbfe8685ea",
   "metadata": {},
   "source": [
    "**Checking if we have all values missing in the a Row**"
   ]
  },
  {
   "cell_type": "code",
   "execution_count": 9,
   "id": "ef87f397-fcb0-4b48-b721-baa8ca6fb415",
   "metadata": {},
   "outputs": [
    {
     "data": {
      "text/plain": [
       "0"
      ]
     },
     "execution_count": 9,
     "metadata": {},
     "output_type": "execute_result"
    }
   ],
   "source": [
    "# So we have no row that have all the values missing\n",
    "data.isnull().all(axis = 0).sum()"
   ]
  },
  {
   "cell_type": "markdown",
   "id": "06861aaa-94a1-4848-9724-b0bfd7e0f117",
   "metadata": {},
   "source": [
    "#### **Checking the Missing Values in the Columns**"
   ]
  },
  {
   "cell_type": "code",
   "execution_count": 10,
   "id": "b285b518-23f0-4342-9bf3-fa629761793d",
   "metadata": {},
   "outputs": [
    {
     "name": "stdout",
     "output_type": "stream",
     "text": [
      "Percentage of Missing Values in Columns\n"
     ]
    },
    {
     "data": {
      "text/plain": [
       "PoolQC          99.520548\n",
       "MiscFeature     96.301370\n",
       "Alley           93.767123\n",
       "Fence           80.753425\n",
       "FireplaceQu     47.260274\n",
       "LotFrontage     17.739726\n",
       "GarageYrBlt      5.547945\n",
       "GarageCond       5.547945\n",
       "GarageType       5.547945\n",
       "GarageFinish     5.547945\n",
       "GarageQual       5.547945\n",
       "BsmtExposure     2.602740\n",
       "BsmtFinType2     2.602740\n",
       "BsmtCond         2.534247\n",
       "BsmtQual         2.534247\n",
       "dtype: float64"
      ]
     },
     "execution_count": 10,
     "metadata": {},
     "output_type": "execute_result"
    }
   ],
   "source": [
    "# If we have above 30% or 40% Values missing in the Rows we will delete them\n",
    "\n",
    "full = data.shape[0]\n",
    "print(\"Percentage of Missing Values in Columns\")\n",
    "missing_val_percentage = ((data.isnull().sum(axis = 0).sort_values(ascending = False)/full)*100)[:15]\n",
    "missing_val_percentage"
   ]
  },
  {
   "cell_type": "markdown",
   "id": "321a5a31-1d46-41b0-b148-a6e6de231852",
   "metadata": {},
   "source": [
    "**Dropping the high Percentage missing Values columns**"
   ]
  },
  {
   "cell_type": "code",
   "execution_count": 11,
   "id": "fdbb0837-fa03-4614-991b-0846a1963ae8",
   "metadata": {},
   "outputs": [],
   "source": [
    "# So we see that Some of the columns have very high percentage of missing values\n",
    "# So we will drop them\n",
    "miss_drop = list(missing_val_percentage[missing_val_percentage > 40].keys())\n",
    "data.drop(miss_drop, axis = 1, inplace = True)"
   ]
  },
  {
   "cell_type": "code",
   "execution_count": 12,
   "id": "9b593dc0-48bd-4f41-b52f-6ca8d85686e6",
   "metadata": {},
   "outputs": [],
   "source": [
    "miss_drop\n",
    "test_data.drop(miss_drop, axis = 1, inplace = True)"
   ]
  },
  {
   "cell_type": "markdown",
   "id": "99be7912-0323-4a46-aaa0-9a7751628737",
   "metadata": {},
   "source": [
    "**Checking the dtypes of the Missing Value Cols**"
   ]
  },
  {
   "cell_type": "code",
   "execution_count": 13,
   "id": "d278907d-c90a-4a55-aaae-c3ef0a4e6966",
   "metadata": {},
   "outputs": [
    {
     "data": {
      "text/plain": [
       "LotFrontage     float64\n",
       "MasVnrType       object\n",
       "MasVnrArea      float64\n",
       "BsmtQual         object\n",
       "BsmtCond         object\n",
       "BsmtExposure     object\n",
       "BsmtFinType1     object\n",
       "BsmtFinType2     object\n",
       "Electrical       object\n",
       "GarageType       object\n",
       "GarageYrBlt     float64\n",
       "GarageFinish     object\n",
       "GarageQual       object\n",
       "GarageCond       object\n",
       "dtype: object"
      ]
     },
     "execution_count": 13,
     "metadata": {},
     "output_type": "execute_result"
    }
   ],
   "source": [
    "data.dtypes[data.isnull().any()]"
   ]
  },
  {
   "cell_type": "markdown",
   "id": "9399bfa9-00aa-4951-82aa-bfca41a279d6",
   "metadata": {},
   "source": [
    "# 2. Imputation"
   ]
  },
  {
   "cell_type": "code",
   "execution_count": 14,
   "id": "c0e5445c-7cca-4b02-b6ee-1c24fc81ce44",
   "metadata": {},
   "outputs": [],
   "source": [
    "cat = [cname for cname in data.columns if (data[cname].dtype==\"object\")]\n",
    "num = [cname for cname in data.columns if (data[cname].dtype in [\"int64\", \"float64\"] )]"
   ]
  },
  {
   "cell_type": "markdown",
   "id": "1c93e02d-cfda-44fc-834a-8c98482c68fb",
   "metadata": {},
   "source": [
    "#### Imputing Num cols"
   ]
  },
  {
   "cell_type": "code",
   "execution_count": 15,
   "id": "b353ce2d-5c77-4f6b-9cad-747cc5e67bb6",
   "metadata": {},
   "outputs": [],
   "source": [
    "from sklearn.impute import SimpleImputer\n",
    "\n",
    "num_imputer = SimpleImputer(strategy='median')\n",
    "data[num] = num_imputer.fit_transform(data[num])"
   ]
  },
  {
   "cell_type": "markdown",
   "id": "69137866-8949-4c76-bdb0-48d4fda73955",
   "metadata": {},
   "source": [
    "#### Imputing Cat Cols"
   ]
  },
  {
   "cell_type": "code",
   "execution_count": 16,
   "id": "d2956d9b-8c3a-48d6-9db8-e8d928a775d6",
   "metadata": {},
   "outputs": [],
   "source": [
    "cat_imputer = SimpleImputer(strategy='most_frequent')\n",
    "data[cat] = cat_imputer.fit_transform(data[cat])"
   ]
  },
  {
   "cell_type": "markdown",
   "id": "f79581eb-2907-4f65-b5af-036e351b7f0a",
   "metadata": {},
   "source": [
    "**Checking the Null values after cleaning**"
   ]
  },
  {
   "cell_type": "code",
   "execution_count": 17,
   "id": "2902c464-c8ae-44c7-8653-43dd794b7499",
   "metadata": {},
   "outputs": [
    {
     "data": {
      "text/plain": [
       "0"
      ]
     },
     "execution_count": 17,
     "metadata": {},
     "output_type": "execute_result"
    }
   ],
   "source": [
    "data.isnull().sum().sum()"
   ]
  },
  {
   "cell_type": "markdown",
   "id": "62bf34e6-aaea-4b49-905c-14bf7eb47e79",
   "metadata": {},
   "source": [
    "#### Checking MAE after Applying **Onehot encoding**"
   ]
  },
  {
   "cell_type": "code",
   "execution_count": 18,
   "id": "3208b3c6-711e-4c96-99bc-1008edd79db8",
   "metadata": {},
   "outputs": [
    {
     "name": "stdout",
     "output_type": "stream",
     "text": [
      "16508.32428296233\n"
     ]
    }
   ],
   "source": [
    "X_full = pd.get_dummies(data)\n",
    "\n",
    "X = X_full.drop(\"SalePrice\", axis = 1)\n",
    "y = X_full.SalePrice\n",
    "\n",
    "cal_mae(X, y)"
   ]
  },
  {
   "cell_type": "markdown",
   "id": "eff1258b-d6e0-4211-bd7b-37e419e537b2",
   "metadata": {},
   "source": [
    "#### Checking MAE after Applying **Label Encoding**"
   ]
  },
  {
   "cell_type": "code",
   "execution_count": 186,
   "id": "41900ef6-a702-46ce-8ed5-f90faa8f52d3",
   "metadata": {},
   "outputs": [
    {
     "name": "stdout",
     "output_type": "stream",
     "text": [
      "Mean Squared Error :964518204.6525689\n",
      "Mean Absolute Error :16387.13803510274\n"
     ]
    }
   ],
   "source": [
    "from sklearn.preprocessing import LabelEncoder\n",
    "lencoder = LabelEncoder()\n",
    "\n",
    "X0 = data.copy()\n",
    "y0 = X0.pop(\"SalePrice\")\n",
    "\n",
    "# Label encoding for categoricals\n",
    "for colname in X0.select_dtypes(\"object\"):\n",
    "    X0[colname] = lencoder.fit_transform(X0[colname])\n",
    "    \n",
    "cal_mae(X0, y0)"
   ]
  },
  {
   "cell_type": "markdown",
   "id": "58d7e5e4-fd18-48c8-846d-ee4dfd5abb1d",
   "metadata": {},
   "source": [
    "#### **OrdinalEncoder**"
   ]
  },
  {
   "cell_type": "code",
   "execution_count": 187,
   "id": "3410cdb9-f9a6-4810-857a-46569d566810",
   "metadata": {},
   "outputs": [
    {
     "name": "stdout",
     "output_type": "stream",
     "text": [
      "Mean Squared Error :964518204.6525689\n",
      "Mean Absolute Error :16387.13803510274\n"
     ]
    }
   ],
   "source": [
    "from sklearn.preprocessing import OrdinalEncoder\n",
    "ordinal_encoder = OrdinalEncoder()\n",
    "\n",
    "Xoe = data.copy()\n",
    "yoe = Xoe.pop(\"SalePrice\")\n",
    "\n",
    "object_cols = [cname for cname in Xoe.columns if Xoe[cname].dtype== \"object\"]\n",
    "Xoe[object_cols] = ordinal_encoder.fit_transform(Xoe[object_cols])\n",
    "\n",
    "cal_mae(Xoe, yoe)\n"
   ]
  },
  {
   "cell_type": "code",
   "execution_count": 185,
   "id": "18f787a7-978b-4534-92bb-dd57a4a78a98",
   "metadata": {},
   "outputs": [],
   "source": [
    "# data[object_cols]"
   ]
  },
  {
   "cell_type": "markdown",
   "id": "9174c4a9-dc21-4edb-98d9-1c77f8f46723",
   "metadata": {},
   "source": [
    "### **Binary Encoder**"
   ]
  },
  {
   "cell_type": "code",
   "execution_count": 189,
   "id": "e2ebcc59-9822-4229-99fd-108cbc7e648c",
   "metadata": {},
   "outputs": [],
   "source": [
    "# from category_encoders import B\n",
    "# bencoder = BinaryEncoder()\n",
    "\n",
    "# Xbe = data.copy()\n",
    "# ybe = Xbe.pop(\"SalePrice\")\n",
    "    \n",
    "# object_cols = [cname for cname in Xbe.columns if Xbe[cname].dtype== \"object\"]\n",
    "# Xbe[object_cols]\n",
    "\n",
    "\n",
    "# bencoded = BinaryEncoder.fit_transform(Xbe.MSZoning)\n",
    "\n",
    "# # Xbe.drop(object_cols, axis  = 1, inplace = True)\n",
    "# # Xbe = pd.concat([Xbe, bencoded], axis = 1)\n",
    "# # # cal_mae(Xoe, yoe)"
   ]
  },
  {
   "cell_type": "markdown",
   "id": "8189b8bf-10b0-4554-ae59-9ebd4ae8de72",
   "metadata": {},
   "source": [
    "## Data Cleaning  Step 2 **Scaling and Normalization**"
   ]
  },
  {
   "cell_type": "markdown",
   "id": "f739c778-6780-4d82-9295-556856f6e087",
   "metadata": {},
   "source": [
    "## log Transformation"
   ]
  },
  {
   "cell_type": "code",
   "execution_count": 20,
   "id": "aae599d4-a17b-4a78-8f24-ef41e5a8d789",
   "metadata": {},
   "outputs": [
    {
     "name": "stderr",
     "output_type": "stream",
     "text": [
      "C:\\Users\\Hp\\anaconda3\\envs\\NCAI\\lib\\site-packages\\seaborn\\distributions.py:2557: FutureWarning: `distplot` is a deprecated function and will be removed in a future version. Please adapt your code to use either `displot` (a figure-level function with similar flexibility) or `histplot` (an axes-level function for histograms).\n",
      "  warnings.warn(msg, FutureWarning)\n"
     ]
    },
    {
     "name": "stdout",
     "output_type": "stream",
     "text": [
      "mean = 180921.20 and standard deviation = 79415.29\n"
     ]
    },
    {
     "data": {
      "image/png": "[encoded data removed]",
      "text/plain": [
       "<Figure size 432x288 with 1 Axes>"
      ]
     },
     "metadata": {},
     "output_type": "display_data"
    }
   ],
   "source": [
    "from scipy import stats\n",
    "from scipy.stats import norm\n",
    "\n",
    "#Checking for the distribution and skewness after transformation\n",
    "sns.distplot(data.SalePrice , fit = norm)\n",
    "\n",
    "# Get the fitted parameters used by the function\n",
    "(mu, sigma) = norm.fit(data.SalePrice)\n",
    "print('mean = {:.2f} and standard deviation = {:.2f}'.format(mu, sigma))"
   ]
  },
  {
   "cell_type": "markdown",
   "id": "780cc960-00bf-4885-8f56-3d443e928702",
   "metadata": {},
   "source": [
    "**Applying log transformation**"
   ]
  },
  {
   "cell_type": "code",
   "execution_count": 21,
   "id": "dbbdf05e-4edc-4d59-942b-0283bbb3ab40",
   "metadata": {},
   "outputs": [
    {
     "name": "stderr",
     "output_type": "stream",
     "text": [
      "C:\\Users\\Hp\\anaconda3\\envs\\NCAI\\lib\\site-packages\\seaborn\\distributions.py:2557: FutureWarning: `distplot` is a deprecated function and will be removed in a future version. Please adapt your code to use either `displot` (a figure-level function with similar flexibility) or `histplot` (an axes-level function for histograms).\n",
      "  warnings.warn(msg, FutureWarning)\n"
     ]
    },
    {
     "name": "stdout",
     "output_type": "stream",
     "text": [
      "mean = 12.02 and standard deviation = 0.40\n"
     ]
    },
    {
     "data": {
      "image/png": "[encoded data removed]",
      "text/plain": [
       "<Figure size 432x288 with 1 Axes>"
      ]
     },
     "metadata": {},
     "output_type": "display_data"
    }
   ],
   "source": [
    "#Applying log transformation\n",
    "log_data = data.copy()\n",
    "log_data.SalePrice=np.log(log_data.SalePrice)\n",
    "\n",
    "#Checking for the distribution and skewness after transformation\n",
    "sns.distplot(log_data.SalePrice , fit = norm)\n",
    "\n",
    "# Get the fitted parameters used by the function\n",
    "(mu, sigma) = norm.fit(log_data.SalePrice)\n",
    "print('mean = {:.2f} and standard deviation = {:.2f}'.format(mu, sigma))\n"
   ]
  },
  {
   "cell_type": "code",
   "execution_count": 22,
   "id": "36894a47-3711-4ef7-9ff6-eb7fcb879c55",
   "metadata": {},
   "outputs": [
    {
     "name": "stdout",
     "output_type": "stream",
     "text": [
      "0.08179955203265277\n"
     ]
    }
   ],
   "source": [
    "Xlog = log_data.copy()\n",
    "ylog = Xlog.pop(\"SalePrice\")\n",
    "\n",
    "Xlog = pd.get_dummies(Xlog)\n",
    "# # Label encoding for categoricals\n",
    "# for colname in X1.select_dtypes(\"object\"):\n",
    "#     X1[colname], _ = X1[colname].factorize()\n",
    "    \n",
    "cal_mae(Xlog ,ylog)"
   ]
  },
  {
   "cell_type": "markdown",
   "id": "493bcf3c-d9c5-4552-a830-cf28b4b56923",
   "metadata": {},
   "source": [
    "## Square root transformation"
   ]
  },
  {
   "cell_type": "code",
   "execution_count": 23,
   "id": "ba556af7-af73-4265-8e95-0b6b4757be0a",
   "metadata": {},
   "outputs": [
    {
     "name": "stdout",
     "output_type": "stream",
     "text": [
      "mean = 416.62 and standard deviation = 85.74\n"
     ]
    },
    {
     "name": "stderr",
     "output_type": "stream",
     "text": [
      "C:\\Users\\Hp\\anaconda3\\envs\\NCAI\\lib\\site-packages\\seaborn\\distributions.py:2557: FutureWarning: `distplot` is a deprecated function and will be removed in a future version. Please adapt your code to use either `displot` (a figure-level function with similar flexibility) or `histplot` (an axes-level function for histograms).\n",
      "  warnings.warn(msg, FutureWarning)\n"
     ]
    },
    {
     "data": {
      "image/png": "[encoded data removed]",
      "text/plain": [
       "<Figure size 432x288 with 1 Axes>"
      ]
     },
     "metadata": {},
     "output_type": "display_data"
    }
   ],
   "source": [
    "from scipy import stats\n",
    "from scipy.stats import norm\n",
    "\n",
    "#Uisng the square root transformation\n",
    "sq_data = data.copy()\n",
    "sq_data.SalePrice = np.sqrt(sq_data.SalePrice)\n",
    "\n",
    "# After the transformation again checking for the distributiona and the skewness\n",
    "\n",
    "sns.distplot(sq_data.SalePrice , fit = norm)\n",
    "\n",
    "# Get the fitted parameters used by the function\n",
    "(mu, sigma) = norm.fit(sq_data.SalePrice)\n",
    "print('mean = {:.2f} and standard deviation = {:.2f}'.format(mu, sigma))\n"
   ]
  },
  {
   "cell_type": "code",
   "execution_count": 24,
   "id": "9bf144f1-b6f9-4165-bc74-55c7d0f57572",
   "metadata": {},
   "outputs": [
    {
     "name": "stdout",
     "output_type": "stream",
     "text": [
      "17.90451456291993\n"
     ]
    }
   ],
   "source": [
    "Xsq = sq_data.copy()\n",
    "ysq = Xsq.pop(\"SalePrice\")\n",
    "\n",
    "Xsq = pd.get_dummies(Xsq)\n",
    "# # Label encoding for categoricals\n",
    "# for colname in X1.select_dtypes(\"object\"):\n",
    "#     X1[colname], _ = X1[colname].factorize()\n",
    "    \n",
    "cal_mae(Xsq ,ysq)"
   ]
  },
  {
   "cell_type": "markdown",
   "id": "964a080e-0b9b-43af-b898-f82f96a315d5",
   "metadata": {},
   "source": [
    "## Box Cox transformation"
   ]
  },
  {
   "cell_type": "code",
   "execution_count": 25,
   "id": "b88eb516-24e8-42ae-974a-d885101e4a3b",
   "metadata": {},
   "outputs": [
    {
     "data": {
      "image/png": "[encoded data removed]",
      "text/plain": [
       "<Figure size 1080x216 with 2 Axes>"
      ]
     },
     "metadata": {},
     "output_type": "display_data"
    }
   ],
   "source": [
    "original_data = data.SalePrice\n",
    "\n",
    "\n",
    "# normalize the exponential data with boxcox\n",
    "normalized_data = stats.boxcox(original_data)\n",
    "\n",
    "# plot both together to compare\n",
    "fig, ax=plt.subplots(1, 2, figsize=(15, 3))\n",
    "sns.histplot(original_data, ax=ax[0], kde=True, legend=False)\n",
    "ax[0].set_title(\"Original Data\")\n",
    "sns.histplot(normalized_data[0], ax=ax[1], kde=True, legend=False)\n",
    "ax[1].set_title(\"Normalized data\")\n",
    "plt.show()"
   ]
  },
  {
   "cell_type": "markdown",
   "id": "9f2efb35-dd31-4c98-a118-90d19f4324b1",
   "metadata": {},
   "source": [
    "# Data Preparation Step 2: **Feature Engineering**"
   ]
  },
  {
   "cell_type": "markdown",
   "id": "e98de2a7-eec6-480e-ad6a-a458b34e92d4",
   "metadata": {},
   "source": [
    "### **1- Decomposing Categorical Features**"
   ]
  },
  {
   "cell_type": "code",
   "execution_count": 26,
   "id": "6d297392-8426-41ae-95d2-6d58f0470d57",
   "metadata": {},
   "outputs": [
    {
     "data": {
      "text/plain": [
       "{'Neighborhood': 25, 'Exterior1st': 15, 'Exterior2nd': 16}"
      ]
     },
     "execution_count": 26,
     "metadata": {},
     "output_type": "execute_result"
    }
   ],
   "source": [
    "# Collecting the names of Categorical Features which have Cordinality > 10\n",
    "{cname:data[cname].nunique() for cname in cat if data[cname].nunique() >10}"
   ]
  },
  {
   "cell_type": "code",
   "execution_count": 27,
   "id": "ac036e12-80a8-4c89-a572-0ae005985d29",
   "metadata": {},
   "outputs": [
    {
     "data": {
      "text/plain": [
       "NAmes      225\n",
       "CollgCr    150\n",
       "OldTown    113\n",
       "Edwards    100\n",
       "Somerst     86\n",
       "Gilbert     79\n",
       "NridgHt     77\n",
       "Sawyer      74\n",
       "NWAmes      73\n",
       "SawyerW     59\n",
       "BrkSide     58\n",
       "Crawfor     51\n",
       "Mitchel     49\n",
       "NoRidge     41\n",
       "Timber      38\n",
       "IDOTRR      37\n",
       "ClearCr     28\n",
       "SWISU       25\n",
       "StoneBr     25\n",
       "Blmngtn     17\n",
       "MeadowV     17\n",
       "BrDale      16\n",
       "Veenker     11\n",
       "NPkVill      9\n",
       "Blueste      2\n",
       "Name: Neighborhood, dtype: int64"
      ]
     },
     "execution_count": 27,
     "metadata": {},
     "output_type": "execute_result"
    }
   ],
   "source": [
    "# Expending the Neighborhood Column\n",
    "data.Neighborhood.value_counts()"
   ]
  },
  {
   "cell_type": "code",
   "execution_count": 28,
   "id": "c84cf537-c54d-4310-8d3a-27b7ce46b046",
   "metadata": {},
   "outputs": [],
   "source": [
    "def decom_neighbor(x):\n",
    "    if x==\"NAmes\":\n",
    "        return \"NAmes\"\n",
    "    elif x==\"CollgCr\":\n",
    "        return  \"CollgCr\"\n",
    "    elif x == \"OldTown\":\n",
    "        return  \"OldTown\"\n",
    "    elif x == \"Edwards\":\n",
    "        return  \"Edwards\"\n",
    "    elif x == \"Somerst\":\n",
    "        return  \"Somerst\"\n",
    "#     elif x == \"Gilbert\":\n",
    "#         return  \"Gilbert\"\n",
    "#     elif x == \"NridgHt\":\n",
    "#         return  \"NridgHt\"\n",
    "#     elif x == \"Sawyer\":\n",
    "#         return  \"Sawyer\"\n",
    "#     elif x == \"NWAmes\":\n",
    "#         return  \"NWAmes\"\n",
    "    else: return \"others\"\n",
    "    "
   ]
  },
  {
   "cell_type": "code",
   "execution_count": 29,
   "id": "50c418e1-c912-4e53-99e1-9e14a7f84d12",
   "metadata": {},
   "outputs": [],
   "source": [
    "FE_data = data.copy()\n",
    "FE_data.Neighborhood = FE_data.Neighborhood.apply(decom_neighbor)"
   ]
  },
  {
   "cell_type": "code",
   "execution_count": 30,
   "id": "a55a259e-7b72-4d53-882c-79c1cc0c68c1",
   "metadata": {},
   "outputs": [
    {
     "data": {
      "text/plain": [
       "others     786\n",
       "NAmes      225\n",
       "CollgCr    150\n",
       "OldTown    113\n",
       "Edwards    100\n",
       "Somerst     86\n",
       "Name: Neighborhood, dtype: int64"
      ]
     },
     "execution_count": 30,
     "metadata": {},
     "output_type": "execute_result"
    }
   ],
   "source": [
    "FE_data.Neighborhood.value_counts()"
   ]
  },
  {
   "cell_type": "code",
   "execution_count": 31,
   "id": "10ae0d58-2deb-4a32-9ef5-b1e7d377f15d",
   "metadata": {},
   "outputs": [
    {
     "data": {
      "text/plain": [
       "VinylSd    515\n",
       "HdBoard    222\n",
       "MetalSd    220\n",
       "Wd Sdng    206\n",
       "Plywood    108\n",
       "CemntBd     61\n",
       "BrkFace     50\n",
       "WdShing     26\n",
       "Stucco      25\n",
       "AsbShng     20\n",
       "BrkComm      2\n",
       "Stone        2\n",
       "AsphShn      1\n",
       "ImStucc      1\n",
       "CBlock       1\n",
       "Name: Exterior1st, dtype: int64"
      ]
     },
     "execution_count": 31,
     "metadata": {},
     "output_type": "execute_result"
    }
   ],
   "source": [
    "# Expending the Exterior1st Column\n",
    "data.Exterior1st.value_counts()"
   ]
  },
  {
   "cell_type": "code",
   "execution_count": 32,
   "id": "27d7b1dd-6a73-4c4b-99ac-1882445aaf1c",
   "metadata": {},
   "outputs": [],
   "source": [
    "def decom_Exterior1st(x):\n",
    "    if x==\"VinylSd\":\n",
    "        return \"VinylSd\"\n",
    "    elif x==\"HdBoard\":\n",
    "        return  \"HdBoard\"\n",
    "    elif x == \"MetalSd\":\n",
    "        return  \"MetalSd\"\n",
    "    elif x == \"Wd Sdng\":\n",
    "        return  \"Wd Sdng\"\n",
    "    elif x == \"Plywood\":\n",
    "        return  \"Plywood\"\n",
    "#     elif x == \"CemntBd\":\n",
    "#         return  \"CemntBd\"\n",
    "#     elif x == \"BrkFace\":\n",
    "#         return  \"BrkFace\"\n",
    "#     elif x == \"WdShing\":\n",
    "#         return  \"WdShing\"\n",
    "#     elif x == \"Stucco\":\n",
    "#         return  \"Stucco\"\n",
    "    else: return \"other_Exterior1st\"\n",
    "    "
   ]
  },
  {
   "cell_type": "code",
   "execution_count": 33,
   "id": "85674581-b7b7-4dbc-bfe5-3767a73696f0",
   "metadata": {},
   "outputs": [],
   "source": [
    "FE_data.Exterior1st = FE_data.Exterior1st.apply(decom_Exterior1st)"
   ]
  },
  {
   "cell_type": "code",
   "execution_count": 34,
   "id": "577ab30e-52de-4fe7-80aa-93b4c5d04a8c",
   "metadata": {},
   "outputs": [
    {
     "data": {
      "text/plain": [
       "VinylSd              515\n",
       "HdBoard              222\n",
       "MetalSd              220\n",
       "Wd Sdng              206\n",
       "other_Exterior1st    189\n",
       "Plywood              108\n",
       "Name: Exterior1st, dtype: int64"
      ]
     },
     "execution_count": 34,
     "metadata": {},
     "output_type": "execute_result"
    }
   ],
   "source": [
    "FE_data.Exterior1st.value_counts()"
   ]
  },
  {
   "cell_type": "code",
   "execution_count": 35,
   "id": "40fa1dfa-dd9c-4dc1-a540-89a7fbdb8fe9",
   "metadata": {},
   "outputs": [
    {
     "data": {
      "text/plain": [
       "VinylSd    504\n",
       "MetalSd    214\n",
       "HdBoard    207\n",
       "Wd Sdng    197\n",
       "Plywood    142\n",
       "CmentBd     60\n",
       "Wd Shng     38\n",
       "Stucco      26\n",
       "BrkFace     25\n",
       "AsbShng     20\n",
       "ImStucc     10\n",
       "Brk Cmn      7\n",
       "Stone        5\n",
       "AsphShn      3\n",
       "Other        1\n",
       "CBlock       1\n",
       "Name: Exterior2nd, dtype: int64"
      ]
     },
     "execution_count": 35,
     "metadata": {},
     "output_type": "execute_result"
    }
   ],
   "source": [
    "FE_data.Exterior2nd.value_counts()"
   ]
  },
  {
   "cell_type": "code",
   "execution_count": 36,
   "id": "8f050332-048c-4093-9712-5ff6f15a481b",
   "metadata": {},
   "outputs": [],
   "source": [
    "def decom_Exterior2nd(x):\n",
    "    if x==\"VinylSd\":\n",
    "        return \"VinylSd\"\n",
    "    elif x==\"HdBoard\":\n",
    "        return  \"HdBoard\"\n",
    "    elif x == \"MetalSd\":\n",
    "        return  \"MetalSd\"\n",
    "    elif x == \"Wd Sdng\":\n",
    "        return  \"Wd Sdng\"\n",
    "    elif x == \"Plywood\":\n",
    "        return  \"Plywood\"\n",
    "#     elif x == \"CemntBd\":\n",
    "#         return  \"CemntBd\"\n",
    "#     elif x == \"BrkFace\":\n",
    "#         return  \"BrkFace\"\n",
    "#     elif x == \"WdShing\":\n",
    "#         return  \"WdShing\"\n",
    "#     elif x == \"Stucco\":\n",
    "#         return  \"Stucco\"\n",
    "    else: return \"other_Exterior2nd\"\n",
    "    "
   ]
  },
  {
   "cell_type": "code",
   "execution_count": 37,
   "id": "5059cf98-cb83-40e8-b80e-e834107e14b0",
   "metadata": {},
   "outputs": [],
   "source": [
    "FE_data.Exterior2nd = FE_data.Exterior2nd.apply(decom_Exterior2nd)"
   ]
  },
  {
   "cell_type": "code",
   "execution_count": 38,
   "id": "eb3027fd-ab20-4eb3-82ed-65ac530c75d8",
   "metadata": {},
   "outputs": [
    {
     "data": {
      "text/plain": [
       "VinylSd              504\n",
       "MetalSd              214\n",
       "HdBoard              207\n",
       "Wd Sdng              197\n",
       "other_Exterior2nd    196\n",
       "Plywood              142\n",
       "Name: Exterior2nd, dtype: int64"
      ]
     },
     "execution_count": 38,
     "metadata": {},
     "output_type": "execute_result"
    }
   ],
   "source": [
    "FE_data.Exterior2nd.value_counts()"
   ]
  },
  {
   "cell_type": "code",
   "execution_count": 190,
   "id": "d114321c-3ce1-4ecc-98ba-dc4261506de8",
   "metadata": {},
   "outputs": [
    {
     "name": "stdout",
     "output_type": "stream",
     "text": [
      "Mean Squared Error :904098917.3392534\n",
      "Mean Absolute Error :16538.767262414385\n"
     ]
    }
   ],
   "source": [
    "XFE = FE_data.copy()\n",
    "yFE = XFE.pop(\"SalePrice\")\n",
    "\n",
    "object_cols = [cname for cname in XFE.columns if XFE[cname].dtype== \"object\"]\n",
    "XFE[object_cols] = ordinal_encoder.fit_transform(XFE[object_cols])\n",
    "\n",
    "cal_mae(XFE, yFE)\n",
    "\n"
   ]
  },
  {
   "cell_type": "markdown",
   "id": "685fbc4b-09f9-474a-b13a-a099649306c0",
   "metadata": {},
   "source": [
    "# **Dimensionality Reductions**"
   ]
  },
  {
   "cell_type": "markdown",
   "id": "ee79837c-7163-4690-b767-f60ec80a1eda",
   "metadata": {},
   "source": [
    "## Mutual Information"
   ]
  },
  {
   "cell_type": "code",
   "execution_count": 40,
   "id": "925bb45a-3013-4544-9182-9c6e6aa71657",
   "metadata": {},
   "outputs": [
    {
     "name": "stdout",
     "output_type": "stream",
     "text": [
      "16442.98680436644\n"
     ]
    }
   ],
   "source": [
    "Xmi = data.copy()\n",
    "ymi = Xmi.pop(\"SalePrice\")\n",
    "\n",
    "# Label encoding for categoricals\n",
    "for colname in Xmi.select_dtypes(\"object\"):\n",
    "    Xmi[colname], _ = Xmi[colname].factorize()\n",
    "    \n",
    "cal_mae(Xmi, ymi)"
   ]
  },
  {
   "cell_type": "code",
   "execution_count": 41,
   "id": "c7996648-77ef-4c8c-a21f-3af93e60a4b1",
   "metadata": {},
   "outputs": [],
   "source": [
    "discrete_features = Xmi.dtypes == int"
   ]
  },
  {
   "cell_type": "code",
   "execution_count": 42,
   "id": "f266c4ba-8e63-426f-8f33-c969b8b01e57",
   "metadata": {},
   "outputs": [
    {
     "data": {
      "text/plain": [
       "<AxesSubplot:>"
      ]
     },
     "execution_count": 42,
     "metadata": {},
     "output_type": "execute_result"
    },
    {
     "data": {
      "image/png": "[encoded data removed]",
      "text/plain": [
       "<Figure size 720x1008 with 1 Axes>"
      ]
     },
     "metadata": {},
     "output_type": "display_data"
    }
   ],
   "source": [
    "from sklearn.feature_selection import mutual_info_regression\n",
    "\n",
    "mi_score = mutual_info_regression(Xmi, ymi, discrete_features = discrete_features)\n",
    "mi_score = pd.Series(data = mi_score, index = Xmi.columns)\n",
    "mi_score = mi_score.sort_values(ascending = False)\n",
    "\n",
    "plt.figure(figsize = (10, 14))\n",
    "sns.barplot(x = mi_score.values,y = mi_score.index, palette = \"magma\") "
   ]
  },
  {
   "cell_type": "code",
   "execution_count": 43,
   "id": "b219ae7f-9e70-4db9-8483-bca0fd04d3e3",
   "metadata": {},
   "outputs": [
    {
     "data": {
      "text/plain": [
       "HeatingQC       0.183994\n",
       "Fireplaces      0.170777\n",
       "Exterior2nd     0.168541\n",
       "LotArea         0.156719\n",
       "OpenPorchSF     0.149097\n",
       "BsmtFinSF1      0.147488\n",
       "BsmtFinType1    0.131941\n",
       "Exterior1st     0.131585\n",
       "MSZoning        0.126911\n",
       "BsmtUnfSF       0.119352\n",
       "dtype: float64"
      ]
     },
     "execution_count": 43,
     "metadata": {},
     "output_type": "execute_result"
    }
   ],
   "source": [
    "mi_score[20:30]"
   ]
  },
  {
   "cell_type": "code",
   "execution_count": 44,
   "id": "3d754ac2-e7fa-45ab-b918-10874391b94d",
   "metadata": {},
   "outputs": [
    {
     "name": "stderr",
     "output_type": "stream",
     "text": [
      "<ipython-input-44-d674c13e5985>:8: SettingWithCopyWarning: \n",
      "A value is trying to be set on a copy of a slice from a DataFrame.\n",
      "Try using .loc[row_indexer,col_indexer] = value instead\n",
      "\n",
      "See the caveats in the documentation: https://pandas.pydata.org/pandas-docs/stable/user_guide/indexing.html#returning-a-view-versus-a-copy\n",
      "  mix[colname], _ = mix[colname].factorize()\n"
     ]
    },
    {
     "name": "stdout",
     "output_type": "stream",
     "text": [
      "15905.568000856165\n"
     ]
    }
   ],
   "source": [
    "mi_score2 = mi_score[mi_score> 0.1]\n",
    "\n",
    "mix = data[mi_score2.index]\n",
    "miy = data.SalePrice\n",
    "\n",
    "# Label encoding for categoricals\n",
    "for colname in mix.select_dtypes(\"object\"):\n",
    "    mix[colname], _ = mix[colname].factorize()\n",
    "    \n",
    "cal_mae(mix, miy)"
   ]
  },
  {
   "cell_type": "code",
   "execution_count": 48,
   "id": "225eee7f-5247-4092-8596-5f2c3c930051",
   "metadata": {},
   "outputs": [
    {
     "data": {
      "image/png": "[encoded data removed]",
      "text/plain": [
       "<Figure size 1368x936 with 2 Axes>"
      ]
     },
     "metadata": {},
     "output_type": "display_data"
    }
   ],
   "source": [
    "corr = data.drop(\"SalePrice\", axis = 1).corr().round(1)\n",
    "\n",
    "# Generate a mask for the upper triangle\n",
    "mask = np.triu(np.ones_like(corr, dtype=bool))\n",
    "\n",
    "plt.figure(figsize = (19, 13))\n",
    "\n",
    "sns.heatmap(corr,mask = mask,  annot = True, cmap=\"viridis\", linewidths=.5)\n",
    "plt.show()"
   ]
  },
  {
   "cell_type": "markdown",
   "id": "5cce36fb-8cdd-45e9-a7c8-e9a44297af52",
   "metadata": {},
   "source": [
    "# Correlation"
   ]
  },
  {
   "cell_type": "code",
   "execution_count": 49,
   "id": "dadb31c8-7e0e-460d-8809-7c70627f2be9",
   "metadata": {},
   "outputs": [],
   "source": [
    "drop = data[[\"GarageCars\", \"GarageYrBlt\", \"TotRmsAbvGrd\", \"1stFlrSF\", \"SalePrice\"]].columns\n",
    "\n",
    "corr_data = data.drop(drop, axis = 1)"
   ]
  },
  {
   "cell_type": "code",
   "execution_count": 50,
   "id": "82eb9c88-273e-491b-bcbc-ea325e052f85",
   "metadata": {},
   "outputs": [
    {
     "name": "stdout",
     "output_type": "stream",
     "text": [
      "16948.460530821918\n"
     ]
    }
   ],
   "source": [
    "corrx = corr_data\n",
    "corry = data.SalePrice\n",
    "\n",
    "# Label encoding for categoricals\n",
    "for colname in corrx.select_dtypes(\"object\"):\n",
    "    corrx[colname], _ = corrx[colname].factorize()\n",
    "    \n",
    "cal_mae(corrx, corry)"
   ]
  },
  {
   "cell_type": "markdown",
   "id": "8743735a-c7d2-46a3-b829-17a723fe3c63",
   "metadata": {},
   "source": [
    "## Variance inflation filtering"
   ]
  },
  {
   "cell_type": "code",
   "execution_count": 51,
   "id": "a0cc2d38-ebe5-4551-87ee-c6973d58cc45",
   "metadata": {
    "tags": []
   },
   "outputs": [
    {
     "name": "stderr",
     "output_type": "stream",
     "text": [
      "C:\\Users\\Hp\\anaconda3\\envs\\NCAI\\lib\\site-packages\\statsmodels\\stats\\outliers_influence.py:193: RuntimeWarning: divide by zero encountered in double_scalars\n",
      "  vif = 1. / (1. - r_squared_i)\n",
      "C:\\Users\\Hp\\anaconda3\\envs\\NCAI\\lib\\site-packages\\pandas\\io\\formats\\style.py:1268: RuntimeWarning: invalid value encountered in double_scalars\n",
      "  norm = colors.Normalize(smin - (rng * low), smax + (rng * high))\n"
     ]
    },
    {
     "data": {
      "text/html": [
       "<style  type=\"text/css\" >\n",
       "#T_96c53_row0_col1,#T_96c53_row1_col1,#T_96c53_row2_col1,#T_96c53_row3_col1,#T_96c53_row4_col1,#T_96c53_row5_col1,#T_96c53_row6_col1,#T_96c53_row7_col1,#T_96c53_row8_col1,#T_96c53_row9_col1,#T_96c53_row10_col1,#T_96c53_row11_col1,#T_96c53_row12_col1,#T_96c53_row13_col1,#T_96c53_row14_col1,#T_96c53_row15_col1,#T_96c53_row16_col1,#T_96c53_row17_col1,#T_96c53_row18_col1,#T_96c53_row19_col1,#T_96c53_row20_col1,#T_96c53_row21_col1,#T_96c53_row22_col1,#T_96c53_row23_col1,#T_96c53_row24_col1,#T_96c53_row25_col1,#T_96c53_row26_col1,#T_96c53_row27_col1,#T_96c53_row28_col1,#T_96c53_row29_col1,#T_96c53_row30_col1,#T_96c53_row31_col1,#T_96c53_row32_col1,#T_96c53_row33_col1,#T_96c53_row34_col1,#T_96c53_row35_col1,#T_96c53_row36_col1,#T_96c53_row37_col1,#T_96c53_row38_col1,#T_96c53_row39_col1,#T_96c53_row40_col1,#T_96c53_row41_col1,#T_96c53_row42_col1,#T_96c53_row43_col1,#T_96c53_row44_col1,#T_96c53_row45_col1,#T_96c53_row46_col1,#T_96c53_row47_col1,#T_96c53_row48_col1,#T_96c53_row49_col1,#T_96c53_row50_col1,#T_96c53_row51_col1,#T_96c53_row52_col1,#T_96c53_row53_col1,#T_96c53_row54_col1,#T_96c53_row55_col1,#T_96c53_row56_col1,#T_96c53_row57_col1,#T_96c53_row58_col1,#T_96c53_row59_col1,#T_96c53_row60_col1,#T_96c53_row61_col1,#T_96c53_row62_col1,#T_96c53_row63_col1,#T_96c53_row64_col1,#T_96c53_row65_col1,#T_96c53_row66_col1,#T_96c53_row67_col1,#T_96c53_row68_col1,#T_96c53_row69_col1,#T_96c53_row70_col1,#T_96c53_row71_col1,#T_96c53_row72_col1,#T_96c53_row73_col1{\n",
       "            background-color:  #000000;\n",
       "            color:  #f1f1f1;\n",
       "        }</style><table id=\"T_96c53_\" ><thead>    <tr>        <th class=\"blank level0\" ></th>        <th class=\"col_heading level0 col0\" >feature</th>        <th class=\"col_heading level0 col1\" >VIF</th>    </tr></thead><tbody>\n",
       "                <tr>\n",
       "                        <th id=\"T_96c53_level0_row0\" class=\"row_heading level0 row0\" >0</th>\n",
       "                        <td id=\"T_96c53_row0_col0\" class=\"data row0 col0\" >MSSubClass</td>\n",
       "                        <td id=\"T_96c53_row0_col1\" class=\"data row0 col1\" >14.921403</td>\n",
       "            </tr>\n",
       "            <tr>\n",
       "                        <th id=\"T_96c53_level0_row1\" class=\"row_heading level0 row1\" >1</th>\n",
       "                        <td id=\"T_96c53_row1_col0\" class=\"data row1 col0\" >MSZoning</td>\n",
       "                        <td id=\"T_96c53_row1_col1\" class=\"data row1 col1\" >1.632143</td>\n",
       "            </tr>\n",
       "            <tr>\n",
       "                        <th id=\"T_96c53_level0_row2\" class=\"row_heading level0 row2\" >2</th>\n",
       "                        <td id=\"T_96c53_row2_col0\" class=\"data row2 col0\" >LotFrontage</td>\n",
       "                        <td id=\"T_96c53_row2_col1\" class=\"data row2 col1\" >19.478123</td>\n",
       "            </tr>\n",
       "            <tr>\n",
       "                        <th id=\"T_96c53_level0_row3\" class=\"row_heading level0 row3\" >3</th>\n",
       "                        <td id=\"T_96c53_row3_col0\" class=\"data row3 col0\" >LotArea</td>\n",
       "                        <td id=\"T_96c53_row3_col1\" class=\"data row3 col1\" >3.576615</td>\n",
       "            </tr>\n",
       "            <tr>\n",
       "                        <th id=\"T_96c53_level0_row4\" class=\"row_heading level0 row4\" >4</th>\n",
       "                        <td id=\"T_96c53_row4_col0\" class=\"data row4 col0\" >Street</td>\n",
       "                        <td id=\"T_96c53_row4_col1\" class=\"data row4 col1\" >1.160901</td>\n",
       "            </tr>\n",
       "            <tr>\n",
       "                        <th id=\"T_96c53_level0_row5\" class=\"row_heading level0 row5\" >5</th>\n",
       "                        <td id=\"T_96c53_row5_col0\" class=\"data row5 col0\" >LotShape</td>\n",
       "                        <td id=\"T_96c53_row5_col1\" class=\"data row5 col1\" >2.116380</td>\n",
       "            </tr>\n",
       "            <tr>\n",
       "                        <th id=\"T_96c53_level0_row6\" class=\"row_heading level0 row6\" >6</th>\n",
       "                        <td id=\"T_96c53_row6_col0\" class=\"data row6 col0\" >LandContour</td>\n",
       "                        <td id=\"T_96c53_row6_col1\" class=\"data row6 col1\" >1.626728</td>\n",
       "            </tr>\n",
       "            <tr>\n",
       "                        <th id=\"T_96c53_level0_row7\" class=\"row_heading level0 row7\" >7</th>\n",
       "                        <td id=\"T_96c53_row7_col0\" class=\"data row7 col0\" >Utilities</td>\n",
       "                        <td id=\"T_96c53_row7_col1\" class=\"data row7 col1\" >1.100502</td>\n",
       "            </tr>\n",
       "            <tr>\n",
       "                        <th id=\"T_96c53_level0_row8\" class=\"row_heading level0 row8\" >8</th>\n",
       "                        <td id=\"T_96c53_row8_col0\" class=\"data row8 col0\" >LotConfig</td>\n",
       "                        <td id=\"T_96c53_row8_col1\" class=\"data row8 col1\" >1.589938</td>\n",
       "            </tr>\n",
       "            <tr>\n",
       "                        <th id=\"T_96c53_level0_row9\" class=\"row_heading level0 row9\" >9</th>\n",
       "                        <td id=\"T_96c53_row9_col0\" class=\"data row9 col0\" >LandSlope</td>\n",
       "                        <td id=\"T_96c53_row9_col1\" class=\"data row9 col1\" >1.877909</td>\n",
       "            </tr>\n",
       "            <tr>\n",
       "                        <th id=\"T_96c53_level0_row10\" class=\"row_heading level0 row10\" >10</th>\n",
       "                        <td id=\"T_96c53_row10_col0\" class=\"data row10 col0\" >Neighborhood</td>\n",
       "                        <td id=\"T_96c53_row10_col1\" class=\"data row10 col1\" >4.816077</td>\n",
       "            </tr>\n",
       "            <tr>\n",
       "                        <th id=\"T_96c53_level0_row11\" class=\"row_heading level0 row11\" >11</th>\n",
       "                        <td id=\"T_96c53_row11_col0\" class=\"data row11 col0\" >Condition1</td>\n",
       "                        <td id=\"T_96c53_row11_col1\" class=\"data row11 col1\" >1.221266</td>\n",
       "            </tr>\n",
       "            <tr>\n",
       "                        <th id=\"T_96c53_level0_row12\" class=\"row_heading level0 row12\" >12</th>\n",
       "                        <td id=\"T_96c53_row12_col0\" class=\"data row12 col0\" >Condition2</td>\n",
       "                        <td id=\"T_96c53_row12_col1\" class=\"data row12 col1\" >1.212236</td>\n",
       "            </tr>\n",
       "            <tr>\n",
       "                        <th id=\"T_96c53_level0_row13\" class=\"row_heading level0 row13\" >13</th>\n",
       "                        <td id=\"T_96c53_row13_col0\" class=\"data row13 col0\" >BldgType</td>\n",
       "                        <td id=\"T_96c53_row13_col1\" class=\"data row13 col1\" >6.123487</td>\n",
       "            </tr>\n",
       "            <tr>\n",
       "                        <th id=\"T_96c53_level0_row14\" class=\"row_heading level0 row14\" >14</th>\n",
       "                        <td id=\"T_96c53_row14_col0\" class=\"data row14 col0\" >HouseStyle</td>\n",
       "                        <td id=\"T_96c53_row14_col1\" class=\"data row14 col1\" >2.907980</td>\n",
       "            </tr>\n",
       "            <tr>\n",
       "                        <th id=\"T_96c53_level0_row15\" class=\"row_heading level0 row15\" >15</th>\n",
       "                        <td id=\"T_96c53_row15_col0\" class=\"data row15 col0\" >OverallQual</td>\n",
       "                        <td id=\"T_96c53_row15_col1\" class=\"data row15 col1\" >73.321015</td>\n",
       "            </tr>\n",
       "            <tr>\n",
       "                        <th id=\"T_96c53_level0_row16\" class=\"row_heading level0 row16\" >16</th>\n",
       "                        <td id=\"T_96c53_row16_col0\" class=\"data row16 col0\" >OverallCond</td>\n",
       "                        <td id=\"T_96c53_row16_col1\" class=\"data row16 col1\" >49.695066</td>\n",
       "            </tr>\n",
       "            <tr>\n",
       "                        <th id=\"T_96c53_level0_row17\" class=\"row_heading level0 row17\" >17</th>\n",
       "                        <td id=\"T_96c53_row17_col0\" class=\"data row17 col0\" >YearBuilt</td>\n",
       "                        <td id=\"T_96c53_row17_col1\" class=\"data row17 col1\" >29955.646147</td>\n",
       "            </tr>\n",
       "            <tr>\n",
       "                        <th id=\"T_96c53_level0_row18\" class=\"row_heading level0 row18\" >18</th>\n",
       "                        <td id=\"T_96c53_row18_col0\" class=\"data row18 col0\" >YearRemodAdd</td>\n",
       "                        <td id=\"T_96c53_row18_col1\" class=\"data row18 col1\" >26480.781033</td>\n",
       "            </tr>\n",
       "            <tr>\n",
       "                        <th id=\"T_96c53_level0_row19\" class=\"row_heading level0 row19\" >19</th>\n",
       "                        <td id=\"T_96c53_row19_col0\" class=\"data row19 col0\" >RoofStyle</td>\n",
       "                        <td id=\"T_96c53_row19_col1\" class=\"data row19 col1\" >1.912791</td>\n",
       "            </tr>\n",
       "            <tr>\n",
       "                        <th id=\"T_96c53_level0_row20\" class=\"row_heading level0 row20\" >20</th>\n",
       "                        <td id=\"T_96c53_row20_col0\" class=\"data row20 col0\" >RoofMatl</td>\n",
       "                        <td id=\"T_96c53_row20_col1\" class=\"data row20 col1\" >1.699088</td>\n",
       "            </tr>\n",
       "            <tr>\n",
       "                        <th id=\"T_96c53_level0_row21\" class=\"row_heading level0 row21\" >21</th>\n",
       "                        <td id=\"T_96c53_row21_col0\" class=\"data row21 col0\" >Exterior1st</td>\n",
       "                        <td id=\"T_96c53_row21_col1\" class=\"data row21 col1\" >4.696059</td>\n",
       "            </tr>\n",
       "            <tr>\n",
       "                        <th id=\"T_96c53_level0_row22\" class=\"row_heading level0 row22\" >22</th>\n",
       "                        <td id=\"T_96c53_row22_col0\" class=\"data row22 col0\" >Exterior2nd</td>\n",
       "                        <td id=\"T_96c53_row22_col1\" class=\"data row22 col1\" >5.231057</td>\n",
       "            </tr>\n",
       "            <tr>\n",
       "                        <th id=\"T_96c53_level0_row23\" class=\"row_heading level0 row23\" >23</th>\n",
       "                        <td id=\"T_96c53_row23_col0\" class=\"data row23 col0\" >MasVnrType</td>\n",
       "                        <td id=\"T_96c53_row23_col1\" class=\"data row23 col1\" >3.277553</td>\n",
       "            </tr>\n",
       "            <tr>\n",
       "                        <th id=\"T_96c53_level0_row24\" class=\"row_heading level0 row24\" >24</th>\n",
       "                        <td id=\"T_96c53_row24_col0\" class=\"data row24 col0\" >MasVnrArea</td>\n",
       "                        <td id=\"T_96c53_row24_col1\" class=\"data row24 col1\" >2.219133</td>\n",
       "            </tr>\n",
       "            <tr>\n",
       "                        <th id=\"T_96c53_level0_row25\" class=\"row_heading level0 row25\" >25</th>\n",
       "                        <td id=\"T_96c53_row25_col0\" class=\"data row25 col0\" >ExterQual</td>\n",
       "                        <td id=\"T_96c53_row25_col1\" class=\"data row25 col1\" >5.008452</td>\n",
       "            </tr>\n",
       "            <tr>\n",
       "                        <th id=\"T_96c53_level0_row26\" class=\"row_heading level0 row26\" >26</th>\n",
       "                        <td id=\"T_96c53_row26_col0\" class=\"data row26 col0\" >ExterCond</td>\n",
       "                        <td id=\"T_96c53_row26_col1\" class=\"data row26 col1\" >1.354994</td>\n",
       "            </tr>\n",
       "            <tr>\n",
       "                        <th id=\"T_96c53_level0_row27\" class=\"row_heading level0 row27\" >27</th>\n",
       "                        <td id=\"T_96c53_row27_col0\" class=\"data row27 col0\" >Foundation</td>\n",
       "                        <td id=\"T_96c53_row27_col1\" class=\"data row27 col1\" >3.995099</td>\n",
       "            </tr>\n",
       "            <tr>\n",
       "                        <th id=\"T_96c53_level0_row28\" class=\"row_heading level0 row28\" >28</th>\n",
       "                        <td id=\"T_96c53_row28_col0\" class=\"data row28 col0\" >BsmtQual</td>\n",
       "                        <td id=\"T_96c53_row28_col1\" class=\"data row28 col1\" >3.168827</td>\n",
       "            </tr>\n",
       "            <tr>\n",
       "                        <th id=\"T_96c53_level0_row29\" class=\"row_heading level0 row29\" >29</th>\n",
       "                        <td id=\"T_96c53_row29_col0\" class=\"data row29 col0\" >BsmtCond</td>\n",
       "                        <td id=\"T_96c53_row29_col1\" class=\"data row29 col1\" >1.303308</td>\n",
       "            </tr>\n",
       "            <tr>\n",
       "                        <th id=\"T_96c53_level0_row30\" class=\"row_heading level0 row30\" >30</th>\n",
       "                        <td id=\"T_96c53_row30_col0\" class=\"data row30 col0\" >BsmtExposure</td>\n",
       "                        <td id=\"T_96c53_row30_col1\" class=\"data row30 col1\" >1.818568</td>\n",
       "            </tr>\n",
       "            <tr>\n",
       "                        <th id=\"T_96c53_level0_row31\" class=\"row_heading level0 row31\" >31</th>\n",
       "                        <td id=\"T_96c53_row31_col0\" class=\"data row31 col0\" >BsmtFinType1</td>\n",
       "                        <td id=\"T_96c53_row31_col1\" class=\"data row31 col1\" >4.077097</td>\n",
       "            </tr>\n",
       "            <tr>\n",
       "                        <th id=\"T_96c53_level0_row32\" class=\"row_heading level0 row32\" >32</th>\n",
       "                        <td id=\"T_96c53_row32_col0\" class=\"data row32 col0\" >BsmtFinSF1</td>\n",
       "                        <td id=\"T_96c53_row32_col1\" class=\"data row32 col1\" >inf</td>\n",
       "            </tr>\n",
       "            <tr>\n",
       "                        <th id=\"T_96c53_level0_row33\" class=\"row_heading level0 row33\" >33</th>\n",
       "                        <td id=\"T_96c53_row33_col0\" class=\"data row33 col0\" >BsmtFinType2</td>\n",
       "                        <td id=\"T_96c53_row33_col1\" class=\"data row33 col1\" >2.720933</td>\n",
       "            </tr>\n",
       "            <tr>\n",
       "                        <th id=\"T_96c53_level0_row34\" class=\"row_heading level0 row34\" >34</th>\n",
       "                        <td id=\"T_96c53_row34_col0\" class=\"data row34 col0\" >BsmtFinSF2</td>\n",
       "                        <td id=\"T_96c53_row34_col1\" class=\"data row34 col1\" >inf</td>\n",
       "            </tr>\n",
       "            <tr>\n",
       "                        <th id=\"T_96c53_level0_row35\" class=\"row_heading level0 row35\" >35</th>\n",
       "                        <td id=\"T_96c53_row35_col0\" class=\"data row35 col0\" >BsmtUnfSF</td>\n",
       "                        <td id=\"T_96c53_row35_col1\" class=\"data row35 col1\" >inf</td>\n",
       "            </tr>\n",
       "            <tr>\n",
       "                        <th id=\"T_96c53_level0_row36\" class=\"row_heading level0 row36\" >36</th>\n",
       "                        <td id=\"T_96c53_row36_col0\" class=\"data row36 col0\" >TotalBsmtSF</td>\n",
       "                        <td id=\"T_96c53_row36_col1\" class=\"data row36 col1\" >inf</td>\n",
       "            </tr>\n",
       "            <tr>\n",
       "                        <th id=\"T_96c53_level0_row37\" class=\"row_heading level0 row37\" >37</th>\n",
       "                        <td id=\"T_96c53_row37_col0\" class=\"data row37 col0\" >Heating</td>\n",
       "                        <td id=\"T_96c53_row37_col1\" class=\"data row37 col1\" >1.347145</td>\n",
       "            </tr>\n",
       "            <tr>\n",
       "                        <th id=\"T_96c53_level0_row38\" class=\"row_heading level0 row38\" >38</th>\n",
       "                        <td id=\"T_96c53_row38_col0\" class=\"data row38 col0\" >HeatingQC</td>\n",
       "                        <td id=\"T_96c53_row38_col1\" class=\"data row38 col1\" >3.290208</td>\n",
       "            </tr>\n",
       "            <tr>\n",
       "                        <th id=\"T_96c53_level0_row39\" class=\"row_heading level0 row39\" >39</th>\n",
       "                        <td id=\"T_96c53_row39_col0\" class=\"data row39 col0\" >CentralAir</td>\n",
       "                        <td id=\"T_96c53_row39_col1\" class=\"data row39 col1\" >1.891832</td>\n",
       "            </tr>\n",
       "            <tr>\n",
       "                        <th id=\"T_96c53_level0_row40\" class=\"row_heading level0 row40\" >40</th>\n",
       "                        <td id=\"T_96c53_row40_col0\" class=\"data row40 col0\" >Electrical</td>\n",
       "                        <td id=\"T_96c53_row40_col1\" class=\"data row40 col1\" >1.438444</td>\n",
       "            </tr>\n",
       "            <tr>\n",
       "                        <th id=\"T_96c53_level0_row41\" class=\"row_heading level0 row41\" >41</th>\n",
       "                        <td id=\"T_96c53_row41_col0\" class=\"data row41 col0\" >1stFlrSF</td>\n",
       "                        <td id=\"T_96c53_row41_col1\" class=\"data row41 col1\" >inf</td>\n",
       "            </tr>\n",
       "            <tr>\n",
       "                        <th id=\"T_96c53_level0_row42\" class=\"row_heading level0 row42\" >42</th>\n",
       "                        <td id=\"T_96c53_row42_col0\" class=\"data row42 col0\" >2ndFlrSF</td>\n",
       "                        <td id=\"T_96c53_row42_col1\" class=\"data row42 col1\" >inf</td>\n",
       "            </tr>\n",
       "            <tr>\n",
       "                        <th id=\"T_96c53_level0_row43\" class=\"row_heading level0 row43\" >43</th>\n",
       "                        <td id=\"T_96c53_row43_col0\" class=\"data row43 col0\" >LowQualFinSF</td>\n",
       "                        <td id=\"T_96c53_row43_col1\" class=\"data row43 col1\" >inf</td>\n",
       "            </tr>\n",
       "            <tr>\n",
       "                        <th id=\"T_96c53_level0_row44\" class=\"row_heading level0 row44\" >44</th>\n",
       "                        <td id=\"T_96c53_row44_col0\" class=\"data row44 col0\" >GrLivArea</td>\n",
       "                        <td id=\"T_96c53_row44_col1\" class=\"data row44 col1\" >inf</td>\n",
       "            </tr>\n",
       "            <tr>\n",
       "                        <th id=\"T_96c53_level0_row45\" class=\"row_heading level0 row45\" >45</th>\n",
       "                        <td id=\"T_96c53_row45_col0\" class=\"data row45 col0\" >BsmtFullBath</td>\n",
       "                        <td id=\"T_96c53_row45_col1\" class=\"data row45 col1\" >4.056420</td>\n",
       "            </tr>\n",
       "            <tr>\n",
       "                        <th id=\"T_96c53_level0_row46\" class=\"row_heading level0 row46\" >46</th>\n",
       "                        <td id=\"T_96c53_row46_col0\" class=\"data row46 col0\" >BsmtHalfBath</td>\n",
       "                        <td id=\"T_96c53_row46_col1\" class=\"data row46 col1\" >1.285946</td>\n",
       "            </tr>\n",
       "            <tr>\n",
       "                        <th id=\"T_96c53_level0_row47\" class=\"row_heading level0 row47\" >47</th>\n",
       "                        <td id=\"T_96c53_row47_col0\" class=\"data row47 col0\" >FullBath</td>\n",
       "                        <td id=\"T_96c53_row47_col1\" class=\"data row47 col1\" >28.385856</td>\n",
       "            </tr>\n",
       "            <tr>\n",
       "                        <th id=\"T_96c53_level0_row48\" class=\"row_heading level0 row48\" >48</th>\n",
       "                        <td id=\"T_96c53_row48_col0\" class=\"data row48 col0\" >HalfBath</td>\n",
       "                        <td id=\"T_96c53_row48_col1\" class=\"data row48 col1\" >3.651788</td>\n",
       "            </tr>\n",
       "            <tr>\n",
       "                        <th id=\"T_96c53_level0_row49\" class=\"row_heading level0 row49\" >49</th>\n",
       "                        <td id=\"T_96c53_row49_col0\" class=\"data row49 col0\" >BedroomAbvGr</td>\n",
       "                        <td id=\"T_96c53_row49_col1\" class=\"data row49 col1\" >33.747550</td>\n",
       "            </tr>\n",
       "            <tr>\n",
       "                        <th id=\"T_96c53_level0_row50\" class=\"row_heading level0 row50\" >50</th>\n",
       "                        <td id=\"T_96c53_row50_col0\" class=\"data row50 col0\" >KitchenAbvGr</td>\n",
       "                        <td id=\"T_96c53_row50_col1\" class=\"data row50 col1\" >41.367364</td>\n",
       "            </tr>\n",
       "            <tr>\n",
       "                        <th id=\"T_96c53_level0_row51\" class=\"row_heading level0 row51\" >51</th>\n",
       "                        <td id=\"T_96c53_row51_col0\" class=\"data row51 col0\" >KitchenQual</td>\n",
       "                        <td id=\"T_96c53_row51_col1\" class=\"data row51 col1\" >3.426670</td>\n",
       "            </tr>\n",
       "            <tr>\n",
       "                        <th id=\"T_96c53_level0_row52\" class=\"row_heading level0 row52\" >52</th>\n",
       "                        <td id=\"T_96c53_row52_col0\" class=\"data row52 col0\" >TotRmsAbvGrd</td>\n",
       "                        <td id=\"T_96c53_row52_col1\" class=\"data row52 col1\" >90.906210</td>\n",
       "            </tr>\n",
       "            <tr>\n",
       "                        <th id=\"T_96c53_level0_row53\" class=\"row_heading level0 row53\" >53</th>\n",
       "                        <td id=\"T_96c53_row53_col0\" class=\"data row53 col0\" >Functional</td>\n",
       "                        <td id=\"T_96c53_row53_col1\" class=\"data row53 col1\" >1.291938</td>\n",
       "            </tr>\n",
       "            <tr>\n",
       "                        <th id=\"T_96c53_level0_row54\" class=\"row_heading level0 row54\" >54</th>\n",
       "                        <td id=\"T_96c53_row54_col0\" class=\"data row54 col0\" >Fireplaces</td>\n",
       "                        <td id=\"T_96c53_row54_col1\" class=\"data row54 col1\" >3.211326</td>\n",
       "            </tr>\n",
       "            <tr>\n",
       "                        <th id=\"T_96c53_level0_row55\" class=\"row_heading level0 row55\" >55</th>\n",
       "                        <td id=\"T_96c53_row55_col0\" class=\"data row55 col0\" >GarageType</td>\n",
       "                        <td id=\"T_96c53_row55_col1\" class=\"data row55 col1\" >1.793939</td>\n",
       "            </tr>\n",
       "            <tr>\n",
       "                        <th id=\"T_96c53_level0_row56\" class=\"row_heading level0 row56\" >56</th>\n",
       "                        <td id=\"T_96c53_row56_col0\" class=\"data row56 col0\" >GarageYrBlt</td>\n",
       "                        <td id=\"T_96c53_row56_col1\" class=\"data row56 col1\" >24629.990721</td>\n",
       "            </tr>\n",
       "            <tr>\n",
       "                        <th id=\"T_96c53_level0_row57\" class=\"row_heading level0 row57\" >57</th>\n",
       "                        <td id=\"T_96c53_row57_col0\" class=\"data row57 col0\" >GarageFinish</td>\n",
       "                        <td id=\"T_96c53_row57_col1\" class=\"data row57 col1\" >3.210371</td>\n",
       "            </tr>\n",
       "            <tr>\n",
       "                        <th id=\"T_96c53_level0_row58\" class=\"row_heading level0 row58\" >58</th>\n",
       "                        <td id=\"T_96c53_row58_col0\" class=\"data row58 col0\" >GarageCars</td>\n",
       "                        <td id=\"T_96c53_row58_col1\" class=\"data row58 col1\" >39.055083</td>\n",
       "            </tr>\n",
       "            <tr>\n",
       "                        <th id=\"T_96c53_level0_row59\" class=\"row_heading level0 row59\" >59</th>\n",
       "                        <td id=\"T_96c53_row59_col0\" class=\"data row59 col0\" >GarageArea</td>\n",
       "                        <td id=\"T_96c53_row59_col1\" class=\"data row59 col1\" >35.572461</td>\n",
       "            </tr>\n",
       "            <tr>\n",
       "                        <th id=\"T_96c53_level0_row60\" class=\"row_heading level0 row60\" >60</th>\n",
       "                        <td id=\"T_96c53_row60_col0\" class=\"data row60 col0\" >GarageQual</td>\n",
       "                        <td id=\"T_96c53_row60_col1\" class=\"data row60 col1\" >1.873802</td>\n",
       "            </tr>\n",
       "            <tr>\n",
       "                        <th id=\"T_96c53_level0_row61\" class=\"row_heading level0 row61\" >61</th>\n",
       "                        <td id=\"T_96c53_row61_col0\" class=\"data row61 col0\" >GarageCond</td>\n",
       "                        <td id=\"T_96c53_row61_col1\" class=\"data row61 col1\" >1.845375</td>\n",
       "            </tr>\n",
       "            <tr>\n",
       "                        <th id=\"T_96c53_level0_row62\" class=\"row_heading level0 row62\" >62</th>\n",
       "                        <td id=\"T_96c53_row62_col0\" class=\"data row62 col0\" >PavedDrive</td>\n",
       "                        <td id=\"T_96c53_row62_col1\" class=\"data row62 col1\" >1.432373</td>\n",
       "            </tr>\n",
       "            <tr>\n",
       "                        <th id=\"T_96c53_level0_row63\" class=\"row_heading level0 row63\" >63</th>\n",
       "                        <td id=\"T_96c53_row63_col0\" class=\"data row63 col0\" >WoodDeckSF</td>\n",
       "                        <td id=\"T_96c53_row63_col1\" class=\"data row63 col1\" >1.976435</td>\n",
       "            </tr>\n",
       "            <tr>\n",
       "                        <th id=\"T_96c53_level0_row64\" class=\"row_heading level0 row64\" >64</th>\n",
       "                        <td id=\"T_96c53_row64_col0\" class=\"data row64 col0\" >OpenPorchSF</td>\n",
       "                        <td id=\"T_96c53_row64_col1\" class=\"data row64 col1\" >1.949619</td>\n",
       "            </tr>\n",
       "            <tr>\n",
       "                        <th id=\"T_96c53_level0_row65\" class=\"row_heading level0 row65\" >65</th>\n",
       "                        <td id=\"T_96c53_row65_col0\" class=\"data row65 col0\" >EnclosedPorch</td>\n",
       "                        <td id=\"T_96c53_row65_col1\" class=\"data row65 col1\" >1.502377</td>\n",
       "            </tr>\n",
       "            <tr>\n",
       "                        <th id=\"T_96c53_level0_row66\" class=\"row_heading level0 row66\" >66</th>\n",
       "                        <td id=\"T_96c53_row66_col0\" class=\"data row66 col0\" >3SsnPorch</td>\n",
       "                        <td id=\"T_96c53_row66_col1\" class=\"data row66 col1\" >1.066128</td>\n",
       "            </tr>\n",
       "            <tr>\n",
       "                        <th id=\"T_96c53_level0_row67\" class=\"row_heading level0 row67\" >67</th>\n",
       "                        <td id=\"T_96c53_row67_col0\" class=\"data row67 col0\" >ScreenPorch</td>\n",
       "                        <td id=\"T_96c53_row67_col1\" class=\"data row67 col1\" >1.235703</td>\n",
       "            </tr>\n",
       "            <tr>\n",
       "                        <th id=\"T_96c53_level0_row68\" class=\"row_heading level0 row68\" >68</th>\n",
       "                        <td id=\"T_96c53_row68_col0\" class=\"data row68 col0\" >PoolArea</td>\n",
       "                        <td id=\"T_96c53_row68_col1\" class=\"data row68 col1\" >1.194200</td>\n",
       "            </tr>\n",
       "            <tr>\n",
       "                        <th id=\"T_96c53_level0_row69\" class=\"row_heading level0 row69\" >69</th>\n",
       "                        <td id=\"T_96c53_row69_col0\" class=\"data row69 col0\" >MiscVal</td>\n",
       "                        <td id=\"T_96c53_row69_col1\" class=\"data row69 col1\" >1.125088</td>\n",
       "            </tr>\n",
       "            <tr>\n",
       "                        <th id=\"T_96c53_level0_row70\" class=\"row_heading level0 row70\" >70</th>\n",
       "                        <td id=\"T_96c53_row70_col0\" class=\"data row70 col0\" >MoSold</td>\n",
       "                        <td id=\"T_96c53_row70_col1\" class=\"data row70 col1\" >6.827779</td>\n",
       "            </tr>\n",
       "            <tr>\n",
       "                        <th id=\"T_96c53_level0_row71\" class=\"row_heading level0 row71\" >71</th>\n",
       "                        <td id=\"T_96c53_row71_col0\" class=\"data row71 col0\" >YrSold</td>\n",
       "                        <td id=\"T_96c53_row71_col1\" class=\"data row71 col1\" >43144.152471</td>\n",
       "            </tr>\n",
       "            <tr>\n",
       "                        <th id=\"T_96c53_level0_row72\" class=\"row_heading level0 row72\" >72</th>\n",
       "                        <td id=\"T_96c53_row72_col0\" class=\"data row72 col0\" >SaleType</td>\n",
       "                        <td id=\"T_96c53_row72_col1\" class=\"data row72 col1\" >1.206847</td>\n",
       "            </tr>\n",
       "            <tr>\n",
       "                        <th id=\"T_96c53_level0_row73\" class=\"row_heading level0 row73\" >73</th>\n",
       "                        <td id=\"T_96c53_row73_col0\" class=\"data row73 col0\" >SaleCondition</td>\n",
       "                        <td id=\"T_96c53_row73_col1\" class=\"data row73 col1\" >1.399864</td>\n",
       "            </tr>\n",
       "    </tbody></table>"
      ],
      "text/plain": [
       "<pandas.io.formats.style.Styler at 0x252eba59fd0>"
      ]
     },
     "execution_count": 51,
     "metadata": {},
     "output_type": "execute_result"
    }
   ],
   "source": [
    "from statsmodels.stats.outliers_influence import variance_inflation_factor \n",
    "\n",
    "Xvif = data.copy()\n",
    "yvif = Xvif.pop(\"SalePrice\")\n",
    "\n",
    "# Label encoding for categoricals\n",
    "for colname in Xvif.select_dtypes(\"object\"):\n",
    "    Xvif[colname], _ = Xvif[colname].factorize()\n",
    "\n",
    "    \n",
    "vif_data = pd.DataFrame() \n",
    "vif_data[\"feature\"] = Xvif.columns \n",
    "  \n",
    "# calculating VIF for each feature \n",
    "vif_data[\"VIF\"] = [variance_inflation_factor(Xvif.values, i) \n",
    "                          for i in range(len(Xvif.columns))] \n",
    "  \n",
    "vif_data.style.background_gradient(cmap = 'Wistia')"
   ]
  },
  {
   "cell_type": "code",
   "execution_count": 52,
   "id": "926f7068-e7c0-428f-815d-d4f47e22c14a",
   "metadata": {},
   "outputs": [
    {
     "name": "stdout",
     "output_type": "stream",
     "text": [
      "24047.199315068494\n"
     ]
    }
   ],
   "source": [
    "vif_keep = vif_data[vif_data[\"VIF\"] < 5]\n",
    "vifkeep = vif_keep[\"feature\"].values\n",
    "\n",
    "vif_final = data[vifkeep]\n",
    "\n",
    "\n",
    "vix = vif_final.copy()\n",
    "viy = data.SalePrice\n",
    "\n",
    "# Label encoding for categoricals\n",
    "for colname in vix.select_dtypes(\"object\"):\n",
    "    vix[colname], _ = vix[colname].factorize()\n",
    "    \n",
    "cal_mae(vix, viy)"
   ]
  },
  {
   "cell_type": "code",
   "execution_count": null,
   "id": "1ec570fc-567a-499b-b8af-0961e9bc8594",
   "metadata": {},
   "outputs": [],
   "source": []
  },
  {
   "cell_type": "markdown",
   "id": "538ebd10-925f-4be8-91c1-1364e80f48e7",
   "metadata": {},
   "source": [
    "## RFECV"
   ]
  },
  {
   "cell_type": "code",
   "execution_count": 66,
   "id": "0d5f856a-28fd-4409-b9ce-e1aa99d8e401",
   "metadata": {},
   "outputs": [
    {
     "name": "stdout",
     "output_type": "stream",
     "text": [
      "Optimal number of features : 19\n",
      "Best features : Index(['LotFrontage', 'LotArea', 'OverallQual', 'YearBuilt', 'YearRemodAdd',\n",
      "       'BsmtFinSF1', 'BsmtUnfSF', 'TotalBsmtSF', 'CentralAir', '1stFlrSF',\n",
      "       '2ndFlrSF', 'GrLivArea', 'KitchenAbvGr', 'KitchenQual', 'TotRmsAbvGrd',\n",
      "       'GarageYrBlt', 'GarageCars', 'GarageArea', 'MoSold'],\n",
      "      dtype='object')\n"
     ]
    }
   ],
   "source": [
    "from sklearn.feature_selection import RFECV\n",
    "from sklearn.tree import DecisionTreeRegressor\n",
    "Xcv = data.copy()\n",
    "ycv = Xcv.pop(\"SalePrice\")\n",
    "\n",
    "# Label encoding for categoricals\n",
    "for colname in Xcv.select_dtypes(\"object\"):\n",
    "    Xcv[colname], _ = Xcv[colname].factorize()\n",
    "\n",
    "# The \"accuracy\" scoring is proportional to the number of correct classifications\n",
    "model = DecisionTreeRegressor() \n",
    "rfecv = RFECV(estimator = model, step = 1, cv = 5, scoring='neg_mean_absolute_error')\n",
    "rfecv = rfecv.fit(Xcv, ycv)\n",
    "\n",
    "print('Optimal number of features :', rfecv.n_features_)\n",
    "print('Best features :', Xcv.columns[rfecv.support_])\n",
    "best = Xcv.columns[rfecv.support_]"
   ]
  },
  {
   "cell_type": "code",
   "execution_count": 67,
   "id": "f95464fa-ea32-48f7-95da-19ef55192ca0",
   "metadata": {},
   "outputs": [
    {
     "name": "stdout",
     "output_type": "stream",
     "text": [
      "17761.496842893837\n"
     ]
    }
   ],
   "source": [
    "Xv = data[best].copy()\n",
    "ycv\n",
    "\n",
    "# Label encoding for categoricals\n",
    "for colname in Xv.select_dtypes(\"object\"):\n",
    "    Xv[colname], _ = Xv[colname].factorize()\n",
    "    \n",
    "cal_mae(Xv, ycv)\n"
   ]
  },
  {
   "cell_type": "markdown",
   "id": "1a5423cd-7f63-47db-b28f-648d335c1afc",
   "metadata": {},
   "source": [
    "# Boruta"
   ]
  },
  {
   "cell_type": "code",
   "execution_count": 59,
   "id": "bff697cb-5cbb-4538-9d5b-20a306078c72",
   "metadata": {},
   "outputs": [],
   "source": [
    "bx = data.copy()\n",
    "by = bx.pop(\"SalePrice\")\n",
    "\n",
    "# Label encoding for categoricals\n",
    "for colname in bx.select_dtypes(\"object\"):\n",
    "    bx[colname], _ = bx[colname].factorize()"
   ]
  },
  {
   "cell_type": "code",
   "execution_count": 71,
   "id": "d46ba7da-ed3d-48ad-9c2c-6e6ae7376dc4",
   "metadata": {},
   "outputs": [
    {
     "name": "stdout",
     "output_type": "stream",
     "text": [
      "features to Keep: ['LotFrontage', 'LotArea', 'OverallQual', 'YearBuilt', 'YearRemodAdd', 'MasVnrArea', 'BsmtQual', 'BsmtFinSF1', 'TotalBsmtSF', 'CentralAir', '1stFlrSF', '2ndFlrSF', 'GrLivArea', 'FullBath', 'TotRmsAbvGrd', 'GarageCars', 'GarageArea']\n"
     ]
    }
   ],
   "source": [
    "from sklearn.ensemble import RandomForestRegressor\n",
    "from boruta import BorutaPy\n",
    "\n",
    "# defining the Model\n",
    "model= RandomForestRegressor(max_depth = 5)\n",
    "\n",
    "# define Boruta feature selection method\n",
    "boruta = BorutaPy(estimator = model, n_estimators = 'auto',\n",
    "                  max_iter = 100, random_state = 0)\n",
    "\n",
    "# find all relevant features\n",
    "boruta.fit(np.array(bx), np.array(by))\n",
    "\n",
    "### print results\n",
    "best_features = bx.columns[boruta.support_].to_list()\n",
    "print('features to Keep:', best_features)"
   ]
  },
  {
   "cell_type": "code",
   "execution_count": 79,
   "id": "08cdbf0d-0cac-4141-ae12-ac14a1b95137",
   "metadata": {},
   "outputs": [
    {
     "name": "stderr",
     "output_type": "stream",
     "text": [
      "<ipython-input-79-4669a14c03bb>:6: SettingWithCopyWarning: \n",
      "A value is trying to be set on a copy of a slice from a DataFrame.\n",
      "Try using .loc[row_indexer,col_indexer] = value instead\n",
      "\n",
      "See the caveats in the documentation: https://pandas.pydata.org/pandas-docs/stable/user_guide/indexing.html#returning-a-view-versus-a-copy\n",
      "  brtax[colname], _ = brtax[colname].factorize()\n"
     ]
    },
    {
     "name": "stdout",
     "output_type": "stream",
     "text": [
      "Mean Squared Error :1109466227.8027952\n",
      "Mean Absolute Error :17927.98513484589\n"
     ]
    }
   ],
   "source": [
    "brtax = data[best_features]\n",
    "brtay = data.SalePrice\n",
    "\n",
    "# Label encoding for categoricals\n",
    "for colname in brtax.select_dtypes(\"object\"):\n",
    "    brtax[colname], _ = brtax[colname].factorize()\n",
    "\n",
    "cal_mae(brtax, brtay)"
   ]
  },
  {
   "cell_type": "markdown",
   "id": "01788264-147b-414a-b9a2-2ac68b1ad2a9",
   "metadata": {},
   "source": [
    "# PCA"
   ]
  },
  {
   "cell_type": "code",
   "execution_count": 111,
   "id": "4e78e20f-02dd-4937-a825-d53ad55071af",
   "metadata": {},
   "outputs": [],
   "source": [
    "pcaX = data.copy()\n",
    "pcay = pcaX.pop(\"SalePrice\")\n",
    "\n",
    "# Label encoding for categoricals\n",
    "for colname in pcaX.select_dtypes(\"object\"):\n",
    "    pcaX[colname], _ = pcaX[colname].factorize()"
   ]
  },
  {
   "cell_type": "code",
   "execution_count": 84,
   "id": "5d6fe9c3-c098-41ea-ac58-c274667d482d",
   "metadata": {},
   "outputs": [],
   "source": [
    "# from sklearn.model_selection import train_test_split\n",
    "\n",
    "# X_train, X_valid, Y_train, Y_valid = train_test_split(pcaX, pcay,\n",
    "#                                                     test_size=0.2,\n",
    "#                                                     random_state=0 )"
   ]
  },
  {
   "cell_type": "code",
   "execution_count": 112,
   "id": "936675a8-00dd-471d-ac1a-e8045248ff42",
   "metadata": {},
   "outputs": [],
   "source": [
    "#Standardization\n",
    "\n",
    "from sklearn.preprocessing import StandardScaler\n",
    "\n",
    "sc=StandardScaler()\n",
    "X_train_sc = sc.fit_transform(pcaX)\n",
    "# X_valid_sc = sc.transform(X_valid)"
   ]
  },
  {
   "cell_type": "code",
   "execution_count": 122,
   "id": "62277ffa-b124-4410-8ba7-e4478b659b85",
   "metadata": {},
   "outputs": [
    {
     "data": {
      "text/plain": [
       "array([0.12389436, 0.18475699, 0.23528746, 0.27009421, 0.30222597,\n",
       "       0.3283944 , 0.35317671, 0.37708158, 0.39858942, 0.41948002,\n",
       "       0.43992361, 0.45927319, 0.4782022 , 0.49618761, 0.51412416,\n",
       "       0.53101283, 0.54772556, 0.56420743, 0.58026929, 0.5954883 ,\n",
       "       0.61043862, 0.62496426, 0.63924995, 0.65345056, 0.66687345,\n",
       "       0.68002384, 0.69304242, 0.70555638, 0.71790992, 0.72975351,\n",
       "       0.74137714, 0.75254876, 0.76364269, 0.77442038, 0.78500244,\n",
       "       0.79527165, 0.80511879, 0.81468625, 0.8239444 , 0.83305022,\n",
       "       0.84202919, 0.85077769, 0.85949344, 0.86792725, 0.87617515,\n",
       "       0.88397838, 0.8916448 , 0.89909458, 0.90617674, 0.91323597,\n",
       "       0.91996459, 0.92636306, 0.93247359, 0.93840841, 0.9441243 ,\n",
       "       0.94952431, 0.95473335, 0.95971645, 0.96452863, 0.96898688,\n",
       "       0.97326128, 0.97701628, 0.98021753, 0.98339264, 0.98648835,\n",
       "       0.9894556 , 0.99218637, 0.99448988, 0.99612298, 0.99759347,\n",
       "       0.998827  , 1.        , 1.        , 1.        ])"
      ]
     },
     "execution_count": 122,
     "metadata": {},
     "output_type": "execute_result"
    }
   ],
   "source": [
    "# Choosing the N componesnts for the Traning the PCA above 95% is good\n",
    "from sklearn.decomposition import PCA\n",
    "\n",
    "pca=PCA(n_components=None)\n",
    "x_train_pca = pca.fit_transform(X_train_sc)\n",
    "# x_valid_pca = pca.transform(X_valid_sc)\n",
    "\n",
    "#This result the variance explained by the number of components taken into account\n",
    "pca.explained_variance_ratio_.cumsum()"
   ]
  },
  {
   "cell_type": "code",
   "execution_count": 123,
   "id": "a8e63e77-eb5d-4f7d-9b08-1284f317902a",
   "metadata": {},
   "outputs": [
    {
     "data": {
      "text/plain": [
       "array([0.12389436, 0.18475699, 0.23528746, 0.27009421, 0.30222597,\n",
       "       0.3283944 , 0.35317671, 0.37708158, 0.39858942, 0.41948002,\n",
       "       0.43992361, 0.45927319, 0.4782022 , 0.49618761, 0.51412416,\n",
       "       0.53101283, 0.54772556, 0.56420743, 0.58026928, 0.59548829,\n",
       "       0.61043861, 0.62496425, 0.63924995, 0.65345056, 0.66687345,\n",
       "       0.68002384, 0.69304242, 0.70555638, 0.71790991, 0.72975351,\n",
       "       0.74137713, 0.75254875, 0.76364267, 0.77442036, 0.7850024 ,\n",
       "       0.79527162, 0.80511875, 0.81468603, 0.82394417, 0.83304999,\n",
       "       0.84202895, 0.8507774 , 0.85949298, 0.86792677, 0.87617463,\n",
       "       0.88397782, 0.89164415, 0.89909378, 0.9061759 , 0.91323512,\n",
       "       0.91996333, 0.92636153, 0.93247193, 0.93840674, 0.94412189,\n",
       "       0.94952146, 0.95473006])"
      ]
     },
     "execution_count": 123,
     "metadata": {},
     "output_type": "execute_result"
    }
   ],
   "source": [
    "pca=PCA(n_components=57)\n",
    "x_train_pca = pca.fit_transform(X_train_sc)\n",
    "# x_valid_pca = pca.transform(X_valid_sc)\n",
    "\n",
    "#This result the variance explained by the number of components taken into account\n",
    "pca.explained_variance_ratio_.cumsum()"
   ]
  },
  {
   "cell_type": "code",
   "execution_count": 120,
   "id": "b5084365-ef3e-4f1d-9fa2-1e75ab21c2be",
   "metadata": {},
   "outputs": [],
   "source": [
    "from xgboost import XGBRegressor\n",
    "\n",
    "model = XGBRegressor(n_estimators = 1000, learning_rate = 0.01)\n",
    "\n",
    "from sklearn.metrics import mean_absolute_error\n",
    "from sklearn.model_selection import cross_val_score\n",
    "\n",
    "score = -1*cross_val_score(model, x_train_pca, pcay, cv = 5, scoring='neg_mean_absolute_error')"
   ]
  },
  {
   "cell_type": "code",
   "execution_count": 121,
   "id": "b5ff8ce5-de6e-4a2b-abc1-cdecaf0ef36b",
   "metadata": {},
   "outputs": [
    {
     "data": {
      "text/plain": [
       "18042.50492026969"
      ]
     },
     "execution_count": 121,
     "metadata": {},
     "output_type": "execute_result"
    }
   ],
   "source": [
    "score.mean()"
   ]
  },
  {
   "cell_type": "markdown",
   "id": "57131318-15b7-4de4-affb-e8ef41debf4c",
   "metadata": {},
   "source": [
    "# t-SNE"
   ]
  },
  {
   "cell_type": "code",
   "execution_count": null,
   "id": "8d2268cc-ba16-4097-829f-06ef4300247b",
   "metadata": {},
   "outputs": [],
   "source": [
    "from sklearn.manifold import TSNE\n",
    "\n",
    "tsne = TSNE(n_components = 50)\n",
    "x_train_tsne = pca.fit_transform(X_train_sc)\n",
    "# x_test_tsne = pca.transform(x_test)"
   ]
  },
  {
   "cell_type": "code",
   "execution_count": null,
   "id": "4e53b289-b536-4e96-9a2d-6161865e9864",
   "metadata": {},
   "outputs": [],
   "source": [
    "from xgboost import XGBRegressor\n",
    "from sklearn.metrics import mean_absolute_error\n",
    "from sklearn.model_selection import cross_val_score\n",
    "\n",
    "model = XGBRegressor(n_estimators = 1000, learning_rate = 0.01)\n",
    "\n",
    "score = -1*cross_val_score(model, x_train_tsne, pcay, cv = 5, scoring='neg_mean_absolute_error')\n",
    "score.mean()"
   ]
  },
  {
   "cell_type": "markdown",
   "id": "02c53a73-e0a8-4c27-a6b1-0d722e438844",
   "metadata": {},
   "source": [
    "# Linear Discriminant Analysis"
   ]
  },
  {
   "cell_type": "code",
   "execution_count": 135,
   "id": "230e0535-add0-4243-9415-744e374e4675",
   "metadata": {},
   "outputs": [],
   "source": [
    "# Implementing LDA\n",
    "from sklearn.discriminant_analysis import LinearDiscriminantAnalysis as LDA\n",
    "\n",
    "# lets define the Model\n",
    "lda = LDA(n_components = None)\n",
    "x_lda = lda.fit_transform(pcaX, pcay)\n",
    "\n",
    "# Create array of explained variance ratios\n",
    "lda_var_ratios = lda.explained_variance_ratio_"
   ]
  },
  {
   "cell_type": "code",
   "execution_count": 136,
   "id": "50332d01-3e0f-4c07-8259-03c8f1eebf5f",
   "metadata": {},
   "outputs": [
    {
     "data": {
      "text/plain": [
       "59"
      ]
     },
     "execution_count": 136,
     "metadata": {},
     "output_type": "execute_result"
    }
   ],
   "source": [
    "# Create a function\n",
    "def select_n_components(var_ratio, goal_var: float) -> int:\n",
    "    # Set initial variance explained so far\n",
    "    total_variance = 0.0\n",
    "    \n",
    "    # Set initial number of features\n",
    "    n_components = 0\n",
    "    \n",
    "    # For the explained variance of each feature:\n",
    "    for explained_variance in var_ratio:\n",
    "        \n",
    "        # Add the explained variance to the total\n",
    "        total_variance += explained_variance\n",
    "        \n",
    "        # Add one to the number of components\n",
    "        n_components += 1\n",
    "        \n",
    "        # If we reach our goal level of explained variance\n",
    "        if total_variance >= goal_var:\n",
    "            # End the loop\n",
    "            break\n",
    "            \n",
    "    # Return the number of components\n",
    "    return n_components\n",
    "\n",
    "# lets run the function\n",
    "select_n_components(lda_var_ratios, 0.95)"
   ]
  },
  {
   "cell_type": "code",
   "execution_count": 137,
   "id": "d4dcff16-9311-491b-a6d0-340c58ee5082",
   "metadata": {},
   "outputs": [],
   "source": [
    "# lets define the Model\n",
    "lda = LDA(n_components = 59)\n",
    "x_train_lda = lda.fit_transform(pcaX, pcay)\n",
    "# x_test_lda = lda.transform(x_test)"
   ]
  },
  {
   "cell_type": "code",
   "execution_count": 138,
   "id": "852f77c6-eb97-4787-b032-10c520ad1e71",
   "metadata": {},
   "outputs": [
    {
     "data": {
      "text/plain": [
       "17474.378424657534"
      ]
     },
     "execution_count": 138,
     "metadata": {},
     "output_type": "execute_result"
    }
   ],
   "source": [
    "from xgboost import XGBRegressor\n",
    "from sklearn.metrics import mean_absolute_error\n",
    "from sklearn.model_selection import cross_val_score\n",
    "\n",
    "model = XGBRegressor(n_estimators = 1000, learning_rate = 0.01)\n",
    "\n",
    "score = -1*cross_val_score(model, x_train_lda, pcay, cv = 5, scoring='neg_mean_absolute_error')\n",
    "score.mean()"
   ]
  },
  {
   "cell_type": "code",
   "execution_count": null,
   "id": "eee14793-2301-4244-b420-fe2a4191504a",
   "metadata": {},
   "outputs": [],
   "source": []
  }
 ],
 "metadata": {
  "kernelspec": {
   "display_name": "Python 3",
   "language": "python",
   "name": "python3"
  },
  "language_info": {
   "codemirror_mode": {
    "name": "ipython",
    "version": 3
   },
   "file_extension": ".py",
   "mimetype": "text/x-python",
   "name": "python",
   "nbconvert_exporter": "python",
   "pygments_lexer": "ipython3",
   "version": "3.8.10"
  }
 },
 "nbformat": 4,
 "nbformat_minor": 5
}
