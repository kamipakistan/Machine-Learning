{
 "cells": [
  {
   "cell_type": "markdown",
   "id": "e377b49b-b6c7-4b7d-97a5-c82da87795a2",
   "metadata": {},
   "source": [
    "# Logistic Regression"
   ]
  },
  {
   "cell_type": "markdown",
   "id": "28a89d0f-4d68-4d26-b4f3-33d0c7d6abf7",
   "metadata": {},
   "source": [
    "Resources:https://machinelearningmastery.com/logistic-regression-tutorial-for-machine-learning/"
   ]
  },
  {
   "cell_type": "markdown",
   "id": "20118331-6669-483c-a520-76a1ee275bcb",
   "metadata": {},
   "source": [
    "The logistic regression model takes real-valued inputs and makes a prediction as to the probability of the input belonging to the default class (class 0).\n",
    "\n",
    "If the probability is > 0.5 we can take the output as a prediction for the default class (class 0), otherwise the prediction is for the other class (class 1).\n",
    "\n",
    "For this dataset, the logistic regression has three coefficients just like linear regression, for example:\n",
    "\n",
    "*                         output = b0 + b1*x1 + b2*x2\n",
    "\n",
    "The job of the learning algorithm will be to discover the best values for the coefficients (b0, b1 and b2) based on the training data.\n",
    "\n",
    "Unlike linear regression, the output is transformed into a probability using the logistic function:\n",
    "\n",
    "*                         p(class=0) = 1 / (1 + e^(-output))\n",
    "\n",
    "In your spreadsheet this would be written as:\n",
    "\n",
    "*                        p(class=0) = 1 / (1 + EXP(-output))\n",
    "\n"
   ]
  },
  {
   "cell_type": "markdown",
   "id": "c22d4497-8d31-4b97-9772-a5d8b796e59f",
   "metadata": {},
   "source": [
    "# Logistic Regression by Stochastic Gradient Descent"
   ]
  },
  {
   "cell_type": "markdown",
   "id": "620d96bb-36c3-4fec-989d-5bde53edcabf",
   "metadata": {},
   "source": [
    "We can estimate the values of the coefficients using stochastic gradient descent.\n",
    "\n",
    "This is a simple procedure that can be used by many algorithms in machine learning. It works by using the model to calculate a prediction for each instance in the training set and calculating the error for each prediction.\n",
    "\n",
    "We can apply stochastic gradient descent to the problem of finding the coefficients for the logistic regression model as follows:\n",
    "\n",
    "Given each training instance:\n",
    "* Calculate a prediction using the current values of the coefficients.\n",
    "* Calculate new coefficient values based on the error in the prediction.\n",
    "\n",
    "The process is repeated until the model is accurate enough (e.g. error drops to some desirable level) or for a fixed number iterations. You continue to update the model for training instances and correcting errors until the model is accurate enough orc cannot be made any more accurate. It is often a good idea to randomize the order of the training instances shown to the model to mix up the corrections made.\n",
    "\n",
    "By updating the model for each training pattern we call this online learning. It is also possible to collect up all of the changes to the model over all training instances and make one large update. This variation is called batch learning and might make a nice extension to this tutorial if you’re feeling adventurous."
   ]
  },
  {
   "cell_type": "code",
   "execution_count": 12,
   "id": "af1c86f5-7ba3-470a-b15b-a5f335bf5616",
   "metadata": {},
   "outputs": [],
   "source": [
    "import numpy as np\n",
    "import matplotlib.pyplot as plt\n",
    "import seaborn as sns\n",
    "sns.set_style(\"whitegrid\")"
   ]
  },
  {
   "cell_type": "markdown",
   "id": "94f1cbe7-8353-4f55-9629-7ea53a2a4c02",
   "metadata": {},
   "source": [
    "## S-Shaped Curve of **Sigmoid Function**"
   ]
  },
  {
   "cell_type": "code",
   "execution_count": 99,
   "id": "b3c6c882-6b09-4648-be07-a30fcf76be2d",
   "metadata": {},
   "outputs": [
    {
     "data": {
      "image/png": "[encoded data removed]",
      "text/plain": [
       "<Figure size 864x576 with 1 Axes>"
      ]
     },
     "metadata": {},
     "output_type": "display_data"
    }
   ],
   "source": [
    "x = np.linspace(-6, 6, num = 1000)\n",
    "plt.figure(figsize = (12,8))\n",
    "plt.plot(x, 1 / (1 + np.exp(-x))); # Sigmoid Function\n",
    "plt.title(\"Sigmoid Function\")\n",
    "yticks = [0.0, 0.2, 0.4, 0.5, 0.6, 0.8, 1.0]\n",
    "plt.yticks(yticks)\n",
    "plt.show()"
   ]
  },
  {
   "cell_type": "markdown",
   "id": "2d6fbc43-40ea-492c-bded-9e5ee61b0975",
   "metadata": {},
   "source": [
    "# Logistic Regression Model Building"
   ]
  },
  {
   "cell_type": "code",
   "execution_count": 53,
   "id": "f6cff148-864b-421a-852e-fc3928b43258",
   "metadata": {},
   "outputs": [],
   "source": [
    "from sklearn import datasets\n",
    "import pandas as pd"
   ]
  },
  {
   "cell_type": "code",
   "execution_count": 54,
   "id": "5670137b-77db-4396-8bd3-4d0f440dfbed",
   "metadata": {},
   "outputs": [],
   "source": [
    "iris = datasets.load_iris()"
   ]
  },
  {
   "cell_type": "code",
   "execution_count": 55,
   "id": "5b2a60ca-fb16-4536-8d73-12d1ec4ee00d",
   "metadata": {},
   "outputs": [],
   "source": [
    "df = pd.DataFrame(iris.data, columns = iris.feature_names)\n",
    "df[\"Species\"] = iris.target"
   ]
  },
  {
   "cell_type": "code",
   "execution_count": 89,
   "id": "09216cda-bbcf-40cf-9749-db6968d9fb69",
   "metadata": {},
   "outputs": [
    {
     "data": {
      "text/html": [
       "<div>\n",
       "<style scoped>\n",
       "    .dataframe tbody tr th:only-of-type {\n",
       "        vertical-align: middle;\n",
       "    }\n",
       "\n",
       "    .dataframe tbody tr th {\n",
       "        vertical-align: top;\n",
       "    }\n",
       "\n",
       "    .dataframe thead th {\n",
       "        text-align: right;\n",
       "    }\n",
       "</style>\n",
       "<table border=\"1\" class=\"dataframe\">\n",
       "  <thead>\n",
       "    <tr style=\"text-align: right;\">\n",
       "      <th></th>\n",
       "      <th>sepal length (cm)</th>\n",
       "      <th>sepal width (cm)</th>\n",
       "      <th>petal length (cm)</th>\n",
       "      <th>petal width (cm)</th>\n",
       "      <th>Species</th>\n",
       "    </tr>\n",
       "  </thead>\n",
       "  <tbody>\n",
       "    <tr>\n",
       "      <th>0</th>\n",
       "      <td>5.1</td>\n",
       "      <td>3.5</td>\n",
       "      <td>1.4</td>\n",
       "      <td>0.2</td>\n",
       "      <td>0</td>\n",
       "    </tr>\n",
       "    <tr>\n",
       "      <th>1</th>\n",
       "      <td>4.9</td>\n",
       "      <td>3.0</td>\n",
       "      <td>1.4</td>\n",
       "      <td>0.2</td>\n",
       "      <td>0</td>\n",
       "    </tr>\n",
       "    <tr>\n",
       "      <th>2</th>\n",
       "      <td>4.7</td>\n",
       "      <td>3.2</td>\n",
       "      <td>1.3</td>\n",
       "      <td>0.2</td>\n",
       "      <td>0</td>\n",
       "    </tr>\n",
       "    <tr>\n",
       "      <th>3</th>\n",
       "      <td>4.6</td>\n",
       "      <td>3.1</td>\n",
       "      <td>1.5</td>\n",
       "      <td>0.2</td>\n",
       "      <td>0</td>\n",
       "    </tr>\n",
       "    <tr>\n",
       "      <th>4</th>\n",
       "      <td>5.0</td>\n",
       "      <td>3.6</td>\n",
       "      <td>1.4</td>\n",
       "      <td>0.2</td>\n",
       "      <td>0</td>\n",
       "    </tr>\n",
       "  </tbody>\n",
       "</table>\n",
       "</div>"
      ],
      "text/plain": [
       "   sepal length (cm)  sepal width (cm)  petal length (cm)  petal width (cm)  \\\n",
       "0                5.1               3.5                1.4               0.2   \n",
       "1                4.9               3.0                1.4               0.2   \n",
       "2                4.7               3.2                1.3               0.2   \n",
       "3                4.6               3.1                1.5               0.2   \n",
       "4                5.0               3.6                1.4               0.2   \n",
       "\n",
       "   Species  \n",
       "0        0  \n",
       "1        0  \n",
       "2        0  \n",
       "3        0  \n",
       "4        0  "
      ]
     },
     "execution_count": 89,
     "metadata": {},
     "output_type": "execute_result"
    }
   ],
   "source": [
    "df.head()"
   ]
  },
  {
   "cell_type": "code",
   "execution_count": 57,
   "id": "950f13a1-9569-4a37-bfe5-43cba4b95831",
   "metadata": {},
   "outputs": [
    {
     "data": {
      "text/plain": [
       "0    50\n",
       "1    50\n",
       "2    50\n",
       "Name: Species, dtype: int64"
      ]
     },
     "execution_count": 57,
     "metadata": {},
     "output_type": "execute_result"
    }
   ],
   "source": [
    "df[\"Species\"].value_counts()"
   ]
  },
  {
   "cell_type": "markdown",
   "id": "cb6fdc51-c183-4a6c-a87f-716d23ba1824",
   "metadata": {},
   "source": [
    "**Making it Binary Classfication**"
   ]
  },
  {
   "cell_type": "code",
   "execution_count": 58,
   "id": "67f9810d-ce75-4156-8db8-0ba9f123d611",
   "metadata": {},
   "outputs": [],
   "source": [
    "df[df[\"Species\"] != 0] = 1"
   ]
  },
  {
   "cell_type": "code",
   "execution_count": 59,
   "id": "15b725d8-9404-4aca-a3f4-5f26246fa365",
   "metadata": {},
   "outputs": [
    {
     "data": {
      "text/plain": [
       "1    100\n",
       "0     50\n",
       "Name: Species, dtype: int64"
      ]
     },
     "execution_count": 59,
     "metadata": {},
     "output_type": "execute_result"
    }
   ],
   "source": [
    "df[\"Species\"].value_counts()"
   ]
  },
  {
   "cell_type": "code",
   "execution_count": 77,
   "id": "d454ffa9-7a67-4655-a0fb-098c7ddec023",
   "metadata": {},
   "outputs": [],
   "source": [
    "X = df.drop(\"Species\", axis = 1).values\n",
    "y = df.Species.values"
   ]
  },
  {
   "cell_type": "code",
   "execution_count": 78,
   "id": "bd222319-cc1a-4e86-ae7c-19810d0a2e3b",
   "metadata": {},
   "outputs": [],
   "source": [
    "from sklearn.model_selection import train_test_split\n",
    "X_train, X_valid, y_train, y_valid = train_test_split(X, y,\n",
    "                                                    test_size=0.2,\n",
    "                                                    random_state=0)"
   ]
  },
  {
   "cell_type": "code",
   "execution_count": 79,
   "id": "ff32a4b3-ab21-4de5-b717-9de7d481dc3d",
   "metadata": {},
   "outputs": [
    {
     "data": {
      "text/plain": [
       "LogisticRegression()"
      ]
     },
     "execution_count": 79,
     "metadata": {},
     "output_type": "execute_result"
    }
   ],
   "source": [
    "from sklearn.linear_model import LogisticRegression\n",
    "\n",
    "classifier = LogisticRegression()\n",
    "\n",
    "classifier.fit(X_train, y_train)"
   ]
  },
  {
   "cell_type": "markdown",
   "id": "e5c6947a-8df5-411f-b36d-58369f39b40b",
   "metadata": {},
   "source": [
    "**Evaluation**"
   ]
  },
  {
   "cell_type": "code",
   "execution_count": 80,
   "id": "b7ccd45f-afad-41ad-a895-929d68a419fe",
   "metadata": {},
   "outputs": [],
   "source": [
    "prediction = classifier.predict(X_valid).reshape(-1,1)"
   ]
  },
  {
   "cell_type": "code",
   "execution_count": 84,
   "id": "ad0ac421-6931-4e11-bbd1-7d06ce0fb77f",
   "metadata": {},
   "outputs": [],
   "source": [
    "y_valid = y_valid.reshape(-1, 1)"
   ]
  },
  {
   "cell_type": "code",
   "execution_count": 86,
   "id": "9f5f48aa-7a0b-4607-981f-6c0d995413b4",
   "metadata": {},
   "outputs": [],
   "source": [
    "from sklearn.metrics import confusion_matrix\n",
    "\n",
    "matrix = confusion_matrix(y_valid, prediction)"
   ]
  },
  {
   "cell_type": "code",
   "execution_count": 88,
   "id": "762d00f3-9f1a-4714-9cc1-70256c76adf3",
   "metadata": {},
   "outputs": [
    {
     "data": {
      "text/plain": [
       "<AxesSubplot:>"
      ]
     },
     "execution_count": 88,
     "metadata": {},
     "output_type": "execute_result"
    },
    {
     "data": {
      "image/png": "[encoded data removed]",
      "text/plain": [
       "<Figure size 432x288 with 2 Axes>"
      ]
     },
     "metadata": {},
     "output_type": "display_data"
    }
   ],
   "source": [
    "sns.heatmap(matrix, annot = True)"
   ]
  }
 ],
 "metadata": {
  "kernelspec": {
   "display_name": "Python 3",
   "language": "python",
   "name": "python3"
  },
  "language_info": {
   "codemirror_mode": {
    "name": "ipython",
    "version": 3
   },
   "file_extension": ".py",
   "mimetype": "text/x-python",
   "name": "python",
   "nbconvert_exporter": "python",
   "pygments_lexer": "ipython3",
   "version": "3.8.10"
  }
 },
 "nbformat": 4,
 "nbformat_minor": 5
}
